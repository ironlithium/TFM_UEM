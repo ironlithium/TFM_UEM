{
  "nbformat": 4,
  "nbformat_minor": 0,
  "metadata": {
    "colab": {
      "provenance": [],
      "gpuType": "T4"
    },
    "kernelspec": {
      "name": "python3",
      "display_name": "Python 3"
    },
    "language_info": {
      "name": "python"
    },
    "accelerator": "GPU"
  },
  "cells": [
    {
      "cell_type": "code",
      "execution_count": null,
      "metadata": {
        "colab": {
          "base_uri": "https://localhost:8080/"
        },
        "id": "18uO4wzXnLxc",
        "outputId": "29fa8dc4-6ebd-470f-d162-ba2a366f5def"
      },
      "outputs": [
        {
          "output_type": "stream",
          "name": "stdout",
          "text": [
            "Mounted at /content/drive\n"
          ]
        }
      ],
      "source": [
        "from google.colab import drive\n",
        "drive.mount('/content/drive')"
      ]
    },
    {
      "cell_type": "code",
      "source": [
        "import pandas as pd\n",
        "\n",
        "df= pd.read_csv('/content/drive/MyDrive/CNN/sentiment140_vader4_sinlematizar.csv')\n",
        "df"
      ],
      "metadata": {
        "colab": {
          "base_uri": "https://localhost:8080/",
          "height": 1000
        },
        "id": "i6mORmL-vNVn",
        "outputId": "ca62d042-d2a1-46a9-c406-3050a8cae031"
      },
      "execution_count": null,
      "outputs": [
        {
          "output_type": "execute_result",
          "data": {
            "text/plain": [
              "        polarity          id                          date     query  \\\n",
              "0       negative  2184288131  Mon Jun 15 15:41:28 PDT 2009  NO_QUERY   \n",
              "1       negative  1834602716  Mon May 18 03:33:33 PDT 2009  NO_QUERY   \n",
              "2       positive  1976167179  Sat May 30 16:44:04 PDT 2009  NO_QUERY   \n",
              "3       positive  2047727017  Fri Jun 05 14:05:11 PDT 2009  NO_QUERY   \n",
              "4       positive  2014391411  Wed Jun 03 01:22:32 PDT 2009  NO_QUERY   \n",
              "...          ...         ...                           ...       ...   \n",
              "121099  negative  2175983387  Mon Jun 15 02:34:22 PDT 2009  NO_QUERY   \n",
              "121100  positive  2185123417  Mon Jun 15 16:55:17 PDT 2009  NO_QUERY   \n",
              "121101  positive  1834315088  Mon May 18 02:27:47 PDT 2009  NO_QUERY   \n",
              "121102  positive  1676509898  Fri May 01 22:15:41 PDT 2009  NO_QUERY   \n",
              "121103  positive  2057368497  Sat Jun 06 12:52:29 PDT 2009  NO_QUERY   \n",
              "\n",
              "                   user                                               text  \\\n",
              "0                 Zelus  I want my e-mail with my tracking info for my ...   \n",
              "1                S810uk  Is not happy with the weather  I'm off to the ...   \n",
              "2       MicheleBlueston  @cindyscottday and forgot...you got kiddies ho...   \n",
              "3              adrian_x  @iota @brandie will ALWAYS be number two in MY...   \n",
              "4          muchloveanna   @cjmccoll no problem  gosh, her work is amazing!   \n",
              "...                 ...                                                ...   \n",
              "121099        zapakitul  Back from school!  Two more weeks of school he...   \n",
              "121100         dreacham  @lauren_nichelle i'll be sure to let daddy kno...   \n",
              "121101   Cherry_Gryffon  @erniehalter YAYYY new country invasion XD *do...   \n",
              "121102  tessthetraveler  just came back from op shopping in wynnum ther...   \n",
              "121103          RSG3191  @julesyog Cool, what time was that? I will loo...   \n",
              "\n",
              "        vader_polarity                                       preprocesado  \\\n",
              "0               0.0772                   want email track info new iphone   \n",
              "1              -0.4585  happy weather im museum later boy sock culture...   \n",
              "2               0.5106  forgotyou get kiddy home still free agent take...   \n",
              "3               0.0772                             always number two book   \n",
              "4               0.7469                            problem josh work amaze   \n",
              "...                ...                                                ...   \n",
              "121099         -0.6467        back school two week school hate highschool   \n",
              "121100          0.7639          ill sure let daddy know hell really happy   \n",
              "121101          0.6739              yyy new country invasion xd wi helmet   \n",
              "121102          0.6184  come back op shopping wynnum many 2nd hand sto...   \n",
              "121103          0.3182                                     cool time look   \n",
              "\n",
              "        word_count                          preprocesado_constopwords  label  \\\n",
              "0               12  i want my email with my track info for my new ...      0   \n",
              "1               27  is not happy with the weather im off to the mu...      0   \n",
              "2               16  and forgotyou get kiddy home still free agent ...      1   \n",
              "3                8                will always be number two in m book      1   \n",
              "4                7                  no problem josh her work be amaze      1   \n",
              "...            ...                                                ...    ...   \n",
              "121099          13  back from school two more week of school here ...      0   \n",
              "121100          11  ill be sure to let daddy know hell be really h...      1   \n",
              "121101           8          yyy new country invasion xd don wi helmet      1   \n",
              "121102          24  just come back from op shopping in wynnum ther...      1   \n",
              "121103          11     cool what time be that i will look out for you      1   \n",
              "\n",
              "                                preprocesado_sinlematizar  \n",
              "0       i want my email with my tracking info for my n...  \n",
              "1       is not happy with the weather im off to the mu...  \n",
              "2       and forgotyou got kiddies home still free agen...  \n",
              "3                     will always be number two in m book  \n",
              "4                     no problem josh her work is amazing  \n",
              "...                                                   ...  \n",
              "121099  back from school two more weeks of school here...  \n",
              "121100  ill be sure to let daddy know hell be really h...  \n",
              "121101         yyy new country invasion xd dons wi helmet  \n",
              "121102  just came back from op shopping in wynnum ther...  \n",
              "121103    cool what time was that i will look out for you  \n",
              "\n",
              "[121104 rows x 12 columns]"
            ],
            "text/html": [
              "\n",
              "  <div id=\"df-4af5e1da-47e6-4c05-b672-2e2ebb8eb495\" class=\"colab-df-container\">\n",
              "    <div>\n",
              "<style scoped>\n",
              "    .dataframe tbody tr th:only-of-type {\n",
              "        vertical-align: middle;\n",
              "    }\n",
              "\n",
              "    .dataframe tbody tr th {\n",
              "        vertical-align: top;\n",
              "    }\n",
              "\n",
              "    .dataframe thead th {\n",
              "        text-align: right;\n",
              "    }\n",
              "</style>\n",
              "<table border=\"1\" class=\"dataframe\">\n",
              "  <thead>\n",
              "    <tr style=\"text-align: right;\">\n",
              "      <th></th>\n",
              "      <th>polarity</th>\n",
              "      <th>id</th>\n",
              "      <th>date</th>\n",
              "      <th>query</th>\n",
              "      <th>user</th>\n",
              "      <th>text</th>\n",
              "      <th>vader_polarity</th>\n",
              "      <th>preprocesado</th>\n",
              "      <th>word_count</th>\n",
              "      <th>preprocesado_constopwords</th>\n",
              "      <th>label</th>\n",
              "      <th>preprocesado_sinlematizar</th>\n",
              "    </tr>\n",
              "  </thead>\n",
              "  <tbody>\n",
              "    <tr>\n",
              "      <th>0</th>\n",
              "      <td>negative</td>\n",
              "      <td>2184288131</td>\n",
              "      <td>Mon Jun 15 15:41:28 PDT 2009</td>\n",
              "      <td>NO_QUERY</td>\n",
              "      <td>Zelus</td>\n",
              "      <td>I want my e-mail with my tracking info for my ...</td>\n",
              "      <td>0.0772</td>\n",
              "      <td>want email track info new iphone</td>\n",
              "      <td>12</td>\n",
              "      <td>i want my email with my track info for my new ...</td>\n",
              "      <td>0</td>\n",
              "      <td>i want my email with my tracking info for my n...</td>\n",
              "    </tr>\n",
              "    <tr>\n",
              "      <th>1</th>\n",
              "      <td>negative</td>\n",
              "      <td>1834602716</td>\n",
              "      <td>Mon May 18 03:33:33 PDT 2009</td>\n",
              "      <td>NO_QUERY</td>\n",
              "      <td>S810uk</td>\n",
              "      <td>Is not happy with the weather  I'm off to the ...</td>\n",
              "      <td>-0.4585</td>\n",
              "      <td>happy weather im museum later boy sock culture...</td>\n",
              "      <td>27</td>\n",
              "      <td>is not happy with the weather im off to the mu...</td>\n",
              "      <td>0</td>\n",
              "      <td>is not happy with the weather im off to the mu...</td>\n",
              "    </tr>\n",
              "    <tr>\n",
              "      <th>2</th>\n",
              "      <td>positive</td>\n",
              "      <td>1976167179</td>\n",
              "      <td>Sat May 30 16:44:04 PDT 2009</td>\n",
              "      <td>NO_QUERY</td>\n",
              "      <td>MicheleBlueston</td>\n",
              "      <td>@cindyscottday and forgot...you got kiddies ho...</td>\n",
              "      <td>0.5106</td>\n",
              "      <td>forgotyou get kiddy home still free agent take...</td>\n",
              "      <td>16</td>\n",
              "      <td>and forgotyou get kiddy home still free agent ...</td>\n",
              "      <td>1</td>\n",
              "      <td>and forgotyou got kiddies home still free agen...</td>\n",
              "    </tr>\n",
              "    <tr>\n",
              "      <th>3</th>\n",
              "      <td>positive</td>\n",
              "      <td>2047727017</td>\n",
              "      <td>Fri Jun 05 14:05:11 PDT 2009</td>\n",
              "      <td>NO_QUERY</td>\n",
              "      <td>adrian_x</td>\n",
              "      <td>@iota @brandie will ALWAYS be number two in MY...</td>\n",
              "      <td>0.0772</td>\n",
              "      <td>always number two book</td>\n",
              "      <td>8</td>\n",
              "      <td>will always be number two in m book</td>\n",
              "      <td>1</td>\n",
              "      <td>will always be number two in m book</td>\n",
              "    </tr>\n",
              "    <tr>\n",
              "      <th>4</th>\n",
              "      <td>positive</td>\n",
              "      <td>2014391411</td>\n",
              "      <td>Wed Jun 03 01:22:32 PDT 2009</td>\n",
              "      <td>NO_QUERY</td>\n",
              "      <td>muchloveanna</td>\n",
              "      <td>@cjmccoll no problem  gosh, her work is amazing!</td>\n",
              "      <td>0.7469</td>\n",
              "      <td>problem josh work amaze</td>\n",
              "      <td>7</td>\n",
              "      <td>no problem josh her work be amaze</td>\n",
              "      <td>1</td>\n",
              "      <td>no problem josh her work is amazing</td>\n",
              "    </tr>\n",
              "    <tr>\n",
              "      <th>...</th>\n",
              "      <td>...</td>\n",
              "      <td>...</td>\n",
              "      <td>...</td>\n",
              "      <td>...</td>\n",
              "      <td>...</td>\n",
              "      <td>...</td>\n",
              "      <td>...</td>\n",
              "      <td>...</td>\n",
              "      <td>...</td>\n",
              "      <td>...</td>\n",
              "      <td>...</td>\n",
              "      <td>...</td>\n",
              "    </tr>\n",
              "    <tr>\n",
              "      <th>121099</th>\n",
              "      <td>negative</td>\n",
              "      <td>2175983387</td>\n",
              "      <td>Mon Jun 15 02:34:22 PDT 2009</td>\n",
              "      <td>NO_QUERY</td>\n",
              "      <td>zapakitul</td>\n",
              "      <td>Back from school!  Two more weeks of school he...</td>\n",
              "      <td>-0.6467</td>\n",
              "      <td>back school two week school hate highschool</td>\n",
              "      <td>13</td>\n",
              "      <td>back from school two more week of school here ...</td>\n",
              "      <td>0</td>\n",
              "      <td>back from school two more weeks of school here...</td>\n",
              "    </tr>\n",
              "    <tr>\n",
              "      <th>121100</th>\n",
              "      <td>positive</td>\n",
              "      <td>2185123417</td>\n",
              "      <td>Mon Jun 15 16:55:17 PDT 2009</td>\n",
              "      <td>NO_QUERY</td>\n",
              "      <td>dreacham</td>\n",
              "      <td>@lauren_nichelle i'll be sure to let daddy kno...</td>\n",
              "      <td>0.7639</td>\n",
              "      <td>ill sure let daddy know hell really happy</td>\n",
              "      <td>11</td>\n",
              "      <td>ill be sure to let daddy know hell be really h...</td>\n",
              "      <td>1</td>\n",
              "      <td>ill be sure to let daddy know hell be really h...</td>\n",
              "    </tr>\n",
              "    <tr>\n",
              "      <th>121101</th>\n",
              "      <td>positive</td>\n",
              "      <td>1834315088</td>\n",
              "      <td>Mon May 18 02:27:47 PDT 2009</td>\n",
              "      <td>NO_QUERY</td>\n",
              "      <td>Cherry_Gryffon</td>\n",
              "      <td>@erniehalter YAYYY new country invasion XD *do...</td>\n",
              "      <td>0.6739</td>\n",
              "      <td>yyy new country invasion xd wi helmet</td>\n",
              "      <td>8</td>\n",
              "      <td>yyy new country invasion xd don wi helmet</td>\n",
              "      <td>1</td>\n",
              "      <td>yyy new country invasion xd dons wi helmet</td>\n",
              "    </tr>\n",
              "    <tr>\n",
              "      <th>121102</th>\n",
              "      <td>positive</td>\n",
              "      <td>1676509898</td>\n",
              "      <td>Fri May 01 22:15:41 PDT 2009</td>\n",
              "      <td>NO_QUERY</td>\n",
              "      <td>tessthetraveler</td>\n",
              "      <td>just came back from op shopping in wynnum ther...</td>\n",
              "      <td>0.6184</td>\n",
              "      <td>come back op shopping wynnum many 2nd hand sto...</td>\n",
              "      <td>24</td>\n",
              "      <td>just come back from op shopping in wynnum ther...</td>\n",
              "      <td>1</td>\n",
              "      <td>just came back from op shopping in wynnum ther...</td>\n",
              "    </tr>\n",
              "    <tr>\n",
              "      <th>121103</th>\n",
              "      <td>positive</td>\n",
              "      <td>2057368497</td>\n",
              "      <td>Sat Jun 06 12:52:29 PDT 2009</td>\n",
              "      <td>NO_QUERY</td>\n",
              "      <td>RSG3191</td>\n",
              "      <td>@julesyog Cool, what time was that? I will loo...</td>\n",
              "      <td>0.3182</td>\n",
              "      <td>cool time look</td>\n",
              "      <td>11</td>\n",
              "      <td>cool what time be that i will look out for you</td>\n",
              "      <td>1</td>\n",
              "      <td>cool what time was that i will look out for you</td>\n",
              "    </tr>\n",
              "  </tbody>\n",
              "</table>\n",
              "<p>121104 rows × 12 columns</p>\n",
              "</div>\n",
              "    <div class=\"colab-df-buttons\">\n",
              "\n",
              "  <div class=\"colab-df-container\">\n",
              "    <button class=\"colab-df-convert\" onclick=\"convertToInteractive('df-4af5e1da-47e6-4c05-b672-2e2ebb8eb495')\"\n",
              "            title=\"Convert this dataframe to an interactive table.\"\n",
              "            style=\"display:none;\">\n",
              "\n",
              "  <svg xmlns=\"http://www.w3.org/2000/svg\" height=\"24px\" viewBox=\"0 -960 960 960\">\n",
              "    <path d=\"M120-120v-720h720v720H120Zm60-500h600v-160H180v160Zm220 220h160v-160H400v160Zm0 220h160v-160H400v160ZM180-400h160v-160H180v160Zm440 0h160v-160H620v160ZM180-180h160v-160H180v160Zm440 0h160v-160H620v160Z\"/>\n",
              "  </svg>\n",
              "    </button>\n",
              "\n",
              "  <style>\n",
              "    .colab-df-container {\n",
              "      display:flex;\n",
              "      gap: 12px;\n",
              "    }\n",
              "\n",
              "    .colab-df-convert {\n",
              "      background-color: #E8F0FE;\n",
              "      border: none;\n",
              "      border-radius: 50%;\n",
              "      cursor: pointer;\n",
              "      display: none;\n",
              "      fill: #1967D2;\n",
              "      height: 32px;\n",
              "      padding: 0 0 0 0;\n",
              "      width: 32px;\n",
              "    }\n",
              "\n",
              "    .colab-df-convert:hover {\n",
              "      background-color: #E2EBFA;\n",
              "      box-shadow: 0px 1px 2px rgba(60, 64, 67, 0.3), 0px 1px 3px 1px rgba(60, 64, 67, 0.15);\n",
              "      fill: #174EA6;\n",
              "    }\n",
              "\n",
              "    .colab-df-buttons div {\n",
              "      margin-bottom: 4px;\n",
              "    }\n",
              "\n",
              "    [theme=dark] .colab-df-convert {\n",
              "      background-color: #3B4455;\n",
              "      fill: #D2E3FC;\n",
              "    }\n",
              "\n",
              "    [theme=dark] .colab-df-convert:hover {\n",
              "      background-color: #434B5C;\n",
              "      box-shadow: 0px 1px 3px 1px rgba(0, 0, 0, 0.15);\n",
              "      filter: drop-shadow(0px 1px 2px rgba(0, 0, 0, 0.3));\n",
              "      fill: #FFFFFF;\n",
              "    }\n",
              "  </style>\n",
              "\n",
              "    <script>\n",
              "      const buttonEl =\n",
              "        document.querySelector('#df-4af5e1da-47e6-4c05-b672-2e2ebb8eb495 button.colab-df-convert');\n",
              "      buttonEl.style.display =\n",
              "        google.colab.kernel.accessAllowed ? 'block' : 'none';\n",
              "\n",
              "      async function convertToInteractive(key) {\n",
              "        const element = document.querySelector('#df-4af5e1da-47e6-4c05-b672-2e2ebb8eb495');\n",
              "        const dataTable =\n",
              "          await google.colab.kernel.invokeFunction('convertToInteractive',\n",
              "                                                    [key], {});\n",
              "        if (!dataTable) return;\n",
              "\n",
              "        const docLinkHtml = 'Like what you see? Visit the ' +\n",
              "          '<a target=\"_blank\" href=https://colab.research.google.com/notebooks/data_table.ipynb>data table notebook</a>'\n",
              "          + ' to learn more about interactive tables.';\n",
              "        element.innerHTML = '';\n",
              "        dataTable['output_type'] = 'display_data';\n",
              "        await google.colab.output.renderOutput(dataTable, element);\n",
              "        const docLink = document.createElement('div');\n",
              "        docLink.innerHTML = docLinkHtml;\n",
              "        element.appendChild(docLink);\n",
              "      }\n",
              "    </script>\n",
              "  </div>\n",
              "\n",
              "\n",
              "<div id=\"df-40ac137a-cb20-4367-ac84-494d88eee242\">\n",
              "  <button class=\"colab-df-quickchart\" onclick=\"quickchart('df-40ac137a-cb20-4367-ac84-494d88eee242')\"\n",
              "            title=\"Suggest charts\"\n",
              "            style=\"display:none;\">\n",
              "\n",
              "<svg xmlns=\"http://www.w3.org/2000/svg\" height=\"24px\"viewBox=\"0 0 24 24\"\n",
              "     width=\"24px\">\n",
              "    <g>\n",
              "        <path d=\"M19 3H5c-1.1 0-2 .9-2 2v14c0 1.1.9 2 2 2h14c1.1 0 2-.9 2-2V5c0-1.1-.9-2-2-2zM9 17H7v-7h2v7zm4 0h-2V7h2v10zm4 0h-2v-4h2v4z\"/>\n",
              "    </g>\n",
              "</svg>\n",
              "  </button>\n",
              "\n",
              "<style>\n",
              "  .colab-df-quickchart {\n",
              "      --bg-color: #E8F0FE;\n",
              "      --fill-color: #1967D2;\n",
              "      --hover-bg-color: #E2EBFA;\n",
              "      --hover-fill-color: #174EA6;\n",
              "      --disabled-fill-color: #AAA;\n",
              "      --disabled-bg-color: #DDD;\n",
              "  }\n",
              "\n",
              "  [theme=dark] .colab-df-quickchart {\n",
              "      --bg-color: #3B4455;\n",
              "      --fill-color: #D2E3FC;\n",
              "      --hover-bg-color: #434B5C;\n",
              "      --hover-fill-color: #FFFFFF;\n",
              "      --disabled-bg-color: #3B4455;\n",
              "      --disabled-fill-color: #666;\n",
              "  }\n",
              "\n",
              "  .colab-df-quickchart {\n",
              "    background-color: var(--bg-color);\n",
              "    border: none;\n",
              "    border-radius: 50%;\n",
              "    cursor: pointer;\n",
              "    display: none;\n",
              "    fill: var(--fill-color);\n",
              "    height: 32px;\n",
              "    padding: 0;\n",
              "    width: 32px;\n",
              "  }\n",
              "\n",
              "  .colab-df-quickchart:hover {\n",
              "    background-color: var(--hover-bg-color);\n",
              "    box-shadow: 0 1px 2px rgba(60, 64, 67, 0.3), 0 1px 3px 1px rgba(60, 64, 67, 0.15);\n",
              "    fill: var(--button-hover-fill-color);\n",
              "  }\n",
              "\n",
              "  .colab-df-quickchart-complete:disabled,\n",
              "  .colab-df-quickchart-complete:disabled:hover {\n",
              "    background-color: var(--disabled-bg-color);\n",
              "    fill: var(--disabled-fill-color);\n",
              "    box-shadow: none;\n",
              "  }\n",
              "\n",
              "  .colab-df-spinner {\n",
              "    border: 2px solid var(--fill-color);\n",
              "    border-color: transparent;\n",
              "    border-bottom-color: var(--fill-color);\n",
              "    animation:\n",
              "      spin 1s steps(1) infinite;\n",
              "  }\n",
              "\n",
              "  @keyframes spin {\n",
              "    0% {\n",
              "      border-color: transparent;\n",
              "      border-bottom-color: var(--fill-color);\n",
              "      border-left-color: var(--fill-color);\n",
              "    }\n",
              "    20% {\n",
              "      border-color: transparent;\n",
              "      border-left-color: var(--fill-color);\n",
              "      border-top-color: var(--fill-color);\n",
              "    }\n",
              "    30% {\n",
              "      border-color: transparent;\n",
              "      border-left-color: var(--fill-color);\n",
              "      border-top-color: var(--fill-color);\n",
              "      border-right-color: var(--fill-color);\n",
              "    }\n",
              "    40% {\n",
              "      border-color: transparent;\n",
              "      border-right-color: var(--fill-color);\n",
              "      border-top-color: var(--fill-color);\n",
              "    }\n",
              "    60% {\n",
              "      border-color: transparent;\n",
              "      border-right-color: var(--fill-color);\n",
              "    }\n",
              "    80% {\n",
              "      border-color: transparent;\n",
              "      border-right-color: var(--fill-color);\n",
              "      border-bottom-color: var(--fill-color);\n",
              "    }\n",
              "    90% {\n",
              "      border-color: transparent;\n",
              "      border-bottom-color: var(--fill-color);\n",
              "    }\n",
              "  }\n",
              "</style>\n",
              "\n",
              "  <script>\n",
              "    async function quickchart(key) {\n",
              "      const quickchartButtonEl =\n",
              "        document.querySelector('#' + key + ' button');\n",
              "      quickchartButtonEl.disabled = true;  // To prevent multiple clicks.\n",
              "      quickchartButtonEl.classList.add('colab-df-spinner');\n",
              "      try {\n",
              "        const charts = await google.colab.kernel.invokeFunction(\n",
              "            'suggestCharts', [key], {});\n",
              "      } catch (error) {\n",
              "        console.error('Error during call to suggestCharts:', error);\n",
              "      }\n",
              "      quickchartButtonEl.classList.remove('colab-df-spinner');\n",
              "      quickchartButtonEl.classList.add('colab-df-quickchart-complete');\n",
              "    }\n",
              "    (() => {\n",
              "      let quickchartButtonEl =\n",
              "        document.querySelector('#df-40ac137a-cb20-4367-ac84-494d88eee242 button');\n",
              "      quickchartButtonEl.style.display =\n",
              "        google.colab.kernel.accessAllowed ? 'block' : 'none';\n",
              "    })();\n",
              "  </script>\n",
              "</div>\n",
              "\n",
              "  <div id=\"id_678ca8e3-4d37-437b-b5c6-c585d6cac77e\">\n",
              "    <style>\n",
              "      .colab-df-generate {\n",
              "        background-color: #E8F0FE;\n",
              "        border: none;\n",
              "        border-radius: 50%;\n",
              "        cursor: pointer;\n",
              "        display: none;\n",
              "        fill: #1967D2;\n",
              "        height: 32px;\n",
              "        padding: 0 0 0 0;\n",
              "        width: 32px;\n",
              "      }\n",
              "\n",
              "      .colab-df-generate:hover {\n",
              "        background-color: #E2EBFA;\n",
              "        box-shadow: 0px 1px 2px rgba(60, 64, 67, 0.3), 0px 1px 3px 1px rgba(60, 64, 67, 0.15);\n",
              "        fill: #174EA6;\n",
              "      }\n",
              "\n",
              "      [theme=dark] .colab-df-generate {\n",
              "        background-color: #3B4455;\n",
              "        fill: #D2E3FC;\n",
              "      }\n",
              "\n",
              "      [theme=dark] .colab-df-generate:hover {\n",
              "        background-color: #434B5C;\n",
              "        box-shadow: 0px 1px 3px 1px rgba(0, 0, 0, 0.15);\n",
              "        filter: drop-shadow(0px 1px 2px rgba(0, 0, 0, 0.3));\n",
              "        fill: #FFFFFF;\n",
              "      }\n",
              "    </style>\n",
              "    <button class=\"colab-df-generate\" onclick=\"generateWithVariable('df')\"\n",
              "            title=\"Generate code using this dataframe.\"\n",
              "            style=\"display:none;\">\n",
              "\n",
              "  <svg xmlns=\"http://www.w3.org/2000/svg\" height=\"24px\"viewBox=\"0 0 24 24\"\n",
              "       width=\"24px\">\n",
              "    <path d=\"M7,19H8.4L18.45,9,17,7.55,7,17.6ZM5,21V16.75L18.45,3.32a2,2,0,0,1,2.83,0l1.4,1.43a1.91,1.91,0,0,1,.58,1.4,1.91,1.91,0,0,1-.58,1.4L9.25,21ZM18.45,9,17,7.55Zm-12,3A5.31,5.31,0,0,0,4.9,8.1,5.31,5.31,0,0,0,1,6.5,5.31,5.31,0,0,0,4.9,4.9,5.31,5.31,0,0,0,6.5,1,5.31,5.31,0,0,0,8.1,4.9,5.31,5.31,0,0,0,12,6.5,5.46,5.46,0,0,0,6.5,12Z\"/>\n",
              "  </svg>\n",
              "    </button>\n",
              "    <script>\n",
              "      (() => {\n",
              "      const buttonEl =\n",
              "        document.querySelector('#id_678ca8e3-4d37-437b-b5c6-c585d6cac77e button.colab-df-generate');\n",
              "      buttonEl.style.display =\n",
              "        google.colab.kernel.accessAllowed ? 'block' : 'none';\n",
              "\n",
              "      buttonEl.onclick = () => {\n",
              "        google.colab.notebook.generateWithVariable('df');\n",
              "      }\n",
              "      })();\n",
              "    </script>\n",
              "  </div>\n",
              "\n",
              "    </div>\n",
              "  </div>\n"
            ],
            "application/vnd.google.colaboratory.intrinsic+json": {
              "type": "dataframe",
              "variable_name": "df"
            }
          },
          "metadata": {},
          "execution_count": 2
        }
      ]
    },
    {
      "cell_type": "code",
      "source": [
        "from sklearn.model_selection import train_test_split\n",
        "\n",
        "# Dividir el conjunto de datos en entrenamiento y prueba\n",
        "X = df['preprocesado_sinlematizar']\n",
        "y = df['label']\n",
        "\n",
        "# Primero dividimos en entrenamiento (80%) y prueba (20%)\n",
        "X_temp, X_test, y_temp, y_test = train_test_split(X, y, test_size=0.2, random_state=34, stratify=y)\n",
        "\n",
        "# Luego dividimos el conjunto temporal en entrenamiento (80% de 80%) y validación (20% de 80%)\n",
        "X_train, X_val, y_train, y_val = train_test_split(X_temp, y_temp, test_size=0.2, random_state=34, stratify=y_temp)\n"
      ],
      "metadata": {
        "id": "cQUiBrFivO86"
      },
      "execution_count": null,
      "outputs": []
    },
    {
      "cell_type": "code",
      "source": [
        "import numpy as np\n",
        "embedding_matrix_x_train= np.load('/content/drive/MyDrive/embeddings_matrix_validation.npy')"
      ],
      "metadata": {
        "id": "O3ELn4kTvVXA"
      },
      "execution_count": null,
      "outputs": []
    },
    {
      "cell_type": "code",
      "source": [
        "from tensorflow.keras.preprocessing.text import Tokenizer\n",
        "from tensorflow.keras.preprocessing.sequence import pad_sequences\n",
        "\n",
        "# Configuración de Tokenizer\n",
        "tokenizer = Tokenizer()\n",
        "tokenizer.fit_on_texts(X_train.astype(str))\n",
        "sequences = tokenizer.texts_to_sequences(X_train.astype(str))\n",
        "\n",
        "max_length=25\n",
        "X_train_def = pad_sequences(sequences, maxlen=max_length, padding='post')\n",
        "\n",
        "\n",
        "embedding_dim = 400\n",
        "word_index = tokenizer.word_index\n",
        "num_words = len(word_index) + 1"
      ],
      "metadata": {
        "id": "_lERwv1ivXw1"
      },
      "execution_count": null,
      "outputs": []
    },
    {
      "cell_type": "code",
      "source": [
        "# Convertir X_test a secuencias numéricas\n",
        "sequences_test = tokenizer.texts_to_sequences(X_test.astype(str))  # Convertir a secuencias\n",
        "X_test_def = pad_sequences(sequences_test, maxlen=max_length, padding='post')  # Asegurarse de que tengan la misma longitud que max_len\n",
        "\n",
        "# Convertir X_val a secuencias numéricas\n",
        "sequences_val = tokenizer.texts_to_sequences(X_val.astype(str))  # Convertir a secuencias\n",
        "X_val_def = pad_sequences(sequences_val, maxlen=max_length, padding='post')  # Asegurar la longitud adecuada\n"
      ],
      "metadata": {
        "id": "OPmkeZCMvZxa"
      },
      "execution_count": null,
      "outputs": []
    },
    {
      "cell_type": "code",
      "source": [
        "len(X_test_def[0])"
      ],
      "metadata": {
        "colab": {
          "base_uri": "https://localhost:8080/"
        },
        "id": "Ph8dPPOixTQ4",
        "outputId": "dc6fca9f-2d16-4e25-e32a-3210c7a351c1"
      },
      "execution_count": null,
      "outputs": [
        {
          "output_type": "execute_result",
          "data": {
            "text/plain": [
              "25"
            ]
          },
          "metadata": {},
          "execution_count": 7
        }
      ]
    },
    {
      "cell_type": "code",
      "source": [
        "import numpy as np\n",
        "import random\n",
        "import tensorflow as tf\n",
        "from tensorflow.keras.models import Sequential\n",
        "from tensorflow.keras.layers import Embedding, Conv1D, MaxPooling1D, Flatten, LSTM, Dense, Dropout, BatchNormalization, Bidirectional\n",
        "from tensorflow.keras.callbacks import EarlyStopping\n",
        "\n",
        "# Parámetros\n",
        "max_len = X_train_def.shape[1]\n",
        "seed=42\n",
        "np.random.seed(seed)\n",
        "random.seed(seed)\n",
        "tf.random.set_seed(seed)\n",
        "\n",
        "model = Sequential()\n",
        "model.add(Embedding(input_dim=num_words, output_dim=embedding_dim, weights=[embedding_matrix_x_train], trainable=False, input_length=max_len))\n",
        "model.add(Dropout(0.25))\n",
        "model.add(Conv1D(64 , 3 , padding = 'same',activation = 'relu'))\n",
        "model.add(MaxPooling1D(2))\n",
        "\n",
        "model.add(Flatten())\n",
        "model.add(Dense(64, activation='relu'))\n",
        "\n",
        "model.add(Dense(1, activation='sigmoid'))\n",
        "\n",
        "from tensorflow.keras.optimizers import Adam\n",
        "optimizer = Adam(learning_rate=0.0005)  # Reducir el learning rate\n",
        "model.compile(loss='binary_crossentropy', optimizer=optimizer, metrics=['accuracy']) # Función de pérdida binaria\n",
        "\n",
        "# Definir Early Stopping\n",
        "early_stopping = EarlyStopping(monitor='val_accuracy', patience=3, restore_best_weights=True)\n",
        "\n",
        "# Entrenamiento con Early Stopping usando conjuntos de validación específicos\n",
        "history = model.fit(\n",
        "    X_train_def, y_train,\n",
        "    epochs=20,\n",
        "    batch_size=32,\n",
        "    validation_data=(X_val_def, y_val),  # Especifica los conjuntos de validación\n",
        "    callbacks=[early_stopping]\n",
        ")"
      ],
      "metadata": {
        "colab": {
          "base_uri": "https://localhost:8080/"
        },
        "id": "r1Fb87PSvbO_",
        "outputId": "70b2ab13-6798-4fac-f5b9-fd007669d304"
      },
      "execution_count": null,
      "outputs": [
        {
          "output_type": "stream",
          "name": "stderr",
          "text": [
            "/usr/local/lib/python3.10/dist-packages/keras/src/layers/core/embedding.py:90: UserWarning: Argument `input_length` is deprecated. Just remove it.\n",
            "  warnings.warn(\n"
          ]
        },
        {
          "output_type": "stream",
          "name": "stdout",
          "text": [
            "Epoch 1/20\n",
            "\u001b[1m2423/2423\u001b[0m \u001b[32m━━━━━━━━━━━━━━━━━━━━\u001b[0m\u001b[37m\u001b[0m \u001b[1m14s\u001b[0m 4ms/step - accuracy: 0.7412 - loss: 0.4969 - val_accuracy: 0.8317 - val_loss: 0.3728\n",
            "Epoch 2/20\n",
            "\u001b[1m2423/2423\u001b[0m \u001b[32m━━━━━━━━━━━━━━━━━━━━\u001b[0m\u001b[37m\u001b[0m \u001b[1m14s\u001b[0m 2ms/step - accuracy: 0.8319 - loss: 0.3719 - val_accuracy: 0.8430 - val_loss: 0.3523\n",
            "Epoch 3/20\n",
            "\u001b[1m2423/2423\u001b[0m \u001b[32m━━━━━━━━━━━━━━━━━━━━\u001b[0m\u001b[37m\u001b[0m \u001b[1m7s\u001b[0m 3ms/step - accuracy: 0.8508 - loss: 0.3349 - val_accuracy: 0.8443 - val_loss: 0.3468\n",
            "Epoch 4/20\n",
            "\u001b[1m2423/2423\u001b[0m \u001b[32m━━━━━━━━━━━━━━━━━━━━\u001b[0m\u001b[37m\u001b[0m \u001b[1m6s\u001b[0m 3ms/step - accuracy: 0.8614 - loss: 0.3115 - val_accuracy: 0.8438 - val_loss: 0.3556\n",
            "Epoch 5/20\n",
            "\u001b[1m2423/2423\u001b[0m \u001b[32m━━━━━━━━━━━━━━━━━━━━\u001b[0m\u001b[37m\u001b[0m \u001b[1m6s\u001b[0m 3ms/step - accuracy: 0.8724 - loss: 0.2915 - val_accuracy: 0.8436 - val_loss: 0.3556\n",
            "Epoch 6/20\n",
            "\u001b[1m2423/2423\u001b[0m \u001b[32m━━━━━━━━━━━━━━━━━━━━\u001b[0m\u001b[37m\u001b[0m \u001b[1m10s\u001b[0m 2ms/step - accuracy: 0.8831 - loss: 0.2689 - val_accuracy: 0.8417 - val_loss: 0.3634\n"
          ]
        }
      ]
    },
    {
      "cell_type": "code",
      "source": [
        "\n",
        "test_loss, test_accuracy = model.evaluate(X_test_def, y_test, batch_size=64)\n",
        "\n",
        "print(f\"Pérdida en el conjunto de test: {test_loss}\")\n",
        "print(f\"Precisión en el conjunto de test: {test_accuracy}\")"
      ],
      "metadata": {
        "colab": {
          "base_uri": "https://localhost:8080/"
        },
        "id": "cfDTJgMBxVGV",
        "outputId": "be69e863-b82f-4986-8770-f6aece0eb485"
      },
      "execution_count": null,
      "outputs": [
        {
          "output_type": "stream",
          "name": "stdout",
          "text": [
            "\u001b[1m379/379\u001b[0m \u001b[32m━━━━━━━━━━━━━━━━━━━━\u001b[0m\u001b[37m\u001b[0m \u001b[1m1s\u001b[0m 2ms/step - accuracy: 0.8450 - loss: 0.3420\n",
            "Pérdida en el conjunto de test: 0.34704089164733887\n",
            "Precisión en el conjunto de test: 0.8431939482688904\n"
          ]
        }
      ]
    },
    {
      "cell_type": "code",
      "source": [
        "import numpy as np\n",
        "import random\n",
        "import tensorflow as tf\n",
        "from tensorflow.keras.models import Sequential\n",
        "from tensorflow.keras.layers import Embedding, Conv1D, MaxPooling1D, Flatten, LSTM, Dense, Dropout, BatchNormalization, Bidirectional\n",
        "from tensorflow.keras.callbacks import EarlyStopping\n",
        "\n",
        "# Parámetros\n",
        "max_len = X_train_def.shape[1]\n",
        "seed=42\n",
        "np.random.seed(seed)\n",
        "random.seed(seed)\n",
        "tf.random.set_seed(seed)\n",
        "\n",
        "model = Sequential()\n",
        "model.add(Embedding(input_dim=num_words, output_dim=embedding_dim, weights=[embedding_matrix_x_train], trainable=False, input_length=max_len))\n",
        "model.add(Dropout(0.25))\n",
        "model.add(Conv1D(64 , 3 , padding = 'same',activation = 'relu'))\n",
        "model.add(MaxPooling1D(2))\n",
        "model.add(Dropout(0.3))\n",
        "model.add(Flatten())\n",
        "model.add(Dense(64, activation='relu'))\n",
        "\n",
        "model.add(Dense(1, activation='sigmoid'))\n",
        "\n",
        "from tensorflow.keras.optimizers import Adam\n",
        "optimizer = Adam(learning_rate=0.0005)  # Reducir el learning rate\n",
        "model.compile(loss='binary_crossentropy', optimizer=optimizer, metrics=['accuracy']) # Función de pérdida binaria\n",
        "\n",
        "# Definir Early Stopping\n",
        "early_stopping = EarlyStopping(monitor='val_accuracy', patience=3, restore_best_weights=True)\n",
        "\n",
        "# Entrenamiento con Early Stopping usando conjuntos de validación específicos\n",
        "history = model.fit(\n",
        "    X_train_def, y_train,\n",
        "    epochs=20,\n",
        "    batch_size=32,\n",
        "    validation_data=(X_val_def, y_val),  # Especifica los conjuntos de validación\n",
        "    callbacks=[early_stopping]\n",
        ")"
      ],
      "metadata": {
        "colab": {
          "base_uri": "https://localhost:8080/"
        },
        "id": "EVKqHyFE3HLm",
        "outputId": "5d98537b-e208-4c97-bb29-77a38c70126c"
      },
      "execution_count": null,
      "outputs": [
        {
          "output_type": "stream",
          "name": "stderr",
          "text": [
            "/usr/local/lib/python3.10/dist-packages/keras/src/layers/core/embedding.py:90: UserWarning: Argument `input_length` is deprecated. Just remove it.\n",
            "  warnings.warn(\n"
          ]
        },
        {
          "output_type": "stream",
          "name": "stdout",
          "text": [
            "Epoch 1/20\n",
            "\u001b[1m2423/2423\u001b[0m \u001b[32m━━━━━━━━━━━━━━━━━━━━\u001b[0m\u001b[37m\u001b[0m \u001b[1m17s\u001b[0m 4ms/step - accuracy: 0.7269 - loss: 0.5171 - val_accuracy: 0.8318 - val_loss: 0.3745\n",
            "Epoch 2/20\n",
            "\u001b[1m2423/2423\u001b[0m \u001b[32m━━━━━━━━━━━━━━━━━━━━\u001b[0m\u001b[37m\u001b[0m \u001b[1m14s\u001b[0m 3ms/step - accuracy: 0.8214 - loss: 0.3887 - val_accuracy: 0.8399 - val_loss: 0.3562\n",
            "Epoch 3/20\n",
            "\u001b[1m2423/2423\u001b[0m \u001b[32m━━━━━━━━━━━━━━━━━━━━\u001b[0m\u001b[37m\u001b[0m \u001b[1m6s\u001b[0m 3ms/step - accuracy: 0.8334 - loss: 0.3635 - val_accuracy: 0.8428 - val_loss: 0.3495\n",
            "Epoch 4/20\n",
            "\u001b[1m2423/2423\u001b[0m \u001b[32m━━━━━━━━━━━━━━━━━━━━\u001b[0m\u001b[37m\u001b[0m \u001b[1m10s\u001b[0m 3ms/step - accuracy: 0.8410 - loss: 0.3482 - val_accuracy: 0.8405 - val_loss: 0.3521\n",
            "Epoch 5/20\n",
            "\u001b[1m2423/2423\u001b[0m \u001b[32m━━━━━━━━━━━━━━━━━━━━\u001b[0m\u001b[37m\u001b[0m \u001b[1m11s\u001b[0m 3ms/step - accuracy: 0.8507 - loss: 0.3325 - val_accuracy: 0.8442 - val_loss: 0.3446\n",
            "Epoch 6/20\n",
            "\u001b[1m2423/2423\u001b[0m \u001b[32m━━━━━━━━━━━━━━━━━━━━\u001b[0m\u001b[37m\u001b[0m \u001b[1m10s\u001b[0m 3ms/step - accuracy: 0.8557 - loss: 0.3235 - val_accuracy: 0.8453 - val_loss: 0.3443\n",
            "Epoch 7/20\n",
            "\u001b[1m2423/2423\u001b[0m \u001b[32m━━━━━━━━━━━━━━━━━━━━\u001b[0m\u001b[37m\u001b[0m \u001b[1m6s\u001b[0m 2ms/step - accuracy: 0.8613 - loss: 0.3128 - val_accuracy: 0.8436 - val_loss: 0.3466\n",
            "Epoch 8/20\n",
            "\u001b[1m2423/2423\u001b[0m \u001b[32m━━━━━━━━━━━━━━━━━━━━\u001b[0m\u001b[37m\u001b[0m \u001b[1m12s\u001b[0m 3ms/step - accuracy: 0.8641 - loss: 0.3049 - val_accuracy: 0.8462 - val_loss: 0.3416\n",
            "Epoch 9/20\n",
            "\u001b[1m2423/2423\u001b[0m \u001b[32m━━━━━━━━━━━━━━━━━━━━\u001b[0m\u001b[37m\u001b[0m \u001b[1m13s\u001b[0m 4ms/step - accuracy: 0.8674 - loss: 0.2979 - val_accuracy: 0.8468 - val_loss: 0.3407\n",
            "Epoch 10/20\n",
            "\u001b[1m2423/2423\u001b[0m \u001b[32m━━━━━━━━━━━━━━━━━━━━\u001b[0m\u001b[37m\u001b[0m \u001b[1m17s\u001b[0m 3ms/step - accuracy: 0.8693 - loss: 0.2936 - val_accuracy: 0.8484 - val_loss: 0.3463\n",
            "Epoch 11/20\n",
            "\u001b[1m2423/2423\u001b[0m \u001b[32m━━━━━━━━━━━━━━━━━━━━\u001b[0m\u001b[37m\u001b[0m \u001b[1m9s\u001b[0m 3ms/step - accuracy: 0.8725 - loss: 0.2875 - val_accuracy: 0.8482 - val_loss: 0.3419\n",
            "Epoch 12/20\n",
            "\u001b[1m2423/2423\u001b[0m \u001b[32m━━━━━━━━━━━━━━━━━━━━\u001b[0m\u001b[37m\u001b[0m \u001b[1m7s\u001b[0m 3ms/step - accuracy: 0.8775 - loss: 0.2797 - val_accuracy: 0.8464 - val_loss: 0.3448\n",
            "Epoch 13/20\n",
            "\u001b[1m2423/2423\u001b[0m \u001b[32m━━━━━━━━━━━━━━━━━━━━\u001b[0m\u001b[37m\u001b[0m \u001b[1m10s\u001b[0m 4ms/step - accuracy: 0.8776 - loss: 0.2785 - val_accuracy: 0.8486 - val_loss: 0.3422\n",
            "Epoch 14/20\n",
            "\u001b[1m2423/2423\u001b[0m \u001b[32m━━━━━━━━━━━━━━━━━━━━\u001b[0m\u001b[37m\u001b[0m \u001b[1m6s\u001b[0m 3ms/step - accuracy: 0.8827 - loss: 0.2692 - val_accuracy: 0.8467 - val_loss: 0.3441\n",
            "Epoch 15/20\n",
            "\u001b[1m2423/2423\u001b[0m \u001b[32m━━━━━━━━━━━━━━━━━━━━\u001b[0m\u001b[37m\u001b[0m \u001b[1m10s\u001b[0m 3ms/step - accuracy: 0.8822 - loss: 0.2684 - val_accuracy: 0.8477 - val_loss: 0.3463\n",
            "Epoch 16/20\n",
            "\u001b[1m2423/2423\u001b[0m \u001b[32m━━━━━━━━━━━━━━━━━━━━\u001b[0m\u001b[37m\u001b[0m \u001b[1m11s\u001b[0m 3ms/step - accuracy: 0.8845 - loss: 0.2634 - val_accuracy: 0.8492 - val_loss: 0.3447\n",
            "Epoch 17/20\n",
            "\u001b[1m2423/2423\u001b[0m \u001b[32m━━━━━━━━━━━━━━━━━━━━\u001b[0m\u001b[37m\u001b[0m \u001b[1m10s\u001b[0m 3ms/step - accuracy: 0.8852 - loss: 0.2626 - val_accuracy: 0.8466 - val_loss: 0.3484\n",
            "Epoch 18/20\n",
            "\u001b[1m2423/2423\u001b[0m \u001b[32m━━━━━━━━━━━━━━━━━━━━\u001b[0m\u001b[37m\u001b[0m \u001b[1m11s\u001b[0m 3ms/step - accuracy: 0.8883 - loss: 0.2582 - val_accuracy: 0.8492 - val_loss: 0.3458\n",
            "Epoch 19/20\n",
            "\u001b[1m2423/2423\u001b[0m \u001b[32m━━━━━━━━━━━━━━━━━━━━\u001b[0m\u001b[37m\u001b[0m \u001b[1m11s\u001b[0m 3ms/step - accuracy: 0.8881 - loss: 0.2560 - val_accuracy: 0.8482 - val_loss: 0.3498\n"
          ]
        }
      ]
    },
    {
      "cell_type": "code",
      "source": [
        "\n",
        "test_loss, test_accuracy = model.evaluate(X_test_def, y_test, batch_size=64)\n",
        "\n",
        "print(f\"Pérdida en el conjunto de test: {test_loss}\")\n",
        "print(f\"Precisión en el conjunto de test: {test_accuracy}\")"
      ],
      "metadata": {
        "colab": {
          "base_uri": "https://localhost:8080/"
        },
        "id": "RlGV6yB03HN0",
        "outputId": "a8035ca3-ce60-4556-9c44-762798b5bd3b"
      },
      "execution_count": null,
      "outputs": [
        {
          "output_type": "stream",
          "name": "stdout",
          "text": [
            "\u001b[1m379/379\u001b[0m \u001b[32m━━━━━━━━━━━━━━━━━━━━\u001b[0m\u001b[37m\u001b[0m \u001b[1m1s\u001b[0m 2ms/step - accuracy: 0.8469 - loss: 0.3446\n",
            "Pérdida en el conjunto de test: 0.3474033772945404\n",
            "Precisión en el conjunto de test: 0.8466619849205017\n"
          ]
        }
      ]
    },
    {
      "cell_type": "code",
      "source": [
        "import numpy as np\n",
        "import random\n",
        "import tensorflow as tf\n",
        "from tensorflow.keras.models import Sequential\n",
        "from tensorflow.keras.layers import Embedding, Conv1D, MaxPooling1D, Flatten, LSTM, Dense, Dropout, BatchNormalization, Bidirectional\n",
        "from tensorflow.keras.callbacks import EarlyStopping\n",
        "\n",
        "# Parámetros\n",
        "max_len = X_train_def.shape[1]\n",
        "seed=42\n",
        "np.random.seed(seed)\n",
        "random.seed(seed)\n",
        "tf.random.set_seed(seed)\n",
        "\n",
        "model = Sequential()\n",
        "model.add(Embedding(input_dim=num_words, output_dim=embedding_dim, weights=[embedding_matrix_x_train], trainable=False, input_length=max_len))\n",
        "model.add(Dropout(0.25))\n",
        "model.add(Conv1D(64, 5 , padding = 'same',activation = 'relu'))\n",
        "model.add(MaxPooling1D(2))\n",
        "model.add(Dropout(0.3))\n",
        "model.add(Flatten())\n",
        "model.add(Dense(64, activation='relu'))\n",
        "\n",
        "model.add(Dense(1, activation='sigmoid'))\n",
        "\n",
        "from tensorflow.keras.optimizers import Adam\n",
        "optimizer = Adam(learning_rate=0.0005)  # Reducir el learning rate\n",
        "model.compile(loss='binary_crossentropy', optimizer=optimizer, metrics=['accuracy']) # Función de pérdida binaria\n",
        "\n",
        "# Definir Early Stopping\n",
        "early_stopping = EarlyStopping(monitor='val_accuracy', patience=3, restore_best_weights=True)\n",
        "\n",
        "# Entrenamiento con Early Stopping usando conjuntos de validación específicos\n",
        "history = model.fit(\n",
        "    X_train_def, y_train,\n",
        "    epochs=20,\n",
        "    batch_size=32,\n",
        "    validation_data=(X_val_def, y_val),  # Especifica los conjuntos de validación\n",
        "    callbacks=[early_stopping]\n",
        ")"
      ],
      "metadata": {
        "colab": {
          "base_uri": "https://localhost:8080/"
        },
        "id": "VCNMVS-Z3sQa",
        "outputId": "a461bb84-44c3-4849-a092-f86db18770af"
      },
      "execution_count": null,
      "outputs": [
        {
          "output_type": "stream",
          "name": "stdout",
          "text": [
            "Epoch 1/20\n",
            "\u001b[1m2423/2423\u001b[0m \u001b[32m━━━━━━━━━━━━━━━━━━━━\u001b[0m\u001b[37m\u001b[0m \u001b[1m19s\u001b[0m 6ms/step - accuracy: 0.7304 - loss: 0.5091 - val_accuracy: 0.8291 - val_loss: 0.3767\n",
            "Epoch 2/20\n",
            "\u001b[1m2423/2423\u001b[0m \u001b[32m━━━━━━━━━━━━━━━━━━━━\u001b[0m\u001b[37m\u001b[0m \u001b[1m8s\u001b[0m 3ms/step - accuracy: 0.8210 - loss: 0.3884 - val_accuracy: 0.8382 - val_loss: 0.3593\n",
            "Epoch 3/20\n",
            "\u001b[1m2423/2423\u001b[0m \u001b[32m━━━━━━━━━━━━━━━━━━━━\u001b[0m\u001b[37m\u001b[0m \u001b[1m7s\u001b[0m 3ms/step - accuracy: 0.8384 - loss: 0.3579 - val_accuracy: 0.8416 - val_loss: 0.3519\n",
            "Epoch 4/20\n",
            "\u001b[1m2423/2423\u001b[0m \u001b[32m━━━━━━━━━━━━━━━━━━━━\u001b[0m\u001b[37m\u001b[0m \u001b[1m11s\u001b[0m 3ms/step - accuracy: 0.8470 - loss: 0.3398 - val_accuracy: 0.8432 - val_loss: 0.3494\n",
            "Epoch 5/20\n",
            "\u001b[1m2423/2423\u001b[0m \u001b[32m━━━━━━━━━━━━━━━━━━━━\u001b[0m\u001b[37m\u001b[0m \u001b[1m9s\u001b[0m 4ms/step - accuracy: 0.8586 - loss: 0.3193 - val_accuracy: 0.8451 - val_loss: 0.3447\n",
            "Epoch 6/20\n",
            "\u001b[1m2423/2423\u001b[0m \u001b[32m━━━━━━━━━━━━━━━━━━━━\u001b[0m\u001b[37m\u001b[0m \u001b[1m12s\u001b[0m 4ms/step - accuracy: 0.8639 - loss: 0.3074 - val_accuracy: 0.8437 - val_loss: 0.3511\n",
            "Epoch 7/20\n",
            "\u001b[1m2423/2423\u001b[0m \u001b[32m━━━━━━━━━━━━━━━━━━━━\u001b[0m\u001b[37m\u001b[0m \u001b[1m17s\u001b[0m 3ms/step - accuracy: 0.8691 - loss: 0.2958 - val_accuracy: 0.8439 - val_loss: 0.3505\n",
            "Epoch 8/20\n",
            "\u001b[1m2423/2423\u001b[0m \u001b[32m━━━━━━━━━━━━━━━━━━━━\u001b[0m\u001b[37m\u001b[0m \u001b[1m10s\u001b[0m 3ms/step - accuracy: 0.8757 - loss: 0.2853 - val_accuracy: 0.8456 - val_loss: 0.3493\n",
            "Epoch 9/20\n",
            "\u001b[1m2423/2423\u001b[0m \u001b[32m━━━━━━━━━━━━━━━━━━━━\u001b[0m\u001b[37m\u001b[0m \u001b[1m13s\u001b[0m 4ms/step - accuracy: 0.8776 - loss: 0.2777 - val_accuracy: 0.8468 - val_loss: 0.3494\n",
            "Epoch 10/20\n",
            "\u001b[1m2423/2423\u001b[0m \u001b[32m━━━━━━━━━━━━━━━━━━━━\u001b[0m\u001b[37m\u001b[0m \u001b[1m10s\u001b[0m 4ms/step - accuracy: 0.8836 - loss: 0.2693 - val_accuracy: 0.8438 - val_loss: 0.3534\n",
            "Epoch 11/20\n",
            "\u001b[1m2423/2423\u001b[0m \u001b[32m━━━━━━━━━━━━━━━━━━━━\u001b[0m\u001b[37m\u001b[0m \u001b[1m7s\u001b[0m 3ms/step - accuracy: 0.8859 - loss: 0.2640 - val_accuracy: 0.8449 - val_loss: 0.3492\n",
            "Epoch 12/20\n",
            "\u001b[1m2423/2423\u001b[0m \u001b[32m━━━━━━━━━━━━━━━━━━━━\u001b[0m\u001b[37m\u001b[0m \u001b[1m10s\u001b[0m 3ms/step - accuracy: 0.8883 - loss: 0.2556 - val_accuracy: 0.8458 - val_loss: 0.3549\n"
          ]
        }
      ]
    },
    {
      "cell_type": "code",
      "source": [
        "\n",
        "test_loss, test_accuracy = model.evaluate(X_test_def, y_test, batch_size=64)\n",
        "\n",
        "print(f\"Pérdida en el conjunto de test: {test_loss}\")\n",
        "print(f\"Precisión en el conjunto de test: {test_accuracy}\")"
      ],
      "metadata": {
        "colab": {
          "base_uri": "https://localhost:8080/"
        },
        "id": "gT0_SumL3sbh",
        "outputId": "75579fa1-ab7f-4027-ce81-e912bd026198"
      },
      "execution_count": null,
      "outputs": [
        {
          "output_type": "stream",
          "name": "stdout",
          "text": [
            "\u001b[1m379/379\u001b[0m \u001b[32m━━━━━━━━━━━━━━━━━━━━\u001b[0m\u001b[37m\u001b[0m \u001b[1m2s\u001b[0m 3ms/step - accuracy: 0.8483 - loss: 0.3476\n",
            "Pérdida en el conjunto de test: 0.35304948687553406\n",
            "Precisión en el conjunto de test: 0.8463317155838013\n"
          ]
        }
      ]
    },
    {
      "cell_type": "code",
      "source": [
        "import numpy as np\n",
        "import random\n",
        "import tensorflow as tf\n",
        "from tensorflow.keras.models import Sequential\n",
        "from tensorflow.keras.layers import Embedding, Conv1D, MaxPooling1D, Flatten, LSTM, Dense, Dropout, BatchNormalization, Bidirectional\n",
        "from tensorflow.keras.callbacks import EarlyStopping\n",
        "\n",
        "# Parámetros\n",
        "max_len = X_train_def.shape[1]\n",
        "seed=42\n",
        "np.random.seed(seed)\n",
        "random.seed(seed)\n",
        "tf.random.set_seed(seed)\n",
        "\n",
        "model = Sequential()\n",
        "model.add(Embedding(input_dim=num_words, output_dim=embedding_dim, weights=[embedding_matrix_x_train], trainable=False, input_length=max_len))\n",
        "model.add(Dropout(0.25))\n",
        "model.add(Conv1D(128, 3 , padding = 'same',activation = 'relu'))\n",
        "model.add(MaxPooling1D(2))\n",
        "model.add(Dropout(0.3))\n",
        "model.add(Flatten())\n",
        "model.add(Dense(64, activation='relu'))\n",
        "\n",
        "model.add(Dense(1, activation='sigmoid'))\n",
        "\n",
        "from tensorflow.keras.optimizers import Adam\n",
        "optimizer = Adam(learning_rate=0.0005)  # Reducir el learning rate\n",
        "model.compile(loss='binary_crossentropy', optimizer=optimizer, metrics=['accuracy']) # Función de pérdida binaria\n",
        "\n",
        "# Definir Early Stopping\n",
        "early_stopping = EarlyStopping(monitor='val_accuracy', patience=3, restore_best_weights=True)\n",
        "\n",
        "# Entrenamiento con Early Stopping usando conjuntos de validación específicos\n",
        "history = model.fit(\n",
        "    X_train_def, y_train,\n",
        "    epochs=20,\n",
        "    batch_size=32,\n",
        "    validation_data=(X_val_def, y_val),  # Especifica los conjuntos de validación\n",
        "    callbacks=[early_stopping]\n",
        ")"
      ],
      "metadata": {
        "colab": {
          "base_uri": "https://localhost:8080/"
        },
        "id": "QJQv5CF14Jma",
        "outputId": "a54c999e-8635-40d0-ae18-525cbc231789"
      },
      "execution_count": null,
      "outputs": [
        {
          "output_type": "stream",
          "name": "stdout",
          "text": [
            "Epoch 1/20\n",
            "\u001b[1m2423/2423\u001b[0m \u001b[32m━━━━━━━━━━━━━━━━━━━━\u001b[0m\u001b[37m\u001b[0m \u001b[1m14s\u001b[0m 4ms/step - accuracy: 0.7445 - loss: 0.4985 - val_accuracy: 0.8371 - val_loss: 0.3690\n",
            "Epoch 2/20\n",
            "\u001b[1m2423/2423\u001b[0m \u001b[32m━━━━━━━━━━━━━━━━━━━━\u001b[0m\u001b[37m\u001b[0m \u001b[1m15s\u001b[0m 3ms/step - accuracy: 0.8266 - loss: 0.3811 - val_accuracy: 0.8431 - val_loss: 0.3518\n",
            "Epoch 3/20\n",
            "\u001b[1m2423/2423\u001b[0m \u001b[32m━━━━━━━━━━━━━━━━━━━━\u001b[0m\u001b[37m\u001b[0m \u001b[1m10s\u001b[0m 3ms/step - accuracy: 0.8404 - loss: 0.3507 - val_accuracy: 0.8455 - val_loss: 0.3465\n",
            "Epoch 4/20\n",
            "\u001b[1m2423/2423\u001b[0m \u001b[32m━━━━━━━━━━━━━━━━━━━━\u001b[0m\u001b[37m\u001b[0m \u001b[1m7s\u001b[0m 3ms/step - accuracy: 0.8526 - loss: 0.3320 - val_accuracy: 0.8461 - val_loss: 0.3448\n",
            "Epoch 5/20\n",
            "\u001b[1m2423/2423\u001b[0m \u001b[32m━━━━━━━━━━━━━━━━━━━━\u001b[0m\u001b[37m\u001b[0m \u001b[1m11s\u001b[0m 3ms/step - accuracy: 0.8635 - loss: 0.3098 - val_accuracy: 0.8476 - val_loss: 0.3416\n",
            "Epoch 6/20\n",
            "\u001b[1m2423/2423\u001b[0m \u001b[32m━━━━━━━━━━━━━━━━━━━━\u001b[0m\u001b[37m\u001b[0m \u001b[1m10s\u001b[0m 3ms/step - accuracy: 0.8676 - loss: 0.2958 - val_accuracy: 0.8468 - val_loss: 0.3472\n",
            "Epoch 7/20\n",
            "\u001b[1m2423/2423\u001b[0m \u001b[32m━━━━━━━━━━━━━━━━━━━━\u001b[0m\u001b[37m\u001b[0m \u001b[1m10s\u001b[0m 3ms/step - accuracy: 0.8768 - loss: 0.2833 - val_accuracy: 0.8470 - val_loss: 0.3484\n",
            "Epoch 8/20\n",
            "\u001b[1m2423/2423\u001b[0m \u001b[32m━━━━━━━━━━━━━━━━━━━━\u001b[0m\u001b[37m\u001b[0m \u001b[1m11s\u001b[0m 3ms/step - accuracy: 0.8831 - loss: 0.2701 - val_accuracy: 0.8475 - val_loss: 0.3467\n"
          ]
        }
      ]
    },
    {
      "cell_type": "code",
      "source": [
        "\n",
        "test_loss, test_accuracy = model.evaluate(X_test_def, y_test, batch_size=64)\n",
        "\n",
        "print(f\"Pérdida en el conjunto de test: {test_loss}\")\n",
        "print(f\"Precisión en el conjunto de test: {test_accuracy}\")"
      ],
      "metadata": {
        "colab": {
          "base_uri": "https://localhost:8080/"
        },
        "id": "h21wUKlq4Jru",
        "outputId": "1cbb1f3c-902f-458a-ed20-a52ef37f4faf"
      },
      "execution_count": null,
      "outputs": [
        {
          "output_type": "stream",
          "name": "stdout",
          "text": [
            "\u001b[1m379/379\u001b[0m \u001b[32m━━━━━━━━━━━━━━━━━━━━\u001b[0m\u001b[37m\u001b[0m \u001b[1m2s\u001b[0m 3ms/step - accuracy: 0.8457 - loss: 0.3373\n",
            "Pérdida en el conjunto de test: 0.3408348262310028\n",
            "Precisión en el conjunto de test: 0.8444737792015076\n"
          ]
        }
      ]
    },
    {
      "cell_type": "code",
      "source": [
        "import numpy as np\n",
        "import random\n",
        "import tensorflow as tf\n",
        "from tensorflow.keras.models import Sequential\n",
        "from tensorflow.keras.layers import Embedding, Conv1D, MaxPooling1D, Flatten, LSTM, Dense, Dropout, BatchNormalization, Bidirectional\n",
        "from tensorflow.keras.callbacks import EarlyStopping\n",
        "\n",
        "# Parámetros\n",
        "max_len = X_train_def.shape[1]\n",
        "seed=42\n",
        "np.random.seed(seed)\n",
        "random.seed(seed)\n",
        "tf.random.set_seed(seed)\n",
        "\n",
        "model = Sequential()\n",
        "model.add(Embedding(input_dim=num_words, output_dim=embedding_dim, weights=[embedding_matrix_x_train], trainable=False, input_length=max_len))\n",
        "model.add(Dropout(0.25))\n",
        "model.add(Conv1D(128, 5 , padding = 'same',activation = 'relu'))\n",
        "model.add(MaxPooling1D(2))\n",
        "model.add(Dropout(0.3))\n",
        "model.add(Flatten())\n",
        "model.add(Dense(64, activation='relu'))\n",
        "\n",
        "model.add(Dense(1, activation='sigmoid'))\n",
        "\n",
        "from tensorflow.keras.optimizers import Adam\n",
        "optimizer = Adam(learning_rate=0.0005)  # Reducir el learning rate\n",
        "model.compile(loss='binary_crossentropy', optimizer=optimizer, metrics=['accuracy']) # Función de pérdida binaria\n",
        "\n",
        "# Definir Early Stopping\n",
        "early_stopping = EarlyStopping(monitor='val_accuracy', patience=3, restore_best_weights=True)\n",
        "\n",
        "# Entrenamiento con Early Stopping usando conjuntos de validación específicos\n",
        "history = model.fit(\n",
        "    X_train_def, y_train,\n",
        "    epochs=20,\n",
        "    batch_size=32,\n",
        "    validation_data=(X_val_def, y_val),  # Especifica los conjuntos de validación\n",
        "    callbacks=[early_stopping]\n",
        ")"
      ],
      "metadata": {
        "colab": {
          "base_uri": "https://localhost:8080/"
        },
        "id": "-4fqufpz4Jzp",
        "outputId": "da4ac2c3-0419-49bf-f71b-fd80cfe03954"
      },
      "execution_count": null,
      "outputs": [
        {
          "output_type": "stream",
          "name": "stdout",
          "text": [
            "Epoch 1/20\n",
            "\u001b[1m2423/2423\u001b[0m \u001b[32m━━━━━━━━━━━━━━━━━━━━\u001b[0m\u001b[37m\u001b[0m \u001b[1m13s\u001b[0m 4ms/step - accuracy: 0.7480 - loss: 0.4956 - val_accuracy: 0.8275 - val_loss: 0.3773\n",
            "Epoch 2/20\n",
            "\u001b[1m2423/2423\u001b[0m \u001b[32m━━━━━━━━━━━━━━━━━━━━\u001b[0m\u001b[37m\u001b[0m \u001b[1m8s\u001b[0m 3ms/step - accuracy: 0.8257 - loss: 0.3825 - val_accuracy: 0.8322 - val_loss: 0.3691\n",
            "Epoch 3/20\n",
            "\u001b[1m2423/2423\u001b[0m \u001b[32m━━━━━━━━━━━━━━━━━━━━\u001b[0m\u001b[37m\u001b[0m \u001b[1m7s\u001b[0m 3ms/step - accuracy: 0.8429 - loss: 0.3463 - val_accuracy: 0.8397 - val_loss: 0.3579\n",
            "Epoch 4/20\n",
            "\u001b[1m2423/2423\u001b[0m \u001b[32m━━━━━━━━━━━━━━━━━━━━\u001b[0m\u001b[37m\u001b[0m \u001b[1m8s\u001b[0m 3ms/step - accuracy: 0.8569 - loss: 0.3201 - val_accuracy: 0.8382 - val_loss: 0.3578\n",
            "Epoch 5/20\n",
            "\u001b[1m2423/2423\u001b[0m \u001b[32m━━━━━━━━━━━━━━━━━━━━\u001b[0m\u001b[37m\u001b[0m \u001b[1m9s\u001b[0m 3ms/step - accuracy: 0.8703 - loss: 0.2952 - val_accuracy: 0.8422 - val_loss: 0.3571\n",
            "Epoch 6/20\n",
            "\u001b[1m2423/2423\u001b[0m \u001b[32m━━━━━━━━━━━━━━━━━━━━\u001b[0m\u001b[37m\u001b[0m \u001b[1m11s\u001b[0m 3ms/step - accuracy: 0.8779 - loss: 0.2760 - val_accuracy: 0.8373 - val_loss: 0.3651\n",
            "Epoch 7/20\n",
            "\u001b[1m2423/2423\u001b[0m \u001b[32m━━━━━━━━━━━━━━━━━━━━\u001b[0m\u001b[37m\u001b[0m \u001b[1m11s\u001b[0m 3ms/step - accuracy: 0.8887 - loss: 0.2606 - val_accuracy: 0.8399 - val_loss: 0.3649\n",
            "Epoch 8/20\n",
            "\u001b[1m2423/2423\u001b[0m \u001b[32m━━━━━━━━━━━━━━━━━━━━\u001b[0m\u001b[37m\u001b[0m \u001b[1m10s\u001b[0m 3ms/step - accuracy: 0.8951 - loss: 0.2449 - val_accuracy: 0.8398 - val_loss: 0.3695\n"
          ]
        }
      ]
    },
    {
      "cell_type": "code",
      "source": [
        "\n",
        "test_loss, test_accuracy = model.evaluate(X_test_def, y_test, batch_size=64)\n",
        "\n",
        "print(f\"Pérdida en el conjunto de test: {test_loss}\")\n",
        "print(f\"Precisión en el conjunto de test: {test_accuracy}\")"
      ],
      "metadata": {
        "colab": {
          "base_uri": "https://localhost:8080/"
        },
        "id": "C3CzQpGm4eU3",
        "outputId": "7c0e858c-8354-4847-dfbe-3227dfc3a10d"
      },
      "execution_count": null,
      "outputs": [
        {
          "output_type": "stream",
          "name": "stdout",
          "text": [
            "\u001b[1m379/379\u001b[0m \u001b[32m━━━━━━━━━━━━━━━━━━━━\u001b[0m\u001b[37m\u001b[0m \u001b[1m1s\u001b[0m 3ms/step - accuracy: 0.8423 - loss: 0.3525\n",
            "Pérdida en el conjunto de test: 0.35596805810928345\n",
            "Precisión en el conjunto de test: 0.8400974273681641\n"
          ]
        }
      ]
    },
    {
      "cell_type": "code",
      "source": [
        "import numpy as np\n",
        "import random\n",
        "import tensorflow as tf\n",
        "from tensorflow.keras.models import Sequential\n",
        "from tensorflow.keras.layers import Embedding, Conv1D, MaxPooling1D, Flatten, LSTM, Dense, Dropout, BatchNormalization, Bidirectional\n",
        "from tensorflow.keras.callbacks import EarlyStopping\n",
        "\n",
        "# Parámetros\n",
        "max_len = X_train_def.shape[1]\n",
        "seed=42\n",
        "np.random.seed(seed)\n",
        "random.seed(seed)\n",
        "tf.random.set_seed(seed)\n",
        "\n",
        "model = Sequential()\n",
        "model.add(Embedding(input_dim=num_words, output_dim=embedding_dim, weights=[embedding_matrix_x_train], trainable=False, input_length=max_len))\n",
        "model.add(Dropout(0.25))\n",
        "model.add(Conv1D(128, 5 , padding = 'same',activation = 'relu'))\n",
        "model.add(MaxPooling1D(2))\n",
        "model.add(Dropout(0.5))\n",
        "model.add(Flatten())\n",
        "model.add(Dense(64, activation='relu'))\n",
        "\n",
        "model.add(Dense(1, activation='sigmoid'))\n",
        "\n",
        "from tensorflow.keras.optimizers import Adam\n",
        "optimizer = Adam(learning_rate=0.0005)  # Reducir el learning rate\n",
        "model.compile(loss='binary_crossentropy', optimizer=optimizer, metrics=['accuracy']) # Función de pérdida binaria\n",
        "\n",
        "# Definir Early Stopping\n",
        "early_stopping = EarlyStopping(monitor='val_accuracy', patience=3, restore_best_weights=True)\n",
        "\n",
        "# Entrenamiento con Early Stopping usando conjuntos de validación específicos\n",
        "history = model.fit(\n",
        "    X_train_def, y_train,\n",
        "    epochs=20,\n",
        "    batch_size=32,\n",
        "    validation_data=(X_val_def, y_val),  # Especifica los conjuntos de validación\n",
        "    callbacks=[early_stopping]\n",
        ")"
      ],
      "metadata": {
        "colab": {
          "base_uri": "https://localhost:8080/"
        },
        "id": "2SItthTs57jm",
        "outputId": "a74c6cf3-5fe9-4bd8-d2e3-5a7d33356c9d"
      },
      "execution_count": null,
      "outputs": [
        {
          "output_type": "stream",
          "name": "stdout",
          "text": [
            "Epoch 1/20\n",
            "\u001b[1m2423/2423\u001b[0m \u001b[32m━━━━━━━━━━━━━━━━━━━━\u001b[0m\u001b[37m\u001b[0m \u001b[1m21s\u001b[0m 6ms/step - accuracy: 0.7312 - loss: 0.5133 - val_accuracy: 0.8277 - val_loss: 0.3789\n",
            "Epoch 2/20\n",
            "\u001b[1m2423/2423\u001b[0m \u001b[32m━━━━━━━━━━━━━━━━━━━━\u001b[0m\u001b[37m\u001b[0m \u001b[1m7s\u001b[0m 3ms/step - accuracy: 0.8174 - loss: 0.3968 - val_accuracy: 0.8387 - val_loss: 0.3591\n",
            "Epoch 3/20\n",
            "\u001b[1m2423/2423\u001b[0m \u001b[32m━━━━━━━━━━━━━━━━━━━━\u001b[0m\u001b[37m\u001b[0m \u001b[1m11s\u001b[0m 3ms/step - accuracy: 0.8305 - loss: 0.3690 - val_accuracy: 0.8439 - val_loss: 0.3479\n",
            "Epoch 4/20\n",
            "\u001b[1m2423/2423\u001b[0m \u001b[32m━━━━━━━━━━━━━━━━━━━━\u001b[0m\u001b[37m\u001b[0m \u001b[1m10s\u001b[0m 3ms/step - accuracy: 0.8419 - loss: 0.3508 - val_accuracy: 0.8401 - val_loss: 0.3503\n",
            "Epoch 5/20\n",
            "\u001b[1m2423/2423\u001b[0m \u001b[32m━━━━━━━━━━━━━━━━━━━━\u001b[0m\u001b[37m\u001b[0m \u001b[1m10s\u001b[0m 3ms/step - accuracy: 0.8495 - loss: 0.3350 - val_accuracy: 0.8462 - val_loss: 0.3433\n",
            "Epoch 6/20\n",
            "\u001b[1m2423/2423\u001b[0m \u001b[32m━━━━━━━━━━━━━━━━━━━━\u001b[0m\u001b[37m\u001b[0m \u001b[1m8s\u001b[0m 3ms/step - accuracy: 0.8546 - loss: 0.3221 - val_accuracy: 0.8465 - val_loss: 0.3419\n",
            "Epoch 7/20\n",
            "\u001b[1m2423/2423\u001b[0m \u001b[32m━━━━━━━━━━━━━━━━━━━━\u001b[0m\u001b[37m\u001b[0m \u001b[1m7s\u001b[0m 3ms/step - accuracy: 0.8618 - loss: 0.3094 - val_accuracy: 0.8472 - val_loss: 0.3414\n",
            "Epoch 8/20\n",
            "\u001b[1m2423/2423\u001b[0m \u001b[32m━━━━━━━━━━━━━━━━━━━━\u001b[0m\u001b[37m\u001b[0m \u001b[1m11s\u001b[0m 3ms/step - accuracy: 0.8681 - loss: 0.3002 - val_accuracy: 0.8482 - val_loss: 0.3405\n",
            "Epoch 9/20\n",
            "\u001b[1m2423/2423\u001b[0m \u001b[32m━━━━━━━━━━━━━━━━━━━━\u001b[0m\u001b[37m\u001b[0m \u001b[1m8s\u001b[0m 3ms/step - accuracy: 0.8724 - loss: 0.2905 - val_accuracy: 0.8457 - val_loss: 0.3419\n",
            "Epoch 10/20\n",
            "\u001b[1m2423/2423\u001b[0m \u001b[32m━━━━━━━━━━━━━━━━━━━━\u001b[0m\u001b[37m\u001b[0m \u001b[1m7s\u001b[0m 3ms/step - accuracy: 0.8757 - loss: 0.2829 - val_accuracy: 0.8439 - val_loss: 0.3444\n",
            "Epoch 11/20\n",
            "\u001b[1m2423/2423\u001b[0m \u001b[32m━━━━━━━━━━━━━━━━━━━━\u001b[0m\u001b[37m\u001b[0m \u001b[1m8s\u001b[0m 3ms/step - accuracy: 0.8813 - loss: 0.2745 - val_accuracy: 0.8485 - val_loss: 0.3387\n",
            "Epoch 12/20\n",
            "\u001b[1m2423/2423\u001b[0m \u001b[32m━━━━━━━━━━━━━━━━━━━━\u001b[0m\u001b[37m\u001b[0m \u001b[1m7s\u001b[0m 3ms/step - accuracy: 0.8845 - loss: 0.2673 - val_accuracy: 0.8502 - val_loss: 0.3385\n",
            "Epoch 13/20\n",
            "\u001b[1m2423/2423\u001b[0m \u001b[32m━━━━━━━━━━━━━━━━━━━━\u001b[0m\u001b[37m\u001b[0m \u001b[1m8s\u001b[0m 3ms/step - accuracy: 0.8842 - loss: 0.2674 - val_accuracy: 0.8451 - val_loss: 0.3426\n",
            "Epoch 14/20\n",
            "\u001b[1m2423/2423\u001b[0m \u001b[32m━━━━━━━━━━━━━━━━━━━━\u001b[0m\u001b[37m\u001b[0m \u001b[1m6s\u001b[0m 3ms/step - accuracy: 0.8884 - loss: 0.2587 - val_accuracy: 0.8466 - val_loss: 0.3467\n",
            "Epoch 15/20\n",
            "\u001b[1m2423/2423\u001b[0m \u001b[32m━━━━━━━━━━━━━━━━━━━━\u001b[0m\u001b[37m\u001b[0m \u001b[1m8s\u001b[0m 3ms/step - accuracy: 0.8913 - loss: 0.2539 - val_accuracy: 0.8480 - val_loss: 0.3428\n"
          ]
        }
      ]
    },
    {
      "cell_type": "code",
      "source": [
        "\n",
        "test_loss, test_accuracy = model.evaluate(X_test_def, y_test, batch_size=64)\n",
        "\n",
        "print(f\"Pérdida en el conjunto de test: {test_loss}\")\n",
        "print(f\"Precisión en el conjunto de test: {test_accuracy}\")"
      ],
      "metadata": {
        "colab": {
          "base_uri": "https://localhost:8080/"
        },
        "id": "jLE7bEWK57ly",
        "outputId": "facdafb9-3d3f-4e8e-f63a-c6ff4136b811"
      },
      "execution_count": null,
      "outputs": [
        {
          "output_type": "stream",
          "name": "stdout",
          "text": [
            "\u001b[1m379/379\u001b[0m \u001b[32m━━━━━━━━━━━━━━━━━━━━\u001b[0m\u001b[37m\u001b[0m \u001b[1m1s\u001b[0m 2ms/step - accuracy: 0.8471 - loss: 0.3406\n",
            "Pérdida en el conjunto de test: 0.3446536660194397\n",
            "Precisión en el conjunto de test: 0.8469922542572021\n"
          ]
        }
      ]
    },
    {
      "cell_type": "code",
      "source": [
        "import numpy as np\n",
        "import random\n",
        "import tensorflow as tf\n",
        "from tensorflow.keras.models import Sequential\n",
        "from tensorflow.keras.layers import Embedding, Conv1D, MaxPooling1D, Flatten, LSTM, Dense, Dropout, BatchNormalization, Bidirectional\n",
        "from tensorflow.keras.callbacks import EarlyStopping\n",
        "\n",
        "# Parámetros\n",
        "max_len = X_train_def.shape[1]\n",
        "seed=42\n",
        "np.random.seed(seed)\n",
        "random.seed(seed)\n",
        "tf.random.set_seed(seed)\n",
        "\n",
        "model = Sequential()\n",
        "model.add(Embedding(input_dim=num_words, output_dim=embedding_dim, weights=[embedding_matrix_x_train], trainable=False, input_length=max_len))\n",
        "model.add(Dropout(0.25))\n",
        "model.add(Conv1D(64 , 3 , padding = 'same',activation = 'relu'))\n",
        "model.add(MaxPooling1D(2))\n",
        "model.add(Dropout(0.5))\n",
        "model.add(Flatten())\n",
        "model.add(Dense(64, activation='relu'))\n",
        "\n",
        "model.add(Dense(1, activation='sigmoid'))\n",
        "\n",
        "from tensorflow.keras.optimizers import Adam\n",
        "optimizer = Adam(learning_rate=0.0005)  # Reducir el learning rate\n",
        "model.compile(loss='binary_crossentropy', optimizer=optimizer, metrics=['accuracy']) # Función de pérdida binaria\n",
        "\n",
        "# Definir Early Stopping\n",
        "early_stopping = EarlyStopping(monitor='val_accuracy', patience=3, restore_best_weights=True)\n",
        "\n",
        "# Entrenamiento con Early Stopping usando conjuntos de validación específicos\n",
        "history = model.fit(\n",
        "    X_train_def, y_train,\n",
        "    epochs=20,\n",
        "    batch_size=32,\n",
        "    validation_data=(X_val_def, y_val),  # Especifica los conjuntos de validación\n",
        "    callbacks=[early_stopping]\n",
        ")"
      ],
      "metadata": {
        "colab": {
          "base_uri": "https://localhost:8080/"
        },
        "id": "fz11XIuvttCp",
        "outputId": "3fd676e9-98b7-4712-ef1d-fa0cbb81b851"
      },
      "execution_count": null,
      "outputs": [
        {
          "output_type": "stream",
          "name": "stdout",
          "text": [
            "Epoch 1/20\n",
            "\u001b[1m2423/2423\u001b[0m \u001b[32m━━━━━━━━━━━━━━━━━━━━\u001b[0m\u001b[37m\u001b[0m \u001b[1m12s\u001b[0m 4ms/step - accuracy: 0.7090 - loss: 0.5405 - val_accuracy: 0.8304 - val_loss: 0.3785\n",
            "Epoch 2/20\n",
            "\u001b[1m2423/2423\u001b[0m \u001b[32m━━━━━━━━━━━━━━━━━━━━\u001b[0m\u001b[37m\u001b[0m \u001b[1m17s\u001b[0m 3ms/step - accuracy: 0.8117 - loss: 0.4036 - val_accuracy: 0.8379 - val_loss: 0.3634\n",
            "Epoch 3/20\n",
            "\u001b[1m2423/2423\u001b[0m \u001b[32m━━━━━━━━━━━━━━━━━━━━\u001b[0m\u001b[37m\u001b[0m \u001b[1m7s\u001b[0m 3ms/step - accuracy: 0.8252 - loss: 0.3805 - val_accuracy: 0.8425 - val_loss: 0.3545\n",
            "Epoch 4/20\n",
            "\u001b[1m2423/2423\u001b[0m \u001b[32m━━━━━━━━━━━━━━━━━━━━\u001b[0m\u001b[37m\u001b[0m \u001b[1m7s\u001b[0m 3ms/step - accuracy: 0.8303 - loss: 0.3701 - val_accuracy: 0.8447 - val_loss: 0.3505\n",
            "Epoch 5/20\n",
            "\u001b[1m2423/2423\u001b[0m \u001b[32m━━━━━━━━━━━━━━━━━━━━\u001b[0m\u001b[37m\u001b[0m \u001b[1m12s\u001b[0m 4ms/step - accuracy: 0.8374 - loss: 0.3587 - val_accuracy: 0.8443 - val_loss: 0.3475\n",
            "Epoch 6/20\n",
            "\u001b[1m2423/2423\u001b[0m \u001b[32m━━━━━━━━━━━━━━━━━━━━\u001b[0m\u001b[37m\u001b[0m \u001b[1m7s\u001b[0m 3ms/step - accuracy: 0.8435 - loss: 0.3465 - val_accuracy: 0.8472 - val_loss: 0.3431\n",
            "Epoch 7/20\n",
            "\u001b[1m2423/2423\u001b[0m \u001b[32m━━━━━━━━━━━━━━━━━━━━\u001b[0m\u001b[37m\u001b[0m \u001b[1m10s\u001b[0m 3ms/step - accuracy: 0.8420 - loss: 0.3461 - val_accuracy: 0.8492 - val_loss: 0.3405\n",
            "Epoch 8/20\n",
            "\u001b[1m2423/2423\u001b[0m \u001b[32m━━━━━━━━━━━━━━━━━━━━\u001b[0m\u001b[37m\u001b[0m \u001b[1m11s\u001b[0m 3ms/step - accuracy: 0.8464 - loss: 0.3406 - val_accuracy: 0.8455 - val_loss: 0.3411\n",
            "Epoch 9/20\n",
            "\u001b[1m2423/2423\u001b[0m \u001b[32m━━━━━━━━━━━━━━━━━━━━\u001b[0m\u001b[37m\u001b[0m \u001b[1m6s\u001b[0m 2ms/step - accuracy: 0.8491 - loss: 0.3340 - val_accuracy: 0.8468 - val_loss: 0.3414\n",
            "Epoch 10/20\n",
            "\u001b[1m2423/2423\u001b[0m \u001b[32m━━━━━━━━━━━━━━━━━━━━\u001b[0m\u001b[37m\u001b[0m \u001b[1m7s\u001b[0m 3ms/step - accuracy: 0.8517 - loss: 0.3300 - val_accuracy: 0.8455 - val_loss: 0.3384\n"
          ]
        }
      ]
    },
    {
      "cell_type": "code",
      "source": [
        "\n",
        "test_loss, test_accuracy = model.evaluate(X_test_def, y_test, batch_size=64)\n",
        "\n",
        "print(f\"Pérdida en el conjunto de test: {test_loss}\")\n",
        "print(f\"Precisión en el conjunto de test: {test_accuracy}\")"
      ],
      "metadata": {
        "colab": {
          "base_uri": "https://localhost:8080/"
        },
        "id": "UpKSId6_ttID",
        "outputId": "088c2622-be75-41e2-dae1-fd426ed1baf8"
      },
      "execution_count": null,
      "outputs": [
        {
          "output_type": "stream",
          "name": "stdout",
          "text": [
            "\u001b[1m379/379\u001b[0m \u001b[32m━━━━━━━━━━━━━━━━━━━━\u001b[0m\u001b[37m\u001b[0m \u001b[1m1s\u001b[0m 2ms/step - accuracy: 0.8469 - loss: 0.3356\n",
            "Pérdida en el conjunto de test: 0.34087908267974854\n",
            "Precisión en el conjunto de test: 0.8448041081428528\n"
          ]
        }
      ]
    },
    {
      "cell_type": "code",
      "source": [
        "import numpy as np\n",
        "import random\n",
        "import tensorflow as tf\n",
        "from tensorflow.keras.models import Sequential\n",
        "from tensorflow.keras.layers import Embedding, Conv1D, MaxPooling1D, Flatten, LSTM, Dense, Dropout, BatchNormalization, Bidirectional\n",
        "from tensorflow.keras.callbacks import EarlyStopping\n",
        "\n",
        "# Parámetros\n",
        "max_len = X_train_def.shape[1]\n",
        "seed=42\n",
        "np.random.seed(seed)\n",
        "random.seed(seed)\n",
        "tf.random.set_seed(seed)\n",
        "\n",
        "model = Sequential()\n",
        "model.add(Embedding(input_dim=num_words, output_dim=embedding_dim, weights=[embedding_matrix_x_train], trainable=False, input_length=max_len))\n",
        "model.add(Dropout(0.25))\n",
        "model.add(Conv1D(64 , 3 , padding = 'same',activation = 'relu'))\n",
        "model.add(BatchNormalization())\n",
        "model.add(MaxPooling1D(2))\n",
        "model.add(Dropout(0.3))\n",
        "model.add(Flatten())\n",
        "model.add(Dense(64, activation='relu'))\n",
        "\n",
        "model.add(Dense(1, activation='sigmoid'))\n",
        "\n",
        "from tensorflow.keras.optimizers import Adam\n",
        "optimizer = Adam(learning_rate=0.0005)  # Reducir el learning rate\n",
        "model.compile(loss='binary_crossentropy', optimizer=optimizer, metrics=['accuracy']) # Función de pérdida binaria\n",
        "\n",
        "# Definir Early Stopping\n",
        "early_stopping = EarlyStopping(monitor='val_accuracy', patience=3, restore_best_weights=True)\n",
        "\n",
        "# Entrenamiento con Early Stopping usando conjuntos de validación específicos\n",
        "history = model.fit(\n",
        "    X_train_def, y_train,\n",
        "    epochs=20,\n",
        "    batch_size=32,\n",
        "    validation_data=(X_val_def, y_val),  # Especifica los conjuntos de validación\n",
        "    callbacks=[early_stopping]\n",
        ")"
      ],
      "metadata": {
        "colab": {
          "base_uri": "https://localhost:8080/"
        },
        "id": "LtEW6Ebit4KE",
        "outputId": "a62da1fa-7955-4c8f-c49f-2e31d1806f77"
      },
      "execution_count": null,
      "outputs": [
        {
          "output_type": "stream",
          "name": "stderr",
          "text": [
            "/usr/local/lib/python3.10/dist-packages/keras/src/layers/core/embedding.py:90: UserWarning: Argument `input_length` is deprecated. Just remove it.\n",
            "  warnings.warn(\n"
          ]
        },
        {
          "output_type": "stream",
          "name": "stdout",
          "text": [
            "Epoch 1/20\n",
            "\u001b[1m2423/2423\u001b[0m \u001b[32m━━━━━━━━━━━━━━━━━━━━\u001b[0m\u001b[37m\u001b[0m \u001b[1m14s\u001b[0m 4ms/step - accuracy: 0.6979 - loss: 0.5896 - val_accuracy: 0.8248 - val_loss: 0.3877\n",
            "Epoch 2/20\n",
            "\u001b[1m2423/2423\u001b[0m \u001b[32m━━━━━━━━━━━━━━━━━━━━\u001b[0m\u001b[37m\u001b[0m \u001b[1m8s\u001b[0m 3ms/step - accuracy: 0.8095 - loss: 0.4093 - val_accuracy: 0.8358 - val_loss: 0.3656\n",
            "Epoch 3/20\n",
            "\u001b[1m2423/2423\u001b[0m \u001b[32m━━━━━━━━━━━━━━━━━━━━\u001b[0m\u001b[37m\u001b[0m \u001b[1m9s\u001b[0m 3ms/step - accuracy: 0.8275 - loss: 0.3785 - val_accuracy: 0.8393 - val_loss: 0.3574\n",
            "Epoch 4/20\n",
            "\u001b[1m2423/2423\u001b[0m \u001b[32m━━━━━━━━━━━━━━━━━━━━\u001b[0m\u001b[37m\u001b[0m \u001b[1m7s\u001b[0m 3ms/step - accuracy: 0.8354 - loss: 0.3615 - val_accuracy: 0.8375 - val_loss: 0.3570\n",
            "Epoch 5/20\n",
            "\u001b[1m2423/2423\u001b[0m \u001b[32m━━━━━━━━━━━━━━━━━━━━\u001b[0m\u001b[37m\u001b[0m \u001b[1m10s\u001b[0m 3ms/step - accuracy: 0.8457 - loss: 0.3445 - val_accuracy: 0.8443 - val_loss: 0.3506\n",
            "Epoch 6/20\n",
            "\u001b[1m2423/2423\u001b[0m \u001b[32m━━━━━━━━━━━━━━━━━━━━\u001b[0m\u001b[37m\u001b[0m \u001b[1m10s\u001b[0m 3ms/step - accuracy: 0.8462 - loss: 0.3346 - val_accuracy: 0.8413 - val_loss: 0.3512\n",
            "Epoch 7/20\n",
            "\u001b[1m2423/2423\u001b[0m \u001b[32m━━━━━━━━━━━━━━━━━━━━\u001b[0m\u001b[37m\u001b[0m \u001b[1m9s\u001b[0m 3ms/step - accuracy: 0.8549 - loss: 0.3226 - val_accuracy: 0.8418 - val_loss: 0.3597\n",
            "Epoch 8/20\n",
            "\u001b[1m2423/2423\u001b[0m \u001b[32m━━━━━━━━━━━━━━━━━━━━\u001b[0m\u001b[37m\u001b[0m \u001b[1m11s\u001b[0m 3ms/step - accuracy: 0.8596 - loss: 0.3127 - val_accuracy: 0.8418 - val_loss: 0.3555\n"
          ]
        }
      ]
    },
    {
      "cell_type": "code",
      "source": [
        "\n",
        "test_loss, test_accuracy = model.evaluate(X_test_def, y_test, batch_size=64)\n",
        "\n",
        "print(f\"Pérdida en el conjunto de test: {test_loss}\")\n",
        "print(f\"Precisión en el conjunto de test: {test_accuracy}\")"
      ],
      "metadata": {
        "colab": {
          "base_uri": "https://localhost:8080/"
        },
        "id": "4FFb68TKt4M8",
        "outputId": "7821ac67-9d4e-4f6a-9094-1cacd9193431"
      },
      "execution_count": null,
      "outputs": [
        {
          "output_type": "stream",
          "name": "stdout",
          "text": [
            "\u001b[1m379/379\u001b[0m \u001b[32m━━━━━━━━━━━━━━━━━━━━\u001b[0m\u001b[37m\u001b[0m \u001b[1m1s\u001b[0m 2ms/step - accuracy: 0.8444 - loss: 0.3472\n",
            "Pérdida en el conjunto de test: 0.3498431444168091\n",
            "Precisión en el conjunto de test: 0.8431939482688904\n"
          ]
        }
      ]
    },
    {
      "cell_type": "code",
      "source": [
        "import numpy as np\n",
        "import random\n",
        "import tensorflow as tf\n",
        "from tensorflow.keras.models import Sequential\n",
        "from tensorflow.keras.layers import Embedding, Conv1D, MaxPooling1D, Flatten, LSTM, Dense, Dropout, BatchNormalization, Bidirectional\n",
        "from tensorflow.keras.callbacks import EarlyStopping\n",
        "\n",
        "# Parámetros\n",
        "max_len = X_train_def.shape[1]\n",
        "seed=42\n",
        "np.random.seed(seed)\n",
        "random.seed(seed)\n",
        "tf.random.set_seed(seed)\n",
        "\n",
        "model = Sequential()\n",
        "model.add(Embedding(input_dim=num_words, output_dim=embedding_dim, weights=[embedding_matrix_x_train], trainable=False, input_length=max_len))\n",
        "model.add(Dropout(0.25))\n",
        "model.add(Conv1D(64 , 3 , padding = 'same',activation = 'relu'))\n",
        "model.add(MaxPooling1D(2))\n",
        "\n",
        "model.add(Flatten())\n",
        "model.add(Dense(64, activation='relu'))\n",
        "model.add(Dropout(0.5))\n",
        "model.add(Dense(1, activation='sigmoid'))\n",
        "\n",
        "from tensorflow.keras.optimizers import Adam\n",
        "optimizer = Adam(learning_rate=0.0005)  # Reducir el learning rate\n",
        "model.compile(loss='binary_crossentropy', optimizer=optimizer, metrics=['accuracy']) # Función de pérdida binaria\n",
        "\n",
        "# Definir Early Stopping\n",
        "early_stopping = EarlyStopping(monitor='val_accuracy', patience=3, restore_best_weights=True)\n",
        "\n",
        "# Entrenamiento con Early Stopping usando conjuntos de validación específicos\n",
        "history = model.fit(\n",
        "    X_train_def, y_train,\n",
        "    epochs=20,\n",
        "    batch_size=32,\n",
        "    validation_data=(X_val_def, y_val),  # Especifica los conjuntos de validación\n",
        "    callbacks=[early_stopping]\n",
        ")"
      ],
      "metadata": {
        "colab": {
          "base_uri": "https://localhost:8080/"
        },
        "id": "-899AaLfuKe6",
        "outputId": "8e2fe95e-cca3-443b-ad9a-cffdad55f344"
      },
      "execution_count": null,
      "outputs": [
        {
          "output_type": "stream",
          "name": "stdout",
          "text": [
            "Epoch 1/20\n",
            "\u001b[1m2423/2423\u001b[0m \u001b[32m━━━━━━━━━━━━━━━━━━━━\u001b[0m\u001b[37m\u001b[0m \u001b[1m13s\u001b[0m 4ms/step - accuracy: 0.7112 - loss: 0.5338 - val_accuracy: 0.8305 - val_loss: 0.3769\n",
            "Epoch 2/20\n",
            "\u001b[1m2423/2423\u001b[0m \u001b[32m━━━━━━━━━━━━━━━━━━━━\u001b[0m\u001b[37m\u001b[0m \u001b[1m7s\u001b[0m 3ms/step - accuracy: 0.8259 - loss: 0.3864 - val_accuracy: 0.8396 - val_loss: 0.3576\n",
            "Epoch 3/20\n",
            "\u001b[1m2423/2423\u001b[0m \u001b[32m━━━━━━━━━━━━━━━━━━━━\u001b[0m\u001b[37m\u001b[0m \u001b[1m9s\u001b[0m 3ms/step - accuracy: 0.8402 - loss: 0.3562 - val_accuracy: 0.8390 - val_loss: 0.3527\n",
            "Epoch 4/20\n",
            "\u001b[1m2423/2423\u001b[0m \u001b[32m━━━━━━━━━━━━━━━━━━━━\u001b[0m\u001b[37m\u001b[0m \u001b[1m10s\u001b[0m 2ms/step - accuracy: 0.8493 - loss: 0.3362 - val_accuracy: 0.8406 - val_loss: 0.3558\n",
            "Epoch 5/20\n",
            "\u001b[1m2423/2423\u001b[0m \u001b[32m━━━━━━━━━━━━━━━━━━━━\u001b[0m\u001b[37m\u001b[0m \u001b[1m7s\u001b[0m 3ms/step - accuracy: 0.8578 - loss: 0.3175 - val_accuracy: 0.8444 - val_loss: 0.3554\n",
            "Epoch 6/20\n",
            "\u001b[1m2423/2423\u001b[0m \u001b[32m━━━━━━━━━━━━━━━━━━━━\u001b[0m\u001b[37m\u001b[0m \u001b[1m10s\u001b[0m 3ms/step - accuracy: 0.8681 - loss: 0.3004 - val_accuracy: 0.8407 - val_loss: 0.3661\n",
            "Epoch 7/20\n",
            "\u001b[1m2423/2423\u001b[0m \u001b[32m━━━━━━━━━━━━━━━━━━━━\u001b[0m\u001b[37m\u001b[0m \u001b[1m10s\u001b[0m 2ms/step - accuracy: 0.8751 - loss: 0.2846 - val_accuracy: 0.8409 - val_loss: 0.3665\n",
            "Epoch 8/20\n",
            "\u001b[1m2423/2423\u001b[0m \u001b[32m━━━━━━━━━━━━━━━━━━━━\u001b[0m\u001b[37m\u001b[0m \u001b[1m10s\u001b[0m 2ms/step - accuracy: 0.8806 - loss: 0.2757 - val_accuracy: 0.8428 - val_loss: 0.3682\n"
          ]
        }
      ]
    },
    {
      "cell_type": "code",
      "source": [
        "\n",
        "test_loss, test_accuracy = model.evaluate(X_test_def, y_test, batch_size=64)\n",
        "\n",
        "print(f\"Pérdida en el conjunto de test: {test_loss}\")\n",
        "print(f\"Precisión en el conjunto de test: {test_accuracy}\")"
      ],
      "metadata": {
        "colab": {
          "base_uri": "https://localhost:8080/"
        },
        "id": "Hta1ON5bvOz4",
        "outputId": "4dc19111-5f20-499b-9dd2-cd591d2bcc18"
      },
      "execution_count": null,
      "outputs": [
        {
          "output_type": "stream",
          "name": "stdout",
          "text": [
            "\u001b[1m379/379\u001b[0m \u001b[32m━━━━━━━━━━━━━━━━━━━━\u001b[0m\u001b[37m\u001b[0m \u001b[1m1s\u001b[0m 2ms/step - accuracy: 0.8464 - loss: 0.3485\n",
            "Pérdida en el conjunto de test: 0.3542924225330353\n",
            "Precisión en el conjunto de test: 0.8429462313652039\n"
          ]
        }
      ]
    },
    {
      "cell_type": "code",
      "source": [
        "import numpy as np\n",
        "import random\n",
        "import tensorflow as tf\n",
        "from tensorflow.keras.models import Sequential\n",
        "from tensorflow.keras.layers import Embedding, Conv1D, MaxPooling1D, Flatten, LSTM, Dense, Dropout, BatchNormalization, Bidirectional\n",
        "from tensorflow.keras.callbacks import EarlyStopping\n",
        "\n",
        "# Parámetros\n",
        "max_len = X_train_def.shape[1]\n",
        "seed=42\n",
        "np.random.seed(seed)\n",
        "random.seed(seed)\n",
        "tf.random.set_seed(seed)\n",
        "\n",
        "model = Sequential()\n",
        "model.add(Embedding(input_dim=num_words, output_dim=embedding_dim, weights=[embedding_matrix_x_train], trainable=False, input_length=max_len))\n",
        "model.add(Dropout(0.25))\n",
        "model.add(Conv1D(128 , 3 , padding = 'same',activation = 'relu'))\n",
        "model.add(MaxPooling1D(2))\n",
        "model.add(Dropout(0.5))\n",
        "model.add(Flatten())\n",
        "model.add(Dense(64, activation='relu'))\n",
        "\n",
        "model.add(Dense(1, activation='sigmoid'))\n",
        "\n",
        "from tensorflow.keras.optimizers import Adam\n",
        "optimizer = Adam(learning_rate=0.0005)  # Reducir el learning rate\n",
        "model.compile(loss='binary_crossentropy', optimizer=optimizer, metrics=['accuracy']) # Función de pérdida binaria\n",
        "\n",
        "# Definir Early Stopping\n",
        "early_stopping = EarlyStopping(monitor='val_accuracy', patience=3, restore_best_weights=True)\n",
        "\n",
        "# Entrenamiento con Early Stopping usando conjuntos de validación específicos\n",
        "history = model.fit(\n",
        "    X_train_def, y_train,\n",
        "    epochs=20,\n",
        "    batch_size=32,\n",
        "    validation_data=(X_val_def, y_val),  # Especifica los conjuntos de validación\n",
        "    callbacks=[early_stopping]\n",
        ")"
      ],
      "metadata": {
        "colab": {
          "base_uri": "https://localhost:8080/"
        },
        "id": "swEuDhL_wTZI",
        "outputId": "c0bbb0c2-1544-43eb-a350-33b7d3330c3d"
      },
      "execution_count": null,
      "outputs": [
        {
          "output_type": "stream",
          "name": "stdout",
          "text": [
            "Epoch 1/20\n",
            "\u001b[1m2423/2423\u001b[0m \u001b[32m━━━━━━━━━━━━━━━━━━━━\u001b[0m\u001b[37m\u001b[0m \u001b[1m13s\u001b[0m 4ms/step - accuracy: 0.7251 - loss: 0.5186 - val_accuracy: 0.8308 - val_loss: 0.3773\n",
            "Epoch 2/20\n",
            "\u001b[1m2423/2423\u001b[0m \u001b[32m━━━━━━━━━━━━━━━━━━━━\u001b[0m\u001b[37m\u001b[0m \u001b[1m16s\u001b[0m 3ms/step - accuracy: 0.8169 - loss: 0.3955 - val_accuracy: 0.8385 - val_loss: 0.3586\n",
            "Epoch 3/20\n",
            "\u001b[1m2423/2423\u001b[0m \u001b[32m━━━━━━━━━━━━━━━━━━━━\u001b[0m\u001b[37m\u001b[0m \u001b[1m10s\u001b[0m 3ms/step - accuracy: 0.8308 - loss: 0.3711 - val_accuracy: 0.8411 - val_loss: 0.3508\n",
            "Epoch 4/20\n",
            "\u001b[1m2423/2423\u001b[0m \u001b[32m━━━━━━━━━━━━━━━━━━━━\u001b[0m\u001b[37m\u001b[0m \u001b[1m9s\u001b[0m 3ms/step - accuracy: 0.8395 - loss: 0.3543 - val_accuracy: 0.8442 - val_loss: 0.3457\n",
            "Epoch 5/20\n",
            "\u001b[1m2423/2423\u001b[0m \u001b[32m━━━━━━━━━━━━━━━━━━━━\u001b[0m\u001b[37m\u001b[0m \u001b[1m8s\u001b[0m 3ms/step - accuracy: 0.8467 - loss: 0.3425 - val_accuracy: 0.8467 - val_loss: 0.3401\n",
            "Epoch 6/20\n",
            "\u001b[1m2423/2423\u001b[0m \u001b[32m━━━━━━━━━━━━━━━━━━━━\u001b[0m\u001b[37m\u001b[0m \u001b[1m6s\u001b[0m 3ms/step - accuracy: 0.8516 - loss: 0.3313 - val_accuracy: 0.8453 - val_loss: 0.3405\n",
            "Epoch 7/20\n",
            "\u001b[1m2423/2423\u001b[0m \u001b[32m━━━━━━━━━━━━━━━━━━━━\u001b[0m\u001b[37m\u001b[0m \u001b[1m8s\u001b[0m 3ms/step - accuracy: 0.8553 - loss: 0.3225 - val_accuracy: 0.8454 - val_loss: 0.3382\n",
            "Epoch 8/20\n",
            "\u001b[1m2423/2423\u001b[0m \u001b[32m━━━━━━━━━━━━━━━━━━━━\u001b[0m\u001b[37m\u001b[0m \u001b[1m10s\u001b[0m 3ms/step - accuracy: 0.8608 - loss: 0.3147 - val_accuracy: 0.8500 - val_loss: 0.3355\n",
            "Epoch 9/20\n",
            "\u001b[1m2423/2423\u001b[0m \u001b[32m━━━━━━━━━━━━━━━━━━━━\u001b[0m\u001b[37m\u001b[0m \u001b[1m6s\u001b[0m 3ms/step - accuracy: 0.8648 - loss: 0.3058 - val_accuracy: 0.8479 - val_loss: 0.3370\n",
            "Epoch 10/20\n",
            "\u001b[1m2423/2423\u001b[0m \u001b[32m━━━━━━━━━━━━━━━━━━━━\u001b[0m\u001b[37m\u001b[0m \u001b[1m11s\u001b[0m 3ms/step - accuracy: 0.8685 - loss: 0.2993 - val_accuracy: 0.8508 - val_loss: 0.3328\n",
            "Epoch 11/20\n",
            "\u001b[1m2423/2423\u001b[0m \u001b[32m━━━━━━━━━━━━━━━━━━━━\u001b[0m\u001b[37m\u001b[0m \u001b[1m11s\u001b[0m 3ms/step - accuracy: 0.8701 - loss: 0.2936 - val_accuracy: 0.8500 - val_loss: 0.3325\n",
            "Epoch 12/20\n",
            "\u001b[1m2423/2423\u001b[0m \u001b[32m━━━━━━━━━━━━━━━━━━━━\u001b[0m\u001b[37m\u001b[0m \u001b[1m9s\u001b[0m 3ms/step - accuracy: 0.8691 - loss: 0.2912 - val_accuracy: 0.8466 - val_loss: 0.3371\n",
            "Epoch 13/20\n",
            "\u001b[1m2423/2423\u001b[0m \u001b[32m━━━━━━━━━━━━━━━━━━━━\u001b[0m\u001b[37m\u001b[0m \u001b[1m10s\u001b[0m 3ms/step - accuracy: 0.8754 - loss: 0.2840 - val_accuracy: 0.8489 - val_loss: 0.3344\n"
          ]
        }
      ]
    },
    {
      "cell_type": "code",
      "source": [
        "\n",
        "test_loss, test_accuracy = model.evaluate(X_test_def, y_test, batch_size=64)\n",
        "\n",
        "print(f\"Pérdida en el conjunto de test: {test_loss}\")\n",
        "print(f\"Precisión en el conjunto de test: {test_accuracy}\")"
      ],
      "metadata": {
        "colab": {
          "base_uri": "https://localhost:8080/"
        },
        "id": "0Q48VDdnwwPS",
        "outputId": "3f9636d3-62c9-4af3-b5f7-5591b0cb8b19"
      },
      "execution_count": null,
      "outputs": [
        {
          "output_type": "stream",
          "name": "stdout",
          "text": [
            "\u001b[1m379/379\u001b[0m \u001b[32m━━━━━━━━━━━━━━━━━━━━\u001b[0m\u001b[37m\u001b[0m \u001b[1m2s\u001b[0m 3ms/step - accuracy: 0.8494 - loss: 0.3312\n",
            "Pérdida en el conjunto de test: 0.3365821838378906\n",
            "Precisión en el conjunto de test: 0.8490979075431824\n"
          ]
        }
      ]
    },
    {
      "cell_type": "code",
      "source": [
        "import numpy as np\n",
        "import random\n",
        "import tensorflow as tf\n",
        "from tensorflow.keras.models import Sequential\n",
        "from tensorflow.keras.layers import Embedding, Conv1D, MaxPooling1D, Flatten, LSTM, Dense, Dropout, BatchNormalization, Bidirectional\n",
        "from tensorflow.keras.callbacks import EarlyStopping\n",
        "\n",
        "# Parámetros\n",
        "max_len = X_train_def.shape[1]\n",
        "seed=42\n",
        "np.random.seed(seed)\n",
        "random.seed(seed)\n",
        "tf.random.set_seed(seed)\n",
        "\n",
        "model = Sequential()\n",
        "model.add(Embedding(input_dim=num_words, output_dim=embedding_dim, weights=[embedding_matrix_x_train], trainable=False, input_length=max_len))\n",
        "model.add(Dropout(0.25))\n",
        "model.add(Conv1D(256 , 3 , padding = 'same',activation = 'relu'))\n",
        "model.add(MaxPooling1D(2))\n",
        "model.add(Dropout(0.5))\n",
        "model.add(Flatten())\n",
        "model.add(Dense(64, activation='relu'))\n",
        "\n",
        "model.add(Dense(1, activation='sigmoid'))\n",
        "\n",
        "from tensorflow.keras.optimizers import Adam\n",
        "optimizer = Adam(learning_rate=0.0005)  # Reducir el learning rate\n",
        "model.compile(loss='binary_crossentropy', optimizer=optimizer, metrics=['accuracy']) # Función de pérdida binaria\n",
        "\n",
        "# Definir Early Stopping\n",
        "early_stopping = EarlyStopping(monitor='val_accuracy', patience=3, restore_best_weights=True)\n",
        "\n",
        "# Entrenamiento con Early Stopping usando conjuntos de validación específicos\n",
        "history = model.fit(\n",
        "    X_train_def, y_train,\n",
        "    epochs=20,\n",
        "    batch_size=32,\n",
        "    validation_data=(X_val_def, y_val),  # Especifica los conjuntos de validación\n",
        "    callbacks=[early_stopping]\n",
        ")"
      ],
      "metadata": {
        "colab": {
          "base_uri": "https://localhost:8080/"
        },
        "id": "S5QcLSbvw0HM",
        "outputId": "b3b4fe52-9f34-4913-a3bc-3c6d91270d38"
      },
      "execution_count": null,
      "outputs": [
        {
          "output_type": "stream",
          "name": "stdout",
          "text": [
            "Epoch 1/20\n",
            "\u001b[1m2423/2423\u001b[0m \u001b[32m━━━━━━━━━━━━━━━━━━━━\u001b[0m\u001b[37m\u001b[0m \u001b[1m16s\u001b[0m 5ms/step - accuracy: 0.7356 - loss: 0.5083 - val_accuracy: 0.8308 - val_loss: 0.3748\n",
            "Epoch 2/20\n",
            "\u001b[1m2423/2423\u001b[0m \u001b[32m━━━━━━━━━━━━━━━━━━━━\u001b[0m\u001b[37m\u001b[0m \u001b[1m7s\u001b[0m 3ms/step - accuracy: 0.8242 - loss: 0.3858 - val_accuracy: 0.8417 - val_loss: 0.3547\n",
            "Epoch 3/20\n",
            "\u001b[1m2423/2423\u001b[0m \u001b[32m━━━━━━━━━━━━━━━━━━━━\u001b[0m\u001b[37m\u001b[0m \u001b[1m12s\u001b[0m 4ms/step - accuracy: 0.8388 - loss: 0.3583 - val_accuracy: 0.8425 - val_loss: 0.3492\n",
            "Epoch 4/20\n",
            "\u001b[1m2423/2423\u001b[0m \u001b[32m━━━━━━━━━━━━━━━━━━━━\u001b[0m\u001b[37m\u001b[0m \u001b[1m8s\u001b[0m 3ms/step - accuracy: 0.8442 - loss: 0.3397 - val_accuracy: 0.8423 - val_loss: 0.3495\n",
            "Epoch 5/20\n",
            "\u001b[1m2423/2423\u001b[0m \u001b[32m━━━━━━━━━━━━━━━━━━━━\u001b[0m\u001b[37m\u001b[0m \u001b[1m8s\u001b[0m 3ms/step - accuracy: 0.8565 - loss: 0.3224 - val_accuracy: 0.8477 - val_loss: 0.3388\n",
            "Epoch 6/20\n",
            "\u001b[1m2423/2423\u001b[0m \u001b[32m━━━━━━━━━━━━━━━━━━━━\u001b[0m\u001b[37m\u001b[0m \u001b[1m10s\u001b[0m 3ms/step - accuracy: 0.8633 - loss: 0.3064 - val_accuracy: 0.8463 - val_loss: 0.3433\n",
            "Epoch 7/20\n",
            "\u001b[1m2423/2423\u001b[0m \u001b[32m━━━━━━━━━━━━━━━━━━━━\u001b[0m\u001b[37m\u001b[0m \u001b[1m8s\u001b[0m 3ms/step - accuracy: 0.8712 - loss: 0.2945 - val_accuracy: 0.8489 - val_loss: 0.3430\n",
            "Epoch 8/20\n",
            "\u001b[1m2423/2423\u001b[0m \u001b[32m━━━━━━━━━━━━━━━━━━━━\u001b[0m\u001b[37m\u001b[0m \u001b[1m8s\u001b[0m 3ms/step - accuracy: 0.8752 - loss: 0.2839 - val_accuracy: 0.8480 - val_loss: 0.3421\n",
            "Epoch 9/20\n",
            "\u001b[1m2423/2423\u001b[0m \u001b[32m━━━━━━━━━━━━━━━━━━━━\u001b[0m\u001b[37m\u001b[0m \u001b[1m10s\u001b[0m 3ms/step - accuracy: 0.8827 - loss: 0.2710 - val_accuracy: 0.8473 - val_loss: 0.3442\n",
            "Epoch 10/20\n",
            "\u001b[1m2423/2423\u001b[0m \u001b[32m━━━━━━━━━━━━━━━━━━━━\u001b[0m\u001b[37m\u001b[0m \u001b[1m9s\u001b[0m 3ms/step - accuracy: 0.8834 - loss: 0.2670 - val_accuracy: 0.8494 - val_loss: 0.3435\n",
            "Epoch 11/20\n",
            "\u001b[1m2423/2423\u001b[0m \u001b[32m━━━━━━━━━━━━━━━━━━━━\u001b[0m\u001b[37m\u001b[0m \u001b[1m8s\u001b[0m 3ms/step - accuracy: 0.8878 - loss: 0.2584 - val_accuracy: 0.8488 - val_loss: 0.3432\n",
            "Epoch 12/20\n",
            "\u001b[1m2423/2423\u001b[0m \u001b[32m━━━━━━━━━━━━━━━━━━━━\u001b[0m\u001b[37m\u001b[0m \u001b[1m6s\u001b[0m 3ms/step - accuracy: 0.8934 - loss: 0.2481 - val_accuracy: 0.8490 - val_loss: 0.3421\n",
            "Epoch 13/20\n",
            "\u001b[1m2423/2423\u001b[0m \u001b[32m━━━━━━━━━━━━━━━━━━━━\u001b[0m\u001b[37m\u001b[0m \u001b[1m8s\u001b[0m 3ms/step - accuracy: 0.8938 - loss: 0.2462 - val_accuracy: 0.8478 - val_loss: 0.3474\n"
          ]
        }
      ]
    },
    {
      "cell_type": "code",
      "source": [
        "\n",
        "test_loss, test_accuracy = model.evaluate(X_test_def, y_test, batch_size=64)\n",
        "\n",
        "print(f\"Pérdida en el conjunto de test: {test_loss}\")\n",
        "print(f\"Precisión en el conjunto de test: {test_accuracy}\")"
      ],
      "metadata": {
        "colab": {
          "base_uri": "https://localhost:8080/"
        },
        "id": "HWfJBP1uw_Po",
        "outputId": "cffd64d4-0445-419f-b7d8-3870beba085c"
      },
      "execution_count": null,
      "outputs": [
        {
          "output_type": "stream",
          "name": "stdout",
          "text": [
            "\u001b[1m379/379\u001b[0m \u001b[32m━━━━━━━━━━━━━━━━━━━━\u001b[0m\u001b[37m\u001b[0m \u001b[1m1s\u001b[0m 3ms/step - accuracy: 0.8480 - loss: 0.3394\n",
            "Pérdida en el conjunto de test: 0.34482666850090027\n",
            "Precisión en el conjunto de test: 0.8486437201499939\n"
          ]
        }
      ]
    },
    {
      "cell_type": "code",
      "source": [
        "import numpy as np\n",
        "import random\n",
        "import tensorflow as tf\n",
        "from tensorflow.keras.models import Sequential\n",
        "from tensorflow.keras.layers import Embedding, Conv1D, MaxPooling1D, Flatten, LSTM, Dense, Dropout, BatchNormalization, Bidirectional\n",
        "from tensorflow.keras.callbacks import EarlyStopping\n",
        "\n",
        "# Parámetros\n",
        "max_len = X_train_def.shape[1]\n",
        "seed=42\n",
        "np.random.seed(seed)\n",
        "random.seed(seed)\n",
        "tf.random.set_seed(seed)\n",
        "\n",
        "model = Sequential()\n",
        "model.add(Embedding(input_dim=num_words, output_dim=embedding_dim, weights=[embedding_matrix_x_train], trainable=False, input_length=max_len))\n",
        "model.add(Dropout(0.25))\n",
        "model.add(Conv1D(64 , 5 , padding = 'same',activation = 'relu'))\n",
        "model.add(MaxPooling1D(2))\n",
        "model.add(Dropout(0.5))\n",
        "model.add(Flatten())\n",
        "model.add(Dense(64, activation='relu'))\n",
        "\n",
        "model.add(Dense(1, activation='sigmoid'))\n",
        "\n",
        "from tensorflow.keras.optimizers import Adam\n",
        "optimizer = Adam(learning_rate=0.0005)  # Reducir el learning rate\n",
        "model.compile(loss='binary_crossentropy', optimizer=optimizer, metrics=['accuracy']) # Función de pérdida binaria\n",
        "\n",
        "# Definir Early Stopping\n",
        "early_stopping = EarlyStopping(monitor='val_accuracy', patience=3, restore_best_weights=True)\n",
        "\n",
        "# Entrenamiento con Early Stopping usando conjuntos de validación específicos\n",
        "history = model.fit(\n",
        "    X_train_def, y_train,\n",
        "    epochs=20,\n",
        "    batch_size=32,\n",
        "    validation_data=(X_val_def, y_val),  # Especifica los conjuntos de validación\n",
        "    callbacks=[early_stopping]\n",
        ")"
      ],
      "metadata": {
        "colab": {
          "base_uri": "https://localhost:8080/"
        },
        "id": "c1Fd7OQdxAyg",
        "outputId": "3baed208-9761-4d64-b6f0-5e4c2578e327"
      },
      "execution_count": null,
      "outputs": [
        {
          "output_type": "stream",
          "name": "stdout",
          "text": [
            "Epoch 1/20\n",
            "\u001b[1m2423/2423\u001b[0m \u001b[32m━━━━━━━━━━━━━━━━━━━━\u001b[0m\u001b[37m\u001b[0m \u001b[1m13s\u001b[0m 4ms/step - accuracy: 0.7157 - loss: 0.5291 - val_accuracy: 0.8245 - val_loss: 0.3864\n",
            "Epoch 2/20\n",
            "\u001b[1m2423/2423\u001b[0m \u001b[32m━━━━━━━━━━━━━━━━━━━━\u001b[0m\u001b[37m\u001b[0m \u001b[1m7s\u001b[0m 3ms/step - accuracy: 0.8110 - loss: 0.4068 - val_accuracy: 0.8385 - val_loss: 0.3650\n",
            "Epoch 3/20\n",
            "\u001b[1m2423/2423\u001b[0m \u001b[32m━━━━━━━━━━━━━━━━━━━━\u001b[0m\u001b[37m\u001b[0m \u001b[1m6s\u001b[0m 3ms/step - accuracy: 0.8255 - loss: 0.3790 - val_accuracy: 0.8400 - val_loss: 0.3573\n",
            "Epoch 4/20\n",
            "\u001b[1m2423/2423\u001b[0m \u001b[32m━━━━━━━━━━━━━━━━━━━━\u001b[0m\u001b[37m\u001b[0m \u001b[1m7s\u001b[0m 3ms/step - accuracy: 0.8321 - loss: 0.3675 - val_accuracy: 0.8375 - val_loss: 0.3558\n",
            "Epoch 5/20\n",
            "\u001b[1m2423/2423\u001b[0m \u001b[32m━━━━━━━━━━━━━━━━━━━━\u001b[0m\u001b[37m\u001b[0m \u001b[1m7s\u001b[0m 3ms/step - accuracy: 0.8406 - loss: 0.3534 - val_accuracy: 0.8434 - val_loss: 0.3478\n",
            "Epoch 6/20\n",
            "\u001b[1m2423/2423\u001b[0m \u001b[32m━━━━━━━━━━━━━━━━━━━━\u001b[0m\u001b[37m\u001b[0m \u001b[1m7s\u001b[0m 3ms/step - accuracy: 0.8457 - loss: 0.3430 - val_accuracy: 0.8451 - val_loss: 0.3452\n",
            "Epoch 7/20\n",
            "\u001b[1m2423/2423\u001b[0m \u001b[32m━━━━━━━━━━━━━━━━━━━━\u001b[0m\u001b[37m\u001b[0m \u001b[1m10s\u001b[0m 3ms/step - accuracy: 0.8507 - loss: 0.3379 - val_accuracy: 0.8438 - val_loss: 0.3446\n",
            "Epoch 8/20\n",
            "\u001b[1m2423/2423\u001b[0m \u001b[32m━━━━━━━━━━━━━━━━━━━━\u001b[0m\u001b[37m\u001b[0m \u001b[1m10s\u001b[0m 3ms/step - accuracy: 0.8534 - loss: 0.3284 - val_accuracy: 0.8455 - val_loss: 0.3417\n",
            "Epoch 9/20\n",
            "\u001b[1m2423/2423\u001b[0m \u001b[32m━━━━━━━━━━━━━━━━━━━━\u001b[0m\u001b[37m\u001b[0m \u001b[1m11s\u001b[0m 3ms/step - accuracy: 0.8550 - loss: 0.3232 - val_accuracy: 0.8438 - val_loss: 0.3427\n",
            "Epoch 10/20\n",
            "\u001b[1m2423/2423\u001b[0m \u001b[32m━━━━━━━━━━━━━━━━━━━━\u001b[0m\u001b[37m\u001b[0m \u001b[1m7s\u001b[0m 3ms/step - accuracy: 0.8557 - loss: 0.3212 - val_accuracy: 0.8468 - val_loss: 0.3405\n",
            "Epoch 11/20\n",
            "\u001b[1m2423/2423\u001b[0m \u001b[32m━━━━━━━━━━━━━━━━━━━━\u001b[0m\u001b[37m\u001b[0m \u001b[1m10s\u001b[0m 3ms/step - accuracy: 0.8610 - loss: 0.3130 - val_accuracy: 0.8454 - val_loss: 0.3432\n",
            "Epoch 12/20\n",
            "\u001b[1m2423/2423\u001b[0m \u001b[32m━━━━━━━━━━━━━━━━━━━━\u001b[0m\u001b[37m\u001b[0m \u001b[1m7s\u001b[0m 3ms/step - accuracy: 0.8615 - loss: 0.3095 - val_accuracy: 0.8434 - val_loss: 0.3437\n",
            "Epoch 13/20\n",
            "\u001b[1m2423/2423\u001b[0m \u001b[32m━━━━━━━━━━━━━━━━━━━━\u001b[0m\u001b[37m\u001b[0m \u001b[1m10s\u001b[0m 3ms/step - accuracy: 0.8631 - loss: 0.3079 - val_accuracy: 0.8445 - val_loss: 0.3461\n"
          ]
        }
      ]
    },
    {
      "cell_type": "code",
      "source": [
        "\n",
        "test_loss, test_accuracy = model.evaluate(X_test_def, y_test, batch_size=64)\n",
        "\n",
        "print(f\"Pérdida en el conjunto de test: {test_loss}\")\n",
        "print(f\"Precisión en el conjunto de test: {test_accuracy}\")"
      ],
      "metadata": {
        "colab": {
          "base_uri": "https://localhost:8080/"
        },
        "id": "neAffNjHxKVu",
        "outputId": "731c5d5a-9c25-46ab-d034-64ba8ad40866"
      },
      "execution_count": null,
      "outputs": [
        {
          "output_type": "stream",
          "name": "stdout",
          "text": [
            "\u001b[1m379/379\u001b[0m \u001b[32m━━━━━━━━━━━━━━━━━━━━\u001b[0m\u001b[37m\u001b[0m \u001b[1m2s\u001b[0m 3ms/step - accuracy: 0.8497 - loss: 0.3371\n",
            "Pérdida en el conjunto de test: 0.34101879596710205\n",
            "Precisión en el conjunto de test: 0.8480657339096069\n"
          ]
        }
      ]
    },
    {
      "cell_type": "code",
      "source": [
        "import numpy as np\n",
        "import random\n",
        "import tensorflow as tf\n",
        "from tensorflow.keras.models import Sequential\n",
        "from tensorflow.keras.layers import Embedding, Conv1D, MaxPooling1D, Flatten, LSTM, Dense, Dropout, BatchNormalization, Bidirectional\n",
        "from tensorflow.keras.callbacks import EarlyStopping\n",
        "\n",
        "# Parámetros\n",
        "max_len = X_train_def.shape[1]\n",
        "seed=42\n",
        "np.random.seed(seed)\n",
        "random.seed(seed)\n",
        "tf.random.set_seed(seed)\n",
        "\n",
        "model = Sequential()\n",
        "model.add(Embedding(input_dim=num_words, output_dim=embedding_dim, weights=[embedding_matrix_x_train], trainable=False, input_length=max_len))\n",
        "model.add(Dropout(0.25))\n",
        "model.add(Conv1D(256 , 5 , padding = 'same',activation = 'relu'))\n",
        "model.add(MaxPooling1D(2))\n",
        "model.add(Dropout(0.5))\n",
        "model.add(Flatten())\n",
        "model.add(Dense(64, activation='relu'))\n",
        "\n",
        "model.add(Dense(1, activation='sigmoid'))\n",
        "\n",
        "from tensorflow.keras.optimizers import Adam\n",
        "optimizer = Adam(learning_rate=0.0005)  # Reducir el learning rate\n",
        "model.compile(loss='binary_crossentropy', optimizer=optimizer, metrics=['accuracy']) # Función de pérdida binaria\n",
        "\n",
        "# Definir Early Stopping\n",
        "early_stopping = EarlyStopping(monitor='val_accuracy', patience=3, restore_best_weights=True)\n",
        "\n",
        "# Entrenamiento con Early Stopping usando conjuntos de validación específicos\n",
        "history = model.fit(\n",
        "    X_train_def, y_train,\n",
        "    epochs=20,\n",
        "    batch_size=32,\n",
        "    validation_data=(X_val_def, y_val),  # Especifica los conjuntos de validación\n",
        "    callbacks=[early_stopping]\n",
        ")"
      ],
      "metadata": {
        "colab": {
          "base_uri": "https://localhost:8080/"
        },
        "id": "oh8RE9XjxP6z",
        "outputId": "0c7f3fae-e63d-40c8-8a95-407e5ebd32e6"
      },
      "execution_count": null,
      "outputs": [
        {
          "output_type": "stream",
          "name": "stdout",
          "text": [
            "Epoch 1/20\n",
            "\u001b[1m2423/2423\u001b[0m \u001b[32m━━━━━━━━━━━━━━━━━━━━\u001b[0m\u001b[37m\u001b[0m \u001b[1m13s\u001b[0m 4ms/step - accuracy: 0.7391 - loss: 0.5040 - val_accuracy: 0.8250 - val_loss: 0.3811\n",
            "Epoch 2/20\n",
            "\u001b[1m2423/2423\u001b[0m \u001b[32m━━━━━━━━━━━━━━━━━━━━\u001b[0m\u001b[37m\u001b[0m \u001b[1m15s\u001b[0m 3ms/step - accuracy: 0.8205 - loss: 0.3924 - val_accuracy: 0.8336 - val_loss: 0.3632\n",
            "Epoch 3/20\n",
            "\u001b[1m2423/2423\u001b[0m \u001b[32m━━━━━━━━━━━━━━━━━━━━\u001b[0m\u001b[37m\u001b[0m \u001b[1m11s\u001b[0m 3ms/step - accuracy: 0.8359 - loss: 0.3595 - val_accuracy: 0.8444 - val_loss: 0.3506\n",
            "Epoch 4/20\n",
            "\u001b[1m2423/2423\u001b[0m \u001b[32m━━━━━━━━━━━━━━━━━━━━\u001b[0m\u001b[37m\u001b[0m \u001b[1m10s\u001b[0m 3ms/step - accuracy: 0.8470 - loss: 0.3372 - val_accuracy: 0.8369 - val_loss: 0.3603\n",
            "Epoch 5/20\n",
            "\u001b[1m2423/2423\u001b[0m \u001b[32m━━━━━━━━━━━━━━━━━━━━\u001b[0m\u001b[37m\u001b[0m \u001b[1m9s\u001b[0m 3ms/step - accuracy: 0.8602 - loss: 0.3138 - val_accuracy: 0.8439 - val_loss: 0.3480\n",
            "Epoch 6/20\n",
            "\u001b[1m2423/2423\u001b[0m \u001b[32m━━━━━━━━━━━━━━━━━━━━\u001b[0m\u001b[37m\u001b[0m \u001b[1m11s\u001b[0m 3ms/step - accuracy: 0.8687 - loss: 0.2951 - val_accuracy: 0.8406 - val_loss: 0.3580\n"
          ]
        }
      ]
    },
    {
      "cell_type": "code",
      "source": [
        "\n",
        "test_loss, test_accuracy = model.evaluate(X_test_def, y_test, batch_size=64)\n",
        "\n",
        "print(f\"Pérdida en el conjunto de test: {test_loss}\")\n",
        "print(f\"Precisión en el conjunto de test: {test_accuracy}\")"
      ],
      "metadata": {
        "colab": {
          "base_uri": "https://localhost:8080/"
        },
        "id": "Xi3v1-_IxY9D",
        "outputId": "10202586-3750-4865-d22d-19a0cf6ecb11"
      },
      "execution_count": null,
      "outputs": [
        {
          "output_type": "stream",
          "name": "stdout",
          "text": [
            "\u001b[1m379/379\u001b[0m \u001b[32m━━━━━━━━━━━━━━━━━━━━\u001b[0m\u001b[37m\u001b[0m \u001b[1m2s\u001b[0m 4ms/step - accuracy: 0.8447 - loss: 0.3468\n",
            "Pérdida en el conjunto de test: 0.35312244296073914\n",
            "Precisión en el conjunto de test: 0.8413360118865967\n"
          ]
        }
      ]
    },
    {
      "cell_type": "code",
      "source": [
        "import numpy as np\n",
        "import random\n",
        "import tensorflow as tf\n",
        "from tensorflow.keras.models import Sequential\n",
        "from tensorflow.keras.layers import Embedding, Conv1D, MaxPooling1D, Flatten, LSTM, Dense, Dropout, BatchNormalization, Bidirectional\n",
        "from tensorflow.keras.callbacks import EarlyStopping\n",
        "\n",
        "# Parámetros\n",
        "max_len = X_train_def.shape[1]\n",
        "seed=42\n",
        "np.random.seed(seed)\n",
        "random.seed(seed)\n",
        "tf.random.set_seed(seed)\n",
        "\n",
        "model = Sequential()\n",
        "model.add(Embedding(input_dim=num_words, output_dim=embedding_dim, weights=[embedding_matrix_x_train], trainable=False, input_length=max_len))\n",
        "model.add(Dropout(0.25))\n",
        "model.add(Conv1D(64 , 5 , padding = 'same',activation = 'relu'))\n",
        "model.add(MaxPooling1D(2))\n",
        "model.add(Dropout(0.5))\n",
        "model.add(Conv1D(64 , 5 , padding = 'same',activation = 'relu'))\n",
        "model.add(MaxPooling1D(2))\n",
        "model.add(Dropout(0.5))\n",
        "\n",
        "model.add(Flatten())\n",
        "model.add(Dense(64, activation='relu'))\n",
        "\n",
        "model.add(Dense(1, activation='sigmoid'))\n",
        "\n",
        "from tensorflow.keras.optimizers import Adam\n",
        "optimizer = Adam(learning_rate=0.0005)  # Reducir el learning rate\n",
        "model.compile(loss='binary_crossentropy', optimizer=optimizer, metrics=['accuracy']) # Función de pérdida binaria\n",
        "\n",
        "# Definir Early Stopping\n",
        "early_stopping = EarlyStopping(monitor='val_accuracy', patience=3, restore_best_weights=True)\n",
        "\n",
        "# Entrenamiento con Early Stopping usando conjuntos de validación específicos\n",
        "history = model.fit(\n",
        "    X_train_def, y_train,\n",
        "    epochs=20,\n",
        "    batch_size=32,\n",
        "    validation_data=(X_val_def, y_val),  # Especifica los conjuntos de validación\n",
        "    callbacks=[early_stopping]\n",
        ")"
      ],
      "metadata": {
        "colab": {
          "base_uri": "https://localhost:8080/"
        },
        "id": "qMAq073dxbX9",
        "outputId": "6323457e-4f29-4c37-92dc-96e7bb218a4e"
      },
      "execution_count": null,
      "outputs": [
        {
          "output_type": "stream",
          "name": "stdout",
          "text": [
            "Epoch 1/20\n",
            "\u001b[1m2423/2423\u001b[0m \u001b[32m━━━━━━━━━━━━━━━━━━━━\u001b[0m\u001b[37m\u001b[0m \u001b[1m15s\u001b[0m 5ms/step - accuracy: 0.6962 - loss: 0.5555 - val_accuracy: 0.8243 - val_loss: 0.3918\n",
            "Epoch 2/20\n",
            "\u001b[1m2423/2423\u001b[0m \u001b[32m━━━━━━━━━━━━━━━━━━━━\u001b[0m\u001b[37m\u001b[0m \u001b[1m15s\u001b[0m 3ms/step - accuracy: 0.8097 - loss: 0.4114 - val_accuracy: 0.8391 - val_loss: 0.3668\n",
            "Epoch 3/20\n",
            "\u001b[1m2423/2423\u001b[0m \u001b[32m━━━━━━━━━━━━━━━━━━━━\u001b[0m\u001b[37m\u001b[0m \u001b[1m7s\u001b[0m 3ms/step - accuracy: 0.8234 - loss: 0.3855 - val_accuracy: 0.8426 - val_loss: 0.3576\n",
            "Epoch 4/20\n",
            "\u001b[1m2423/2423\u001b[0m \u001b[32m━━━━━━━━━━━━━━━━━━━━\u001b[0m\u001b[37m\u001b[0m \u001b[1m8s\u001b[0m 3ms/step - accuracy: 0.8325 - loss: 0.3709 - val_accuracy: 0.8440 - val_loss: 0.3523\n",
            "Epoch 5/20\n",
            "\u001b[1m2423/2423\u001b[0m \u001b[32m━━━━━━━━━━━━━━━━━━━━\u001b[0m\u001b[37m\u001b[0m \u001b[1m10s\u001b[0m 3ms/step - accuracy: 0.8389 - loss: 0.3582 - val_accuracy: 0.8457 - val_loss: 0.3488\n",
            "Epoch 6/20\n",
            "\u001b[1m2423/2423\u001b[0m \u001b[32m━━━━━━━━━━━━━━━━━━━━\u001b[0m\u001b[37m\u001b[0m \u001b[1m7s\u001b[0m 3ms/step - accuracy: 0.8415 - loss: 0.3511 - val_accuracy: 0.8480 - val_loss: 0.3421\n",
            "Epoch 7/20\n",
            "\u001b[1m2423/2423\u001b[0m \u001b[32m━━━━━━━━━━━━━━━━━━━━\u001b[0m\u001b[37m\u001b[0m \u001b[1m8s\u001b[0m 3ms/step - accuracy: 0.8476 - loss: 0.3434 - val_accuracy: 0.8477 - val_loss: 0.3407\n",
            "Epoch 8/20\n",
            "\u001b[1m2423/2423\u001b[0m \u001b[32m━━━━━━━━━━━━━━━━━━━━\u001b[0m\u001b[37m\u001b[0m \u001b[1m7s\u001b[0m 3ms/step - accuracy: 0.8520 - loss: 0.3354 - val_accuracy: 0.8494 - val_loss: 0.3409\n",
            "Epoch 9/20\n",
            "\u001b[1m2423/2423\u001b[0m \u001b[32m━━━━━━━━━━━━━━━━━━━━\u001b[0m\u001b[37m\u001b[0m \u001b[1m8s\u001b[0m 3ms/step - accuracy: 0.8542 - loss: 0.3315 - val_accuracy: 0.8490 - val_loss: 0.3369\n",
            "Epoch 10/20\n",
            "\u001b[1m2423/2423\u001b[0m \u001b[32m━━━━━━━━━━━━━━━━━━━━\u001b[0m\u001b[37m\u001b[0m \u001b[1m9s\u001b[0m 3ms/step - accuracy: 0.8527 - loss: 0.3280 - val_accuracy: 0.8525 - val_loss: 0.3366\n",
            "Epoch 11/20\n",
            "\u001b[1m2423/2423\u001b[0m \u001b[32m━━━━━━━━━━━━━━━━━━━━\u001b[0m\u001b[37m\u001b[0m \u001b[1m10s\u001b[0m 3ms/step - accuracy: 0.8578 - loss: 0.3221 - val_accuracy: 0.8515 - val_loss: 0.3362\n",
            "Epoch 12/20\n",
            "\u001b[1m2423/2423\u001b[0m \u001b[32m━━━━━━━━━━━━━━━━━━━━\u001b[0m\u001b[37m\u001b[0m \u001b[1m11s\u001b[0m 3ms/step - accuracy: 0.8622 - loss: 0.3159 - val_accuracy: 0.8530 - val_loss: 0.3339\n",
            "Epoch 13/20\n",
            "\u001b[1m2423/2423\u001b[0m \u001b[32m━━━━━━━━━━━━━━━━━━━━\u001b[0m\u001b[37m\u001b[0m \u001b[1m7s\u001b[0m 3ms/step - accuracy: 0.8605 - loss: 0.3163 - val_accuracy: 0.8516 - val_loss: 0.3329\n",
            "Epoch 14/20\n",
            "\u001b[1m2423/2423\u001b[0m \u001b[32m━━━━━━━━━━━━━━━━━━━━\u001b[0m\u001b[37m\u001b[0m \u001b[1m7s\u001b[0m 3ms/step - accuracy: 0.8638 - loss: 0.3100 - val_accuracy: 0.8533 - val_loss: 0.3322\n",
            "Epoch 15/20\n",
            "\u001b[1m2423/2423\u001b[0m \u001b[32m━━━━━━━━━━━━━━━━━━━━\u001b[0m\u001b[37m\u001b[0m \u001b[1m11s\u001b[0m 3ms/step - accuracy: 0.8658 - loss: 0.3069 - val_accuracy: 0.8488 - val_loss: 0.3348\n",
            "Epoch 16/20\n",
            "\u001b[1m2423/2423\u001b[0m \u001b[32m━━━━━━━━━━━━━━━━━━━━\u001b[0m\u001b[37m\u001b[0m \u001b[1m7s\u001b[0m 3ms/step - accuracy: 0.8687 - loss: 0.3017 - val_accuracy: 0.8513 - val_loss: 0.3327\n",
            "Epoch 17/20\n",
            "\u001b[1m2423/2423\u001b[0m \u001b[32m━━━━━━━━━━━━━━━━━━━━\u001b[0m\u001b[37m\u001b[0m \u001b[1m8s\u001b[0m 3ms/step - accuracy: 0.8690 - loss: 0.3016 - val_accuracy: 0.8500 - val_loss: 0.3343\n"
          ]
        }
      ]
    },
    {
      "cell_type": "code",
      "source": [
        "\n",
        "test_loss, test_accuracy = model.evaluate(X_test_def, y_test, batch_size=64)\n",
        "\n",
        "print(f\"Pérdida en el conjunto de test: {test_loss}\")\n",
        "print(f\"Precisión en el conjunto de test: {test_accuracy}\")"
      ],
      "metadata": {
        "colab": {
          "base_uri": "https://localhost:8080/"
        },
        "id": "AMZ4a9c5xgUR",
        "outputId": "ebf99c13-ce55-44c1-fb39-b7d93cc836b4"
      },
      "execution_count": null,
      "outputs": [
        {
          "output_type": "stream",
          "name": "stdout",
          "text": [
            "\u001b[1m379/379\u001b[0m \u001b[32m━━━━━━━━━━━━━━━━━━━━\u001b[0m\u001b[37m\u001b[0m \u001b[1m1s\u001b[0m 3ms/step - accuracy: 0.8540 - loss: 0.3318\n",
            "Pérdida en el conjunto de test: 0.3342164158821106\n",
            "Precisión en el conjunto de test: 0.8517402410507202\n"
          ]
        }
      ]
    },
    {
      "cell_type": "code",
      "source": [
        "import numpy as np\n",
        "import random\n",
        "import tensorflow as tf\n",
        "from tensorflow.keras.models import Sequential\n",
        "from tensorflow.keras.layers import Embedding, Conv1D, MaxPooling1D, Flatten, LSTM, Dense, Dropout, BatchNormalization, Bidirectional\n",
        "from tensorflow.keras.callbacks import EarlyStopping\n",
        "\n",
        "# Parámetros\n",
        "max_len = X_train_def.shape[1]\n",
        "seed=42\n",
        "np.random.seed(seed)\n",
        "random.seed(seed)\n",
        "tf.random.set_seed(seed)\n",
        "\n",
        "model = Sequential()\n",
        "model.add(Embedding(input_dim=num_words, output_dim=embedding_dim, weights=[embedding_matrix_x_train], trainable=False, input_length=max_len))\n",
        "model.add(Dropout(0.25))\n",
        "model.add(Conv1D(64 , 5 , padding = 'same',activation = 'relu'))\n",
        "model.add(MaxPooling1D(2))\n",
        "model.add(Conv1D(64 , 5 , padding = 'same',activation = 'relu'))\n",
        "model.add(MaxPooling1D(2))\n",
        "model.add(Dropout(0.5))\n",
        "\n",
        "model.add(Flatten())\n",
        "model.add(Dense(64, activation='relu'))\n",
        "\n",
        "model.add(Dense(1, activation='sigmoid'))\n",
        "\n",
        "from tensorflow.keras.optimizers import Adam\n",
        "optimizer = Adam(learning_rate=0.0005)  # Reducir el learning rate\n",
        "model.compile(loss='binary_crossentropy', optimizer=optimizer, metrics=['accuracy']) # Función de pérdida binaria\n",
        "\n",
        "# Definir Early Stopping\n",
        "early_stopping = EarlyStopping(monitor='val_accuracy', patience=3, restore_best_weights=True)\n",
        "\n",
        "# Entrenamiento con Early Stopping usando conjuntos de validación específicos\n",
        "history = model.fit(\n",
        "    X_train_def, y_train,\n",
        "    epochs=20,\n",
        "    batch_size=32,\n",
        "    validation_data=(X_val_def, y_val),  # Especifica los conjuntos de validación\n",
        "    callbacks=[early_stopping]\n",
        ")"
      ],
      "metadata": {
        "colab": {
          "base_uri": "https://localhost:8080/"
        },
        "id": "HRrarNWexhkK",
        "outputId": "3943c834-8070-41b2-ec04-fa8370e55c61"
      },
      "execution_count": null,
      "outputs": [
        {
          "output_type": "stream",
          "name": "stdout",
          "text": [
            "Epoch 1/20\n",
            "\u001b[1m2423/2423\u001b[0m \u001b[32m━━━━━━━━━━━━━━━━━━━━\u001b[0m\u001b[37m\u001b[0m \u001b[1m13s\u001b[0m 4ms/step - accuracy: 0.7195 - loss: 0.5200 - val_accuracy: 0.8262 - val_loss: 0.3791\n",
            "Epoch 2/20\n",
            "\u001b[1m2423/2423\u001b[0m \u001b[32m━━━━━━━━━━━━━━━━━━━━\u001b[0m\u001b[37m\u001b[0m \u001b[1m7s\u001b[0m 3ms/step - accuracy: 0.8273 - loss: 0.3803 - val_accuracy: 0.8384 - val_loss: 0.3535\n",
            "Epoch 3/20\n",
            "\u001b[1m2423/2423\u001b[0m \u001b[32m━━━━━━━━━━━━━━━━━━━━\u001b[0m\u001b[37m\u001b[0m \u001b[1m9s\u001b[0m 3ms/step - accuracy: 0.8459 - loss: 0.3422 - val_accuracy: 0.8462 - val_loss: 0.3455\n",
            "Epoch 4/20\n",
            "\u001b[1m2423/2423\u001b[0m \u001b[32m━━━━━━━━━━━━━━━━━━━━\u001b[0m\u001b[37m\u001b[0m \u001b[1m8s\u001b[0m 3ms/step - accuracy: 0.8576 - loss: 0.3197 - val_accuracy: 0.8462 - val_loss: 0.3448\n",
            "Epoch 5/20\n",
            "\u001b[1m2423/2423\u001b[0m \u001b[32m━━━━━━━━━━━━━━━━━━━━\u001b[0m\u001b[37m\u001b[0m \u001b[1m6s\u001b[0m 3ms/step - accuracy: 0.8705 - loss: 0.2970 - val_accuracy: 0.8470 - val_loss: 0.3491\n",
            "Epoch 6/20\n",
            "\u001b[1m2423/2423\u001b[0m \u001b[32m━━━━━━━━━━━━━━━━━━━━\u001b[0m\u001b[37m\u001b[0m \u001b[1m8s\u001b[0m 3ms/step - accuracy: 0.8795 - loss: 0.2788 - val_accuracy: 0.8461 - val_loss: 0.3562\n",
            "Epoch 7/20\n",
            "\u001b[1m2423/2423\u001b[0m \u001b[32m━━━━━━━━━━━━━━━━━━━━\u001b[0m\u001b[37m\u001b[0m \u001b[1m10s\u001b[0m 3ms/step - accuracy: 0.8831 - loss: 0.2670 - val_accuracy: 0.8424 - val_loss: 0.3729\n",
            "Epoch 8/20\n",
            "\u001b[1m2423/2423\u001b[0m \u001b[32m━━━━━━━━━━━━━━━━━━━━\u001b[0m\u001b[37m\u001b[0m \u001b[1m9s\u001b[0m 3ms/step - accuracy: 0.8927 - loss: 0.2515 - val_accuracy: 0.8442 - val_loss: 0.3636\n"
          ]
        }
      ]
    },
    {
      "cell_type": "code",
      "source": [
        "\n",
        "test_loss, test_accuracy = model.evaluate(X_test_def, y_test, batch_size=64)\n",
        "\n",
        "print(f\"Pérdida en el conjunto de test: {test_loss}\")\n",
        "print(f\"Precisión en el conjunto de test: {test_accuracy}\")"
      ],
      "metadata": {
        "colab": {
          "base_uri": "https://localhost:8080/"
        },
        "id": "OhjhmDfrxjrZ",
        "outputId": "ee4a3db8-6a85-48eb-a035-9b31f0fded96"
      },
      "execution_count": null,
      "outputs": [
        {
          "output_type": "stream",
          "name": "stdout",
          "text": [
            "\u001b[1m379/379\u001b[0m \u001b[32m━━━━━━━━━━━━━━━━━━━━\u001b[0m\u001b[37m\u001b[0m \u001b[1m1s\u001b[0m 2ms/step - accuracy: 0.8474 - loss: 0.3476\n",
            "Pérdida en el conjunto de test: 0.35151219367980957\n",
            "Precisión en el conjunto de test: 0.8450930714607239\n"
          ]
        }
      ]
    },
    {
      "cell_type": "code",
      "source": [
        "import numpy as np\n",
        "import random\n",
        "import tensorflow as tf\n",
        "from tensorflow.keras.models import Sequential\n",
        "from tensorflow.keras.layers import Embedding, Conv1D, MaxPooling1D, Flatten, LSTM, Dense, Dropout, BatchNormalization, Bidirectional\n",
        "from tensorflow.keras.callbacks import EarlyStopping\n",
        "\n",
        "# Parámetros\n",
        "max_len = X_train_def.shape[1]\n",
        "seed=42\n",
        "np.random.seed(seed)\n",
        "random.seed(seed)\n",
        "tf.random.set_seed(seed)\n",
        "\n",
        "model = Sequential()\n",
        "model.add(Embedding(input_dim=num_words, output_dim=embedding_dim, weights=[embedding_matrix_x_train], trainable=False, input_length=max_len))\n",
        "model.add(Dropout(0.25))\n",
        "model.add(Conv1D(128 , 5 , padding = 'same',activation = 'relu'))\n",
        "model.add(MaxPooling1D(2))\n",
        "model.add(Dropout(0.5))\n",
        "model.add(Conv1D(128 , 5 , padding = 'same',activation = 'relu'))\n",
        "model.add(MaxPooling1D(2))\n",
        "model.add(Dropout(0.5))\n",
        "\n",
        "model.add(Flatten())\n",
        "model.add(Dense(64, activation='relu'))\n",
        "\n",
        "model.add(Dense(1, activation='sigmoid'))\n",
        "\n",
        "from tensorflow.keras.optimizers import Adam\n",
        "optimizer = Adam(learning_rate=0.0005)  # Reducir el learning rate\n",
        "model.compile(loss='binary_crossentropy', optimizer=optimizer, metrics=['accuracy']) # Función de pérdida binaria\n",
        "\n",
        "# Definir Early Stopping\n",
        "early_stopping = EarlyStopping(monitor='val_accuracy', patience=3, restore_best_weights=True)\n",
        "\n",
        "# Entrenamiento con Early Stopping usando conjuntos de validación específicos\n",
        "history = model.fit(\n",
        "    X_train_def, y_train,\n",
        "    epochs=20,\n",
        "    batch_size=32,\n",
        "    validation_data=(X_val_def, y_val),  # Especifica los conjuntos de validación\n",
        "    callbacks=[early_stopping]\n",
        ")"
      ],
      "metadata": {
        "colab": {
          "base_uri": "https://localhost:8080/"
        },
        "id": "xjkWfZ3Bxk4z",
        "outputId": "f0ae851a-212c-40d9-cbdd-6093052a8d6d"
      },
      "execution_count": null,
      "outputs": [
        {
          "output_type": "stream",
          "name": "stdout",
          "text": [
            "Epoch 1/20\n",
            "\u001b[1m2423/2423\u001b[0m \u001b[32m━━━━━━━━━━━━━━━━━━━━\u001b[0m\u001b[37m\u001b[0m \u001b[1m20s\u001b[0m 6ms/step - accuracy: 0.7134 - loss: 0.5305 - val_accuracy: 0.8246 - val_loss: 0.3847\n",
            "Epoch 2/20\n",
            "\u001b[1m2423/2423\u001b[0m \u001b[32m━━━━━━━━━━━━━━━━━━━━\u001b[0m\u001b[37m\u001b[0m \u001b[1m10s\u001b[0m 4ms/step - accuracy: 0.8122 - loss: 0.4024 - val_accuracy: 0.8346 - val_loss: 0.3659\n",
            "Epoch 3/20\n",
            "\u001b[1m2423/2423\u001b[0m \u001b[32m━━━━━━━━━━━━━━━━━━━━\u001b[0m\u001b[37m\u001b[0m \u001b[1m8s\u001b[0m 3ms/step - accuracy: 0.8305 - loss: 0.3728 - val_accuracy: 0.8450 - val_loss: 0.3524\n",
            "Epoch 4/20\n",
            "\u001b[1m2423/2423\u001b[0m \u001b[32m━━━━━━━━━━━━━━━━━━━━\u001b[0m\u001b[37m\u001b[0m \u001b[1m12s\u001b[0m 4ms/step - accuracy: 0.8392 - loss: 0.3562 - val_accuracy: 0.8460 - val_loss: 0.3433\n",
            "Epoch 5/20\n",
            "\u001b[1m2423/2423\u001b[0m \u001b[32m━━━━━━━━━━━━━━━━━━━━\u001b[0m\u001b[37m\u001b[0m \u001b[1m10s\u001b[0m 4ms/step - accuracy: 0.8489 - loss: 0.3400 - val_accuracy: 0.8479 - val_loss: 0.3388\n",
            "Epoch 6/20\n",
            "\u001b[1m2423/2423\u001b[0m \u001b[32m━━━━━━━━━━━━━━━━━━━━\u001b[0m\u001b[37m\u001b[0m \u001b[1m12s\u001b[0m 5ms/step - accuracy: 0.8536 - loss: 0.3305 - val_accuracy: 0.8483 - val_loss: 0.3364\n",
            "Epoch 7/20\n",
            "\u001b[1m2423/2423\u001b[0m \u001b[32m━━━━━━━━━━━━━━━━━━━━\u001b[0m\u001b[37m\u001b[0m \u001b[1m19s\u001b[0m 4ms/step - accuracy: 0.8549 - loss: 0.3239 - val_accuracy: 0.8480 - val_loss: 0.3359\n",
            "Epoch 8/20\n",
            "\u001b[1m2423/2423\u001b[0m \u001b[32m━━━━━━━━━━━━━━━━━━━━\u001b[0m\u001b[37m\u001b[0m \u001b[1m9s\u001b[0m 4ms/step - accuracy: 0.8626 - loss: 0.3122 - val_accuracy: 0.8511 - val_loss: 0.3292\n",
            "Epoch 9/20\n",
            "\u001b[1m2423/2423\u001b[0m \u001b[32m━━━━━━━━━━━━━━━━━━━━\u001b[0m\u001b[37m\u001b[0m \u001b[1m10s\u001b[0m 4ms/step - accuracy: 0.8665 - loss: 0.3026 - val_accuracy: 0.8516 - val_loss: 0.3302\n",
            "Epoch 10/20\n",
            "\u001b[1m2423/2423\u001b[0m \u001b[32m━━━━━━━━━━━━━━━━━━━━\u001b[0m\u001b[37m\u001b[0m \u001b[1m8s\u001b[0m 3ms/step - accuracy: 0.8706 - loss: 0.2968 - val_accuracy: 0.8510 - val_loss: 0.3315\n",
            "Epoch 11/20\n",
            "\u001b[1m2423/2423\u001b[0m \u001b[32m━━━━━━━━━━━━━━━━━━━━\u001b[0m\u001b[37m\u001b[0m \u001b[1m7s\u001b[0m 3ms/step - accuracy: 0.8746 - loss: 0.2863 - val_accuracy: 0.8529 - val_loss: 0.3293\n",
            "Epoch 12/20\n",
            "\u001b[1m2423/2423\u001b[0m \u001b[32m━━━━━━━━━━━━━━━━━━━━\u001b[0m\u001b[37m\u001b[0m \u001b[1m10s\u001b[0m 4ms/step - accuracy: 0.8777 - loss: 0.2812 - val_accuracy: 0.8551 - val_loss: 0.3279\n",
            "Epoch 13/20\n",
            "\u001b[1m2423/2423\u001b[0m \u001b[32m━━━━━━━━━━━━━━━━━━━━\u001b[0m\u001b[37m\u001b[0m \u001b[1m12s\u001b[0m 5ms/step - accuracy: 0.8814 - loss: 0.2765 - val_accuracy: 0.8543 - val_loss: 0.3295\n",
            "Epoch 14/20\n",
            "\u001b[1m2423/2423\u001b[0m \u001b[32m━━━━━━━━━━━━━━━━━━━━\u001b[0m\u001b[37m\u001b[0m \u001b[1m17s\u001b[0m 3ms/step - accuracy: 0.8812 - loss: 0.2722 - val_accuracy: 0.8537 - val_loss: 0.3281\n",
            "Epoch 15/20\n",
            "\u001b[1m2423/2423\u001b[0m \u001b[32m━━━━━━━━━━━━━━━━━━━━\u001b[0m\u001b[37m\u001b[0m \u001b[1m11s\u001b[0m 4ms/step - accuracy: 0.8865 - loss: 0.2668 - val_accuracy: 0.8533 - val_loss: 0.3284\n"
          ]
        }
      ]
    },
    {
      "cell_type": "code",
      "source": [
        "\n",
        "test_loss, test_accuracy = model.evaluate(X_test_def, y_test, batch_size=64)\n",
        "\n",
        "print(f\"Pérdida en el conjunto de test: {test_loss}\")\n",
        "print(f\"Precisión en el conjunto de test: {test_accuracy}\")"
      ],
      "metadata": {
        "colab": {
          "base_uri": "https://localhost:8080/"
        },
        "id": "hfs7B5M90Gvf",
        "outputId": "9691f96c-a7df-4944-f971-7f99b2bf2895"
      },
      "execution_count": null,
      "outputs": [
        {
          "output_type": "stream",
          "name": "stdout",
          "text": [
            "\u001b[1m379/379\u001b[0m \u001b[32m━━━━━━━━━━━━━━━━━━━━\u001b[0m\u001b[37m\u001b[0m \u001b[1m2s\u001b[0m 3ms/step - accuracy: 0.8577 - loss: 0.3247\n",
            "Pérdida en el conjunto de test: 0.3301675617694855\n",
            "Precisión en el conjunto de test: 0.854960560798645\n"
          ]
        }
      ]
    },
    {
      "cell_type": "code",
      "source": [
        "import numpy as np\n",
        "import random\n",
        "import tensorflow as tf\n",
        "from tensorflow.keras.models import Sequential\n",
        "from tensorflow.keras.layers import Embedding, Conv1D, MaxPooling1D, Flatten, LSTM, Dense, Dropout, BatchNormalization, Bidirectional\n",
        "from tensorflow.keras.callbacks import EarlyStopping\n",
        "\n",
        "# Parámetros\n",
        "max_len = X_train_def.shape[1]\n",
        "seed=42\n",
        "np.random.seed(seed)\n",
        "random.seed(seed)\n",
        "tf.random.set_seed(seed)\n",
        "\n",
        "model = Sequential()\n",
        "model.add(Embedding(input_dim=num_words, output_dim=embedding_dim, weights=[embedding_matrix_x_train], trainable=False, input_length=max_len))\n",
        "model.add(Dropout(0.25))\n",
        "model.add(Conv1D(256 , 5 , padding = 'same',activation = 'relu'))\n",
        "model.add(MaxPooling1D(2))\n",
        "model.add(Dropout(0.5))\n",
        "model.add(Conv1D(256 , 5 , padding = 'same',activation = 'relu'))\n",
        "model.add(MaxPooling1D(2))\n",
        "model.add(Dropout(0.5))\n",
        "\n",
        "model.add(Flatten())\n",
        "model.add(Dense(64, activation='relu'))\n",
        "\n",
        "model.add(Dense(1, activation='sigmoid'))\n",
        "\n",
        "from tensorflow.keras.optimizers import Adam\n",
        "optimizer = Adam(learning_rate=0.0005)  # Reducir el learning rate\n",
        "model.compile(loss='binary_crossentropy', optimizer=optimizer, metrics=['accuracy']) # Función de pérdida binaria\n",
        "\n",
        "# Definir Early Stopping\n",
        "early_stopping = EarlyStopping(monitor='val_accuracy', patience=3, restore_best_weights=True)\n",
        "\n",
        "# Entrenamiento con Early Stopping usando conjuntos de validación específicos\n",
        "history = model.fit(\n",
        "    X_train_def, y_train,\n",
        "    epochs=20,\n",
        "    batch_size=32,\n",
        "    validation_data=(X_val_def, y_val),  # Especifica los conjuntos de validación\n",
        "    callbacks=[early_stopping]\n",
        ")"
      ],
      "metadata": {
        "colab": {
          "base_uri": "https://localhost:8080/"
        },
        "id": "Co4ZU5xM0ILS",
        "outputId": "1d39242d-0ffd-4b12-a90a-64175d55fa97"
      },
      "execution_count": null,
      "outputs": [
        {
          "output_type": "stream",
          "name": "stdout",
          "text": [
            "Epoch 1/20\n",
            "\u001b[1m2423/2423\u001b[0m \u001b[32m━━━━━━━━━━━━━━━━━━━━\u001b[0m\u001b[37m\u001b[0m \u001b[1m23s\u001b[0m 7ms/step - accuracy: 0.7291 - loss: 0.5176 - val_accuracy: 0.8282 - val_loss: 0.3788\n",
            "Epoch 2/20\n",
            "\u001b[1m2423/2423\u001b[0m \u001b[32m━━━━━━━━━━━━━━━━━━━━\u001b[0m\u001b[37m\u001b[0m \u001b[1m35s\u001b[0m 6ms/step - accuracy: 0.8195 - loss: 0.3914 - val_accuracy: 0.8399 - val_loss: 0.3586\n",
            "Epoch 3/20\n",
            "\u001b[1m2423/2423\u001b[0m \u001b[32m━━━━━━━━━━━━━━━━━━━━\u001b[0m\u001b[37m\u001b[0m \u001b[1m13s\u001b[0m 3ms/step - accuracy: 0.8341 - loss: 0.3627 - val_accuracy: 0.8401 - val_loss: 0.3558\n",
            "Epoch 4/20\n",
            "\u001b[1m2423/2423\u001b[0m \u001b[32m━━━━━━━━━━━━━━━━━━━━\u001b[0m\u001b[37m\u001b[0m \u001b[1m9s\u001b[0m 4ms/step - accuracy: 0.8461 - loss: 0.3413 - val_accuracy: 0.8495 - val_loss: 0.3383\n",
            "Epoch 5/20\n",
            "\u001b[1m2423/2423\u001b[0m \u001b[32m━━━━━━━━━━━━━━━━━━━━\u001b[0m\u001b[37m\u001b[0m \u001b[1m10s\u001b[0m 4ms/step - accuracy: 0.8562 - loss: 0.3228 - val_accuracy: 0.8522 - val_loss: 0.3349\n",
            "Epoch 6/20\n",
            "\u001b[1m2423/2423\u001b[0m \u001b[32m━━━━━━━━━━━━━━━━━━━━\u001b[0m\u001b[37m\u001b[0m \u001b[1m11s\u001b[0m 4ms/step - accuracy: 0.8650 - loss: 0.3055 - val_accuracy: 0.8492 - val_loss: 0.3329\n",
            "Epoch 7/20\n",
            "\u001b[1m2423/2423\u001b[0m \u001b[32m━━━━━━━━━━━━━━━━━━━━\u001b[0m\u001b[37m\u001b[0m \u001b[1m9s\u001b[0m 4ms/step - accuracy: 0.8716 - loss: 0.2927 - val_accuracy: 0.8537 - val_loss: 0.3305\n",
            "Epoch 8/20\n",
            "\u001b[1m2423/2423\u001b[0m \u001b[32m━━━━━━━━━━━━━━━━━━━━\u001b[0m\u001b[37m\u001b[0m \u001b[1m10s\u001b[0m 4ms/step - accuracy: 0.8767 - loss: 0.2823 - val_accuracy: 0.8518 - val_loss: 0.3271\n",
            "Epoch 9/20\n",
            "\u001b[1m2423/2423\u001b[0m \u001b[32m━━━━━━━━━━━━━━━━━━━━\u001b[0m\u001b[37m\u001b[0m \u001b[1m8s\u001b[0m 3ms/step - accuracy: 0.8804 - loss: 0.2715 - val_accuracy: 0.8547 - val_loss: 0.3274\n",
            "Epoch 10/20\n",
            "\u001b[1m2423/2423\u001b[0m \u001b[32m━━━━━━━━━━━━━━━━━━━━\u001b[0m\u001b[37m\u001b[0m \u001b[1m11s\u001b[0m 4ms/step - accuracy: 0.8865 - loss: 0.2623 - val_accuracy: 0.8535 - val_loss: 0.3273\n",
            "Epoch 11/20\n",
            "\u001b[1m2423/2423\u001b[0m \u001b[32m━━━━━━━━━━━━━━━━━━━━\u001b[0m\u001b[37m\u001b[0m \u001b[1m8s\u001b[0m 3ms/step - accuracy: 0.8898 - loss: 0.2547 - val_accuracy: 0.8518 - val_loss: 0.3316\n",
            "Epoch 12/20\n",
            "\u001b[1m2423/2423\u001b[0m \u001b[32m━━━━━━━━━━━━━━━━━━━━\u001b[0m\u001b[37m\u001b[0m \u001b[1m8s\u001b[0m 3ms/step - accuracy: 0.8948 - loss: 0.2463 - val_accuracy: 0.8552 - val_loss: 0.3254\n",
            "Epoch 13/20\n",
            "\u001b[1m2423/2423\u001b[0m \u001b[32m━━━━━━━━━━━━━━━━━━━━\u001b[0m\u001b[37m\u001b[0m \u001b[1m11s\u001b[0m 4ms/step - accuracy: 0.8969 - loss: 0.2393 - val_accuracy: 0.8529 - val_loss: 0.3274\n",
            "Epoch 14/20\n",
            "\u001b[1m2423/2423\u001b[0m \u001b[32m━━━━━━━━━━━━━━━━━━━━\u001b[0m\u001b[37m\u001b[0m \u001b[1m8s\u001b[0m 3ms/step - accuracy: 0.9006 - loss: 0.2324 - val_accuracy: 0.8544 - val_loss: 0.3295\n",
            "Epoch 15/20\n",
            "\u001b[1m2423/2423\u001b[0m \u001b[32m━━━━━━━━━━━━━━━━━━━━\u001b[0m\u001b[37m\u001b[0m \u001b[1m10s\u001b[0m 3ms/step - accuracy: 0.9047 - loss: 0.2243 - val_accuracy: 0.8546 - val_loss: 0.3302\n"
          ]
        }
      ]
    },
    {
      "cell_type": "code",
      "source": [
        "\n",
        "test_loss, test_accuracy = model.evaluate(X_test_def, y_test, batch_size=64)\n",
        "\n",
        "print(f\"Pérdida en el conjunto de test: {test_loss}\")\n",
        "print(f\"Precisión en el conjunto de test: {test_accuracy}\")"
      ],
      "metadata": {
        "colab": {
          "base_uri": "https://localhost:8080/"
        },
        "id": "psim8QTC0MbC",
        "outputId": "3dfca536-334d-4512-ed3b-e7e6380131cc"
      },
      "execution_count": null,
      "outputs": [
        {
          "output_type": "stream",
          "name": "stdout",
          "text": [
            "\u001b[1m379/379\u001b[0m \u001b[32m━━━━━━━━━━━━━━━━━━━━\u001b[0m\u001b[37m\u001b[0m \u001b[1m2s\u001b[0m 4ms/step - accuracy: 0.8547 - loss: 0.3272\n",
            "Pérdida en el conjunto de test: 0.3297746777534485\n",
            "Precisión en el conjunto de test: 0.8545889854431152\n"
          ]
        }
      ]
    },
    {
      "cell_type": "code",
      "source": [
        "import numpy as np\n",
        "import random\n",
        "import tensorflow as tf\n",
        "from tensorflow.keras.models import Sequential\n",
        "from tensorflow.keras.layers import Embedding, Conv1D, MaxPooling1D, Flatten, LSTM, Dense, Dropout, BatchNormalization, Bidirectional\n",
        "from tensorflow.keras.callbacks import EarlyStopping\n",
        "\n",
        "# Parámetros\n",
        "max_len = X_train_def.shape[1]\n",
        "seed=42\n",
        "np.random.seed(seed)\n",
        "random.seed(seed)\n",
        "tf.random.set_seed(seed)\n",
        "\n",
        "model = Sequential()\n",
        "model.add(Embedding(input_dim=num_words, output_dim=embedding_dim, weights=[embedding_matrix_x_train], trainable=False, input_length=max_len))\n",
        "model.add(Dropout(0.25))\n",
        "model.add(Conv1D(64 , 3 , padding = 'same',activation = 'relu'))\n",
        "model.add(MaxPooling1D(2))\n",
        "model.add(Dropout(0.5))\n",
        "model.add(Conv1D(64 , 3 , padding = 'same',activation = 'relu'))\n",
        "model.add(MaxPooling1D(2))\n",
        "model.add(Dropout(0.5))\n",
        "\n",
        "model.add(Flatten())\n",
        "model.add(Dense(64, activation='relu'))\n",
        "\n",
        "model.add(Dense(1, activation='sigmoid'))\n",
        "\n",
        "from tensorflow.keras.optimizers import Adam\n",
        "optimizer = Adam(learning_rate=0.0005)  # Reducir el learning rate\n",
        "model.compile(loss='binary_crossentropy', optimizer=optimizer, metrics=['accuracy']) # Función de pérdida binaria\n",
        "\n",
        "# Definir Early Stopping\n",
        "early_stopping = EarlyStopping(monitor='val_accuracy', patience=3, restore_best_weights=True)\n",
        "\n",
        "# Entrenamiento con Early Stopping usando conjuntos de validación específicos\n",
        "history = model.fit(\n",
        "    X_train_def, y_train,\n",
        "    epochs=20,\n",
        "    batch_size=32,\n",
        "    validation_data=(X_val_def, y_val),  # Especifica los conjuntos de validación\n",
        "    callbacks=[early_stopping]\n",
        ")"
      ],
      "metadata": {
        "colab": {
          "base_uri": "https://localhost:8080/"
        },
        "id": "KAdJo-6V0N7p",
        "outputId": "69e410ff-05e3-4a75-b847-66bb301c70f8"
      },
      "execution_count": null,
      "outputs": [
        {
          "output_type": "stream",
          "name": "stdout",
          "text": [
            "Epoch 1/20\n",
            "\u001b[1m2423/2423\u001b[0m \u001b[32m━━━━━━━━━━━━━━━━━━━━\u001b[0m\u001b[37m\u001b[0m \u001b[1m15s\u001b[0m 4ms/step - accuracy: 0.6729 - loss: 0.5734 - val_accuracy: 0.8286 - val_loss: 0.3906\n",
            "Epoch 2/20\n",
            "\u001b[1m2423/2423\u001b[0m \u001b[32m━━━━━━━━━━━━━━━━━━━━\u001b[0m\u001b[37m\u001b[0m \u001b[1m7s\u001b[0m 3ms/step - accuracy: 0.8098 - loss: 0.4133 - val_accuracy: 0.8383 - val_loss: 0.3695\n",
            "Epoch 3/20\n",
            "\u001b[1m2423/2423\u001b[0m \u001b[32m━━━━━━━━━━━━━━━━━━━━\u001b[0m\u001b[37m\u001b[0m \u001b[1m11s\u001b[0m 3ms/step - accuracy: 0.8198 - loss: 0.3916 - val_accuracy: 0.8420 - val_loss: 0.3601\n",
            "Epoch 4/20\n",
            "\u001b[1m2423/2423\u001b[0m \u001b[32m━━━━━━━━━━━━━━━━━━━━\u001b[0m\u001b[37m\u001b[0m \u001b[1m11s\u001b[0m 3ms/step - accuracy: 0.8277 - loss: 0.3793 - val_accuracy: 0.8415 - val_loss: 0.3525\n",
            "Epoch 5/20\n",
            "\u001b[1m2423/2423\u001b[0m \u001b[32m━━━━━━━━━━━━━━━━━━━━\u001b[0m\u001b[37m\u001b[0m \u001b[1m7s\u001b[0m 3ms/step - accuracy: 0.8337 - loss: 0.3702 - val_accuracy: 0.8433 - val_loss: 0.3485\n",
            "Epoch 6/20\n",
            "\u001b[1m2423/2423\u001b[0m \u001b[32m━━━━━━━━━━━━━━━━━━━━\u001b[0m\u001b[37m\u001b[0m \u001b[1m8s\u001b[0m 3ms/step - accuracy: 0.8371 - loss: 0.3628 - val_accuracy: 0.8462 - val_loss: 0.3430\n",
            "Epoch 7/20\n",
            "\u001b[1m2423/2423\u001b[0m \u001b[32m━━━━━━━━━━━━━━━━━━━━\u001b[0m\u001b[37m\u001b[0m \u001b[1m10s\u001b[0m 3ms/step - accuracy: 0.8400 - loss: 0.3562 - val_accuracy: 0.8472 - val_loss: 0.3421\n",
            "Epoch 8/20\n",
            "\u001b[1m2423/2423\u001b[0m \u001b[32m━━━━━━━━━━━━━━━━━━━━\u001b[0m\u001b[37m\u001b[0m \u001b[1m9s\u001b[0m 3ms/step - accuracy: 0.8416 - loss: 0.3545 - val_accuracy: 0.8481 - val_loss: 0.3413\n",
            "Epoch 9/20\n",
            "\u001b[1m2423/2423\u001b[0m \u001b[32m━━━━━━━━━━━━━━━━━━━━\u001b[0m\u001b[37m\u001b[0m \u001b[1m10s\u001b[0m 3ms/step - accuracy: 0.8450 - loss: 0.3495 - val_accuracy: 0.8484 - val_loss: 0.3395\n",
            "Epoch 10/20\n",
            "\u001b[1m2423/2423\u001b[0m \u001b[32m━━━━━━━━━━━━━━━━━━━━\u001b[0m\u001b[37m\u001b[0m \u001b[1m8s\u001b[0m 3ms/step - accuracy: 0.8464 - loss: 0.3458 - val_accuracy: 0.8502 - val_loss: 0.3357\n",
            "Epoch 11/20\n",
            "\u001b[1m2423/2423\u001b[0m \u001b[32m━━━━━━━━━━━━━━━━━━━━\u001b[0m\u001b[37m\u001b[0m \u001b[1m9s\u001b[0m 3ms/step - accuracy: 0.8471 - loss: 0.3419 - val_accuracy: 0.8500 - val_loss: 0.3381\n",
            "Epoch 12/20\n",
            "\u001b[1m2423/2423\u001b[0m \u001b[32m━━━━━━━━━━━━━━━━━━━━\u001b[0m\u001b[37m\u001b[0m \u001b[1m8s\u001b[0m 3ms/step - accuracy: 0.8485 - loss: 0.3383 - val_accuracy: 0.8515 - val_loss: 0.3339\n",
            "Epoch 13/20\n",
            "\u001b[1m2423/2423\u001b[0m \u001b[32m━━━━━━━━━━━━━━━━━━━━\u001b[0m\u001b[37m\u001b[0m \u001b[1m10s\u001b[0m 3ms/step - accuracy: 0.8496 - loss: 0.3356 - val_accuracy: 0.8527 - val_loss: 0.3335\n",
            "Epoch 14/20\n",
            "\u001b[1m2423/2423\u001b[0m \u001b[32m━━━━━━━━━━━━━━━━━━━━\u001b[0m\u001b[37m\u001b[0m \u001b[1m7s\u001b[0m 3ms/step - accuracy: 0.8527 - loss: 0.3343 - val_accuracy: 0.8509 - val_loss: 0.3332\n",
            "Epoch 15/20\n",
            "\u001b[1m2423/2423\u001b[0m \u001b[32m━━━━━━━━━━━━━━━━━━━━\u001b[0m\u001b[37m\u001b[0m \u001b[1m10s\u001b[0m 3ms/step - accuracy: 0.8517 - loss: 0.3312 - val_accuracy: 0.8500 - val_loss: 0.3340\n",
            "Epoch 16/20\n",
            "\u001b[1m2423/2423\u001b[0m \u001b[32m━━━━━━━━━━━━━━━━━━━━\u001b[0m\u001b[37m\u001b[0m \u001b[1m7s\u001b[0m 3ms/step - accuracy: 0.8550 - loss: 0.3278 - val_accuracy: 0.8524 - val_loss: 0.3302\n"
          ]
        }
      ]
    },
    {
      "cell_type": "code",
      "source": [
        "\n",
        "test_loss, test_accuracy = model.evaluate(X_test_def, y_test, batch_size=64)\n",
        "\n",
        "print(f\"Pérdida en el conjunto de test: {test_loss}\")\n",
        "print(f\"Precisión en el conjunto de test: {test_accuracy}\")"
      ],
      "metadata": {
        "colab": {
          "base_uri": "https://localhost:8080/"
        },
        "id": "J0CBw11l0TuV",
        "outputId": "37b2aced-9f77-4519-ac5c-975bdb7b7fb9"
      },
      "execution_count": null,
      "outputs": [
        {
          "output_type": "stream",
          "name": "stdout",
          "text": [
            "\u001b[1m379/379\u001b[0m \u001b[32m━━━━━━━━━━━━━━━━━━━━\u001b[0m\u001b[37m\u001b[0m \u001b[1m2s\u001b[0m 3ms/step - accuracy: 0.8535 - loss: 0.3296\n",
            "Pérdida en el conjunto de test: 0.33304736018180847\n",
            "Precisión en el conjunto de test: 0.8510796427726746\n"
          ]
        }
      ]
    },
    {
      "cell_type": "code",
      "source": [
        "import numpy as np\n",
        "import random\n",
        "import tensorflow as tf\n",
        "from tensorflow.keras.models import Sequential\n",
        "from tensorflow.keras.layers import Embedding, Conv1D, MaxPooling1D, Flatten, LSTM, Dense, Dropout, BatchNormalization, Bidirectional\n",
        "from tensorflow.keras.callbacks import EarlyStopping\n",
        "\n",
        "# Parámetros\n",
        "max_len = X_train_def.shape[1]\n",
        "seed=42\n",
        "np.random.seed(seed)\n",
        "random.seed(seed)\n",
        "tf.random.set_seed(seed)\n",
        "\n",
        "model = Sequential()\n",
        "model.add(Embedding(input_dim=num_words, output_dim=embedding_dim, weights=[embedding_matrix_x_train], trainable=False, input_length=max_len))\n",
        "model.add(Dropout(0.25))\n",
        "model.add(Conv1D(64 , 3 , padding = 'same',activation = 'relu'))\n",
        "model.add(MaxPooling1D(2))\n",
        "model.add(Dropout(0.3))\n",
        "model.add(Conv1D(64 , 3 , padding = 'same',activation = 'relu'))\n",
        "model.add(MaxPooling1D(2))\n",
        "model.add(Dropout(0.3))\n",
        "\n",
        "model.add(Flatten())\n",
        "model.add(Dense(64, activation='relu'))\n",
        "\n",
        "model.add(Dense(1, activation='sigmoid'))\n",
        "\n",
        "from tensorflow.keras.optimizers import Adam\n",
        "optimizer = Adam(learning_rate=0.0005)  # Reducir el learning rate\n",
        "model.compile(loss='binary_crossentropy', optimizer=optimizer, metrics=['accuracy']) # Función de pérdida binaria\n",
        "\n",
        "# Definir Early Stopping\n",
        "early_stopping = EarlyStopping(monitor='val_accuracy', patience=3, restore_best_weights=True)\n",
        "\n",
        "# Entrenamiento con Early Stopping usando conjuntos de validación específicos\n",
        "history = model.fit(\n",
        "    X_train_def, y_train,\n",
        "    epochs=20,\n",
        "    batch_size=32,\n",
        "    validation_data=(X_val_def, y_val),  # Especifica los conjuntos de validación\n",
        "    callbacks=[early_stopping]\n",
        ")"
      ],
      "metadata": {
        "colab": {
          "base_uri": "https://localhost:8080/"
        },
        "id": "XhluBVUe_ogB",
        "outputId": "f834aed2-5053-4d67-8e0d-8ba7f41d312e"
      },
      "execution_count": null,
      "outputs": [
        {
          "output_type": "stream",
          "name": "stderr",
          "text": [
            "/usr/local/lib/python3.10/dist-packages/keras/src/layers/core/embedding.py:90: UserWarning: Argument `input_length` is deprecated. Just remove it.\n",
            "  warnings.warn(\n"
          ]
        },
        {
          "output_type": "stream",
          "name": "stdout",
          "text": [
            "Epoch 1/20\n",
            "\u001b[1m2423/2423\u001b[0m \u001b[32m━━━━━━━━━━━━━━━━━━━━\u001b[0m\u001b[37m\u001b[0m \u001b[1m25s\u001b[0m 6ms/step - accuracy: 0.7177 - loss: 0.5289 - val_accuracy: 0.8331 - val_loss: 0.3774\n",
            "Epoch 2/20\n",
            "\u001b[1m2423/2423\u001b[0m \u001b[32m━━━━━━━━━━━━━━━━━━━━\u001b[0m\u001b[37m\u001b[0m \u001b[1m6s\u001b[0m 2ms/step - accuracy: 0.8212 - loss: 0.3909 - val_accuracy: 0.8417 - val_loss: 0.3534\n",
            "Epoch 3/20\n",
            "\u001b[1m2423/2423\u001b[0m \u001b[32m━━━━━━━━━━━━━━━━━━━━\u001b[0m\u001b[37m\u001b[0m \u001b[1m11s\u001b[0m 3ms/step - accuracy: 0.8345 - loss: 0.3649 - val_accuracy: 0.8428 - val_loss: 0.3459\n",
            "Epoch 4/20\n",
            "\u001b[1m2423/2423\u001b[0m \u001b[32m━━━━━━━━━━━━━━━━━━━━\u001b[0m\u001b[37m\u001b[0m \u001b[1m12s\u001b[0m 4ms/step - accuracy: 0.8404 - loss: 0.3502 - val_accuracy: 0.8461 - val_loss: 0.3413\n",
            "Epoch 5/20\n",
            "\u001b[1m2423/2423\u001b[0m \u001b[32m━━━━━━━━━━━━━━━━━━━━\u001b[0m\u001b[37m\u001b[0m \u001b[1m9s\u001b[0m 3ms/step - accuracy: 0.8487 - loss: 0.3372 - val_accuracy: 0.8506 - val_loss: 0.3352\n",
            "Epoch 6/20\n",
            "\u001b[1m2423/2423\u001b[0m \u001b[32m━━━━━━━━━━━━━━━━━━━━\u001b[0m\u001b[37m\u001b[0m \u001b[1m6s\u001b[0m 3ms/step - accuracy: 0.8538 - loss: 0.3280 - val_accuracy: 0.8502 - val_loss: 0.3335\n",
            "Epoch 7/20\n",
            "\u001b[1m2423/2423\u001b[0m \u001b[32m━━━━━━━━━━━━━━━━━━━━\u001b[0m\u001b[37m\u001b[0m \u001b[1m7s\u001b[0m 3ms/step - accuracy: 0.8591 - loss: 0.3201 - val_accuracy: 0.8528 - val_loss: 0.3320\n",
            "Epoch 8/20\n",
            "\u001b[1m2423/2423\u001b[0m \u001b[32m━━━━━━━━━━━━━━━━━━━━\u001b[0m\u001b[37m\u001b[0m \u001b[1m7s\u001b[0m 3ms/step - accuracy: 0.8609 - loss: 0.3137 - val_accuracy: 0.8523 - val_loss: 0.3301\n",
            "Epoch 9/20\n",
            "\u001b[1m2423/2423\u001b[0m \u001b[32m━━━━━━━━━━━━━━━━━━━━\u001b[0m\u001b[37m\u001b[0m \u001b[1m8s\u001b[0m 3ms/step - accuracy: 0.8634 - loss: 0.3095 - val_accuracy: 0.8546 - val_loss: 0.3274\n",
            "Epoch 10/20\n",
            "\u001b[1m2423/2423\u001b[0m \u001b[32m━━━━━━━━━━━━━━━━━━━━\u001b[0m\u001b[37m\u001b[0m \u001b[1m7s\u001b[0m 3ms/step - accuracy: 0.8664 - loss: 0.3028 - val_accuracy: 0.8552 - val_loss: 0.3253\n",
            "Epoch 11/20\n",
            "\u001b[1m2423/2423\u001b[0m \u001b[32m━━━━━━━━━━━━━━━━━━━━\u001b[0m\u001b[37m\u001b[0m \u001b[1m11s\u001b[0m 3ms/step - accuracy: 0.8655 - loss: 0.3001 - val_accuracy: 0.8564 - val_loss: 0.3258\n",
            "Epoch 12/20\n",
            "\u001b[1m2423/2423\u001b[0m \u001b[32m━━━━━━━━━━━━━━━━━━━━\u001b[0m\u001b[37m\u001b[0m \u001b[1m7s\u001b[0m 3ms/step - accuracy: 0.8672 - loss: 0.2959 - val_accuracy: 0.8557 - val_loss: 0.3263\n",
            "Epoch 13/20\n",
            "\u001b[1m2423/2423\u001b[0m \u001b[32m━━━━━━━━━━━━━━━━━━━━\u001b[0m\u001b[37m\u001b[0m \u001b[1m8s\u001b[0m 3ms/step - accuracy: 0.8697 - loss: 0.2940 - val_accuracy: 0.8535 - val_loss: 0.3273\n",
            "Epoch 14/20\n",
            "\u001b[1m2423/2423\u001b[0m \u001b[32m━━━━━━━━━━━━━━━━━━━━\u001b[0m\u001b[37m\u001b[0m \u001b[1m10s\u001b[0m 3ms/step - accuracy: 0.8736 - loss: 0.2895 - val_accuracy: 0.8533 - val_loss: 0.3285\n"
          ]
        }
      ]
    },
    {
      "cell_type": "code",
      "source": [
        "\n",
        "test_loss, test_accuracy = model.evaluate(X_test_def, y_test, batch_size=64)\n",
        "\n",
        "print(f\"Pérdida en el conjunto de test: {test_loss}\")\n",
        "print(f\"Precisión en el conjunto de test: {test_accuracy}\")"
      ],
      "metadata": {
        "colab": {
          "base_uri": "https://localhost:8080/"
        },
        "id": "CtkU8wRc_pJB",
        "outputId": "72fd9ff5-e807-4839-db23-1249638c918c"
      },
      "execution_count": null,
      "outputs": [
        {
          "output_type": "stream",
          "name": "stdout",
          "text": [
            "\u001b[1m379/379\u001b[0m \u001b[32m━━━━━━━━━━━━━━━━━━━━\u001b[0m\u001b[37m\u001b[0m \u001b[1m1s\u001b[0m 2ms/step - accuracy: 0.8562 - loss: 0.3236\n",
            "Pérdida en el conjunto de test: 0.3275980055332184\n",
            "Precisión en el conjunto de test: 0.8561165928840637\n"
          ]
        }
      ]
    },
    {
      "cell_type": "code",
      "source": [
        "import numpy as np\n",
        "import random\n",
        "import tensorflow as tf\n",
        "from tensorflow.keras.models import Sequential\n",
        "from tensorflow.keras.layers import Embedding, Conv1D, MaxPooling1D, Flatten, LSTM, Dense, Dropout, BatchNormalization, Bidirectional\n",
        "from tensorflow.keras.callbacks import EarlyStopping\n",
        "\n",
        "# Parámetros\n",
        "max_len = X_train_def.shape[1]\n",
        "seed=42\n",
        "np.random.seed(seed)\n",
        "random.seed(seed)\n",
        "tf.random.set_seed(seed)\n",
        "\n",
        "model = Sequential()\n",
        "model.add(Embedding(input_dim=num_words, output_dim=embedding_dim, weights=[embedding_matrix_x_train], trainable=False, input_length=max_len))\n",
        "model.add(Dropout(0.25))\n",
        "model.add(Conv1D(128 , 3 , padding = 'same',activation = 'relu'))\n",
        "model.add(MaxPooling1D(2))\n",
        "model.add(Dropout(0.5))\n",
        "model.add(Conv1D(128 , 3 , padding = 'same',activation = 'relu'))\n",
        "model.add(MaxPooling1D(2))\n",
        "model.add(Dropout(0.5))\n",
        "\n",
        "model.add(Flatten())\n",
        "model.add(Dense(64, activation='relu'))\n",
        "\n",
        "model.add(Dense(1, activation='sigmoid'))\n",
        "\n",
        "from tensorflow.keras.optimizers import Adam\n",
        "optimizer = Adam(learning_rate=0.0005)  # Reducir el learning rate\n",
        "model.compile(loss='binary_crossentropy', optimizer=optimizer, metrics=['accuracy']) # Función de pérdida binaria\n",
        "\n",
        "# Definir Early Stopping\n",
        "early_stopping = EarlyStopping(monitor='val_accuracy', patience=3, restore_best_weights=True)\n",
        "\n",
        "# Entrenamiento con Early Stopping usando conjuntos de validación específicos\n",
        "history = model.fit(\n",
        "    X_train_def, y_train,\n",
        "    epochs=20,\n",
        "    batch_size=32,\n",
        "    validation_data=(X_val_def, y_val),  # Especifica los conjuntos de validación\n",
        "    callbacks=[early_stopping]\n",
        ")"
      ],
      "metadata": {
        "colab": {
          "base_uri": "https://localhost:8080/"
        },
        "id": "6kgqNUmA0VQW",
        "outputId": "8b8e3484-7279-4468-bfb3-ac04ee534d4e"
      },
      "execution_count": null,
      "outputs": [
        {
          "output_type": "stream",
          "name": "stdout",
          "text": [
            "Epoch 1/20\n",
            "\u001b[1m2423/2423\u001b[0m \u001b[32m━━━━━━━━━━━━━━━━━━━━\u001b[0m\u001b[37m\u001b[0m \u001b[1m15s\u001b[0m 5ms/step - accuracy: 0.7041 - loss: 0.5422 - val_accuracy: 0.8320 - val_loss: 0.3794\n",
            "Epoch 2/20\n",
            "\u001b[1m2423/2423\u001b[0m \u001b[32m━━━━━━━━━━━━━━━━━━━━\u001b[0m\u001b[37m\u001b[0m \u001b[1m15s\u001b[0m 3ms/step - accuracy: 0.8163 - loss: 0.4000 - val_accuracy: 0.8413 - val_loss: 0.3602\n",
            "Epoch 3/20\n",
            "\u001b[1m2423/2423\u001b[0m \u001b[32m━━━━━━━━━━━━━━━━━━━━\u001b[0m\u001b[37m\u001b[0m \u001b[1m7s\u001b[0m 3ms/step - accuracy: 0.8287 - loss: 0.3757 - val_accuracy: 0.8456 - val_loss: 0.3490\n",
            "Epoch 4/20\n",
            "\u001b[1m2423/2423\u001b[0m \u001b[32m━━━━━━━━━━━━━━━━━━━━\u001b[0m\u001b[37m\u001b[0m \u001b[1m8s\u001b[0m 3ms/step - accuracy: 0.8365 - loss: 0.3600 - val_accuracy: 0.8474 - val_loss: 0.3432\n",
            "Epoch 5/20\n",
            "\u001b[1m2423/2423\u001b[0m \u001b[32m━━━━━━━━━━━━━━━━━━━━\u001b[0m\u001b[37m\u001b[0m \u001b[1m7s\u001b[0m 3ms/step - accuracy: 0.8445 - loss: 0.3477 - val_accuracy: 0.8531 - val_loss: 0.3346\n",
            "Epoch 6/20\n",
            "\u001b[1m2423/2423\u001b[0m \u001b[32m━━━━━━━━━━━━━━━━━━━━\u001b[0m\u001b[37m\u001b[0m \u001b[1m7s\u001b[0m 3ms/step - accuracy: 0.8472 - loss: 0.3402 - val_accuracy: 0.8520 - val_loss: 0.3323\n",
            "Epoch 7/20\n",
            "\u001b[1m2423/2423\u001b[0m \u001b[32m━━━━━━━━━━━━━━━━━━━━\u001b[0m\u001b[37m\u001b[0m \u001b[1m7s\u001b[0m 3ms/step - accuracy: 0.8518 - loss: 0.3313 - val_accuracy: 0.8534 - val_loss: 0.3281\n",
            "Epoch 8/20\n",
            "\u001b[1m2423/2423\u001b[0m \u001b[32m━━━━━━━━━━━━━━━━━━━━\u001b[0m\u001b[37m\u001b[0m \u001b[1m10s\u001b[0m 3ms/step - accuracy: 0.8554 - loss: 0.3263 - val_accuracy: 0.8539 - val_loss: 0.3263\n",
            "Epoch 9/20\n",
            "\u001b[1m2423/2423\u001b[0m \u001b[32m━━━━━━━━━━━━━━━━━━━━\u001b[0m\u001b[37m\u001b[0m \u001b[1m8s\u001b[0m 3ms/step - accuracy: 0.8584 - loss: 0.3184 - val_accuracy: 0.8555 - val_loss: 0.3241\n",
            "Epoch 10/20\n",
            "\u001b[1m2423/2423\u001b[0m \u001b[32m━━━━━━━━━━━━━━━━━━━━\u001b[0m\u001b[37m\u001b[0m \u001b[1m7s\u001b[0m 3ms/step - accuracy: 0.8608 - loss: 0.3140 - val_accuracy: 0.8532 - val_loss: 0.3260\n",
            "Epoch 11/20\n",
            "\u001b[1m2423/2423\u001b[0m \u001b[32m━━━━━━━━━━━━━━━━━━━━\u001b[0m\u001b[37m\u001b[0m \u001b[1m8s\u001b[0m 3ms/step - accuracy: 0.8633 - loss: 0.3077 - val_accuracy: 0.8564 - val_loss: 0.3203\n",
            "Epoch 12/20\n",
            "\u001b[1m2423/2423\u001b[0m \u001b[32m━━━━━━━━━━━━━━━━━━━━\u001b[0m\u001b[37m\u001b[0m \u001b[1m7s\u001b[0m 3ms/step - accuracy: 0.8667 - loss: 0.3040 - val_accuracy: 0.8538 - val_loss: 0.3267\n",
            "Epoch 13/20\n",
            "\u001b[1m2423/2423\u001b[0m \u001b[32m━━━━━━━━━━━━━━━━━━━━\u001b[0m\u001b[37m\u001b[0m \u001b[1m10s\u001b[0m 3ms/step - accuracy: 0.8662 - loss: 0.3056 - val_accuracy: 0.8567 - val_loss: 0.3212\n",
            "Epoch 14/20\n",
            "\u001b[1m2423/2423\u001b[0m \u001b[32m━━━━━━━━━━━━━━━━━━━━\u001b[0m\u001b[37m\u001b[0m \u001b[1m8s\u001b[0m 3ms/step - accuracy: 0.8683 - loss: 0.2995 - val_accuracy: 0.8569 - val_loss: 0.3193\n",
            "Epoch 15/20\n",
            "\u001b[1m2423/2423\u001b[0m \u001b[32m━━━━━━━━━━━━━━━━━━━━\u001b[0m\u001b[37m\u001b[0m \u001b[1m10s\u001b[0m 3ms/step - accuracy: 0.8708 - loss: 0.2938 - val_accuracy: 0.8559 - val_loss: 0.3209\n",
            "Epoch 16/20\n",
            "\u001b[1m2423/2423\u001b[0m \u001b[32m━━━━━━━━━━━━━━━━━━━━\u001b[0m\u001b[37m\u001b[0m \u001b[1m10s\u001b[0m 3ms/step - accuracy: 0.8727 - loss: 0.2911 - val_accuracy: 0.8560 - val_loss: 0.3227\n",
            "Epoch 17/20\n",
            "\u001b[1m2423/2423\u001b[0m \u001b[32m━━━━━━━━━━━━━━━━━━━━\u001b[0m\u001b[37m\u001b[0m \u001b[1m8s\u001b[0m 3ms/step - accuracy: 0.8724 - loss: 0.2889 - val_accuracy: 0.8571 - val_loss: 0.3204\n",
            "Epoch 18/20\n",
            "\u001b[1m2423/2423\u001b[0m \u001b[32m━━━━━━━━━━━━━━━━━━━━\u001b[0m\u001b[37m\u001b[0m \u001b[1m10s\u001b[0m 3ms/step - accuracy: 0.8750 - loss: 0.2863 - val_accuracy: 0.8564 - val_loss: 0.3194\n",
            "Epoch 19/20\n",
            "\u001b[1m2423/2423\u001b[0m \u001b[32m━━━━━━━━━━━━━━━━━━━━\u001b[0m\u001b[37m\u001b[0m \u001b[1m7s\u001b[0m 3ms/step - accuracy: 0.8780 - loss: 0.2811 - val_accuracy: 0.8577 - val_loss: 0.3206\n",
            "Epoch 20/20\n",
            "\u001b[1m2423/2423\u001b[0m \u001b[32m━━━━━━━━━━━━━━━━━━━━\u001b[0m\u001b[37m\u001b[0m \u001b[1m8s\u001b[0m 3ms/step - accuracy: 0.8780 - loss: 0.2804 - val_accuracy: 0.8564 - val_loss: 0.3203\n"
          ]
        }
      ]
    },
    {
      "cell_type": "code",
      "source": [
        "\n",
        "test_loss, test_accuracy = model.evaluate(X_test_def, y_test, batch_size=64)\n",
        "\n",
        "print(f\"Pérdida en el conjunto de test: {test_loss}\")\n",
        "print(f\"Precisión en el conjunto de test: {test_accuracy}\")"
      ],
      "metadata": {
        "colab": {
          "base_uri": "https://localhost:8080/"
        },
        "id": "yt84v0sf0XvS",
        "outputId": "6ce763d1-3cf9-4e4e-e7fd-807e401f8cd9"
      },
      "execution_count": null,
      "outputs": [
        {
          "output_type": "stream",
          "name": "stdout",
          "text": [
            "\u001b[1m379/379\u001b[0m \u001b[32m━━━━━━━━━━━━━━━━━━━━\u001b[0m\u001b[37m\u001b[0m \u001b[1m1s\u001b[0m 3ms/step - accuracy: 0.8568 - loss: 0.3203\n",
            "Pérdida en el conjunto de test: 0.3221507966518402\n",
            "Precisión en el conjunto de test: 0.8569836020469666\n"
          ]
        }
      ]
    },
    {
      "cell_type": "code",
      "source": [
        "import numpy as np\n",
        "import random\n",
        "import tensorflow as tf\n",
        "from tensorflow.keras.models import Sequential\n",
        "from tensorflow.keras.layers import Embedding, Conv1D, MaxPooling1D, Flatten, LSTM, Dense, Dropout, BatchNormalization, Bidirectional\n",
        "from tensorflow.keras.callbacks import EarlyStopping\n",
        "\n",
        "# Parámetros\n",
        "max_len = X_train_def.shape[1]\n",
        "seed=42\n",
        "np.random.seed(seed)\n",
        "random.seed(seed)\n",
        "tf.random.set_seed(seed)\n",
        "\n",
        "model = Sequential()\n",
        "model.add(Embedding(input_dim=num_words, output_dim=embedding_dim, weights=[embedding_matrix_x_train], trainable=False, input_length=max_len))\n",
        "model.add(Dropout(0.25))\n",
        "model.add(Conv1D(64 , 5 , padding = 'same',activation = 'relu'))\n",
        "model.add(MaxPooling1D(2))\n",
        "model.add(Dropout(0.3))\n",
        "model.add(Conv1D(64 , 5 , padding = 'same',activation = 'relu'))\n",
        "model.add(MaxPooling1D(2))\n",
        "model.add(Dropout(0.3))\n",
        "\n",
        "model.add(Flatten())\n",
        "model.add(Dense(64, activation='relu'))\n",
        "\n",
        "model.add(Dense(1, activation='sigmoid'))\n",
        "\n",
        "from tensorflow.keras.optimizers import Adam\n",
        "optimizer = Adam(learning_rate=0.0005)  # Reducir el learning rate\n",
        "model.compile(loss='binary_crossentropy', optimizer=optimizer, metrics=['accuracy']) # Función de pérdida binaria\n",
        "\n",
        "# Definir Early Stopping\n",
        "early_stopping = EarlyStopping(monitor='val_accuracy', patience=3, restore_best_weights=True)\n",
        "\n",
        "# Entrenamiento con Early Stopping usando conjuntos de validación específicos\n",
        "history = model.fit(\n",
        "    X_train_def, y_train,\n",
        "    epochs=20,\n",
        "    batch_size=32,\n",
        "    validation_data=(X_val_def, y_val),  # Especifica los conjuntos de validación\n",
        "    callbacks=[early_stopping]\n",
        ")"
      ],
      "metadata": {
        "colab": {
          "base_uri": "https://localhost:8080/"
        },
        "id": "H9Z_kLznBgC-",
        "outputId": "4505b0f8-5c13-4aaa-b9c6-f2904d01ba91"
      },
      "execution_count": null,
      "outputs": [
        {
          "output_type": "stream",
          "name": "stderr",
          "text": [
            "/usr/local/lib/python3.10/dist-packages/keras/src/layers/core/embedding.py:90: UserWarning: Argument `input_length` is deprecated. Just remove it.\n",
            "  warnings.warn(\n"
          ]
        },
        {
          "output_type": "stream",
          "name": "stdout",
          "text": [
            "Epoch 1/20\n",
            "\u001b[1m2423/2423\u001b[0m \u001b[32m━━━━━━━━━━━━━━━━━━━━\u001b[0m\u001b[37m\u001b[0m \u001b[1m22s\u001b[0m 6ms/step - accuracy: 0.7261 - loss: 0.5171 - val_accuracy: 0.8260 - val_loss: 0.3806\n",
            "Epoch 2/20\n",
            "\u001b[1m2423/2423\u001b[0m \u001b[32m━━━━━━━━━━━━━━━━━━━━\u001b[0m\u001b[37m\u001b[0m \u001b[1m9s\u001b[0m 3ms/step - accuracy: 0.8235 - loss: 0.3891 - val_accuracy: 0.8375 - val_loss: 0.3596\n",
            "Epoch 3/20\n",
            "\u001b[1m2423/2423\u001b[0m \u001b[32m━━━━━━━━━━━━━━━━━━━━\u001b[0m\u001b[37m\u001b[0m \u001b[1m11s\u001b[0m 4ms/step - accuracy: 0.8356 - loss: 0.3610 - val_accuracy: 0.8430 - val_loss: 0.3470\n",
            "Epoch 4/20\n",
            "\u001b[1m2423/2423\u001b[0m \u001b[32m━━━━━━━━━━━━━━━━━━━━\u001b[0m\u001b[37m\u001b[0m \u001b[1m9s\u001b[0m 4ms/step - accuracy: 0.8471 - loss: 0.3428 - val_accuracy: 0.8471 - val_loss: 0.3376\n",
            "Epoch 5/20\n",
            "\u001b[1m2423/2423\u001b[0m \u001b[32m━━━━━━━━━━━━━━━━━━━━\u001b[0m\u001b[37m\u001b[0m \u001b[1m10s\u001b[0m 4ms/step - accuracy: 0.8535 - loss: 0.3285 - val_accuracy: 0.8494 - val_loss: 0.3357\n",
            "Epoch 6/20\n",
            "\u001b[1m2423/2423\u001b[0m \u001b[32m━━━━━━━━━━━━━━━━━━━━\u001b[0m\u001b[37m\u001b[0m \u001b[1m12s\u001b[0m 5ms/step - accuracy: 0.8597 - loss: 0.3141 - val_accuracy: 0.8488 - val_loss: 0.3358\n",
            "Epoch 7/20\n",
            "\u001b[1m2423/2423\u001b[0m \u001b[32m━━━━━━━━━━━━━━━━━━━━\u001b[0m\u001b[37m\u001b[0m \u001b[1m11s\u001b[0m 5ms/step - accuracy: 0.8673 - loss: 0.3062 - val_accuracy: 0.8513 - val_loss: 0.3321\n",
            "Epoch 8/20\n",
            "\u001b[1m2423/2423\u001b[0m \u001b[32m━━━━━━━━━━━━━━━━━━━━\u001b[0m\u001b[37m\u001b[0m \u001b[1m10s\u001b[0m 4ms/step - accuracy: 0.8715 - loss: 0.2955 - val_accuracy: 0.8494 - val_loss: 0.3331\n",
            "Epoch 9/20\n",
            "\u001b[1m2423/2423\u001b[0m \u001b[32m━━━━━━━━━━━━━━━━━━━━\u001b[0m\u001b[37m\u001b[0m \u001b[1m8s\u001b[0m 3ms/step - accuracy: 0.8731 - loss: 0.2907 - val_accuracy: 0.8525 - val_loss: 0.3337\n",
            "Epoch 10/20\n",
            "\u001b[1m2423/2423\u001b[0m \u001b[32m━━━━━━━━━━━━━━━━━━━━\u001b[0m\u001b[37m\u001b[0m \u001b[1m10s\u001b[0m 3ms/step - accuracy: 0.8762 - loss: 0.2827 - val_accuracy: 0.8497 - val_loss: 0.3361\n",
            "Epoch 11/20\n",
            "\u001b[1m2423/2423\u001b[0m \u001b[32m━━━━━━━━━━━━━━━━━━━━\u001b[0m\u001b[37m\u001b[0m \u001b[1m8s\u001b[0m 3ms/step - accuracy: 0.8799 - loss: 0.2758 - val_accuracy: 0.8510 - val_loss: 0.3389\n",
            "Epoch 12/20\n",
            "\u001b[1m2423/2423\u001b[0m \u001b[32m━━━━━━━━━━━━━━━━━━━━\u001b[0m\u001b[37m\u001b[0m \u001b[1m10s\u001b[0m 3ms/step - accuracy: 0.8819 - loss: 0.2692 - val_accuracy: 0.8505 - val_loss: 0.3377\n"
          ]
        }
      ]
    },
    {
      "cell_type": "code",
      "source": [
        "\n",
        "test_loss, test_accuracy = model.evaluate(X_test_def, y_test, batch_size=64)\n",
        "\n",
        "print(f\"Pérdida en el conjunto de test: {test_loss}\")\n",
        "print(f\"Precisión en el conjunto de test: {test_accuracy}\")"
      ],
      "metadata": {
        "colab": {
          "base_uri": "https://localhost:8080/"
        },
        "id": "Q8hD75UVBgGP",
        "outputId": "b1d4a92e-d553-451a-8f40-33636429e048"
      },
      "execution_count": null,
      "outputs": [
        {
          "output_type": "stream",
          "name": "stdout",
          "text": [
            "\u001b[1m379/379\u001b[0m \u001b[32m━━━━━━━━━━━━━━━━━━━━\u001b[0m\u001b[37m\u001b[0m \u001b[1m1s\u001b[0m 2ms/step - accuracy: 0.8475 - loss: 0.3365\n",
            "Pérdida en el conjunto de test: 0.33924025297164917\n",
            "Precisión en el conjunto de test: 0.8487263321876526\n"
          ]
        }
      ]
    },
    {
      "cell_type": "code",
      "source": [
        "import numpy as np\n",
        "import random\n",
        "import tensorflow as tf\n",
        "from tensorflow.keras.models import Sequential\n",
        "from tensorflow.keras.layers import Embedding, Conv1D, MaxPooling1D, Flatten, LSTM, Dense, Dropout, BatchNormalization, Bidirectional\n",
        "from tensorflow.keras.callbacks import EarlyStopping\n",
        "\n",
        "# Parámetros\n",
        "max_len = X_train_def.shape[1]\n",
        "seed=42\n",
        "np.random.seed(seed)\n",
        "random.seed(seed)\n",
        "tf.random.set_seed(seed)\n",
        "\n",
        "model = Sequential()\n",
        "model.add(Embedding(input_dim=num_words, output_dim=embedding_dim, weights=[embedding_matrix_x_train], trainable=False, input_length=max_len))\n",
        "model.add(Dropout(0.25))\n",
        "model.add(Conv1D(128 , 5 , padding = 'same',activation = 'relu'))\n",
        "model.add(MaxPooling1D(2))\n",
        "model.add(Dropout(0.3))\n",
        "model.add(Conv1D(128 , 5 , padding = 'same',activation = 'relu'))\n",
        "model.add(MaxPooling1D(2))\n",
        "model.add(Dropout(0.3))\n",
        "\n",
        "model.add(Flatten())\n",
        "model.add(Dense(64, activation='relu'))\n",
        "\n",
        "model.add(Dense(1, activation='sigmoid'))\n",
        "\n",
        "from tensorflow.keras.optimizers import Adam\n",
        "optimizer = Adam(learning_rate=0.0005)  # Reducir el learning rate\n",
        "model.compile(loss='binary_crossentropy', optimizer=optimizer, metrics=['accuracy']) # Función de pérdida binaria\n",
        "\n",
        "# Definir Early Stopping\n",
        "early_stopping = EarlyStopping(monitor='val_accuracy', patience=3, restore_best_weights=True)\n",
        "\n",
        "# Entrenamiento con Early Stopping usando conjuntos de validación específicos\n",
        "history = model.fit(\n",
        "    X_train_def, y_train,\n",
        "    epochs=20,\n",
        "    batch_size=32,\n",
        "    validation_data=(X_val_def, y_val),  # Especifica los conjuntos de validación\n",
        "    callbacks=[early_stopping]\n",
        ")"
      ],
      "metadata": {
        "colab": {
          "base_uri": "https://localhost:8080/"
        },
        "id": "VnyxP1EECLvq",
        "outputId": "473dc516-e261-4bdf-fc2a-5e11d66b2b87"
      },
      "execution_count": null,
      "outputs": [
        {
          "output_type": "stream",
          "name": "stdout",
          "text": [
            "Epoch 1/20\n",
            "\u001b[1m2423/2423\u001b[0m \u001b[32m━━━━━━━━━━━━━━━━━━━━\u001b[0m\u001b[37m\u001b[0m \u001b[1m16s\u001b[0m 5ms/step - accuracy: 0.7398 - loss: 0.5020 - val_accuracy: 0.8350 - val_loss: 0.3699\n",
            "Epoch 2/20\n",
            "\u001b[1m2423/2423\u001b[0m \u001b[32m━━━━━━━━━━━━━━━━━━━━\u001b[0m\u001b[37m\u001b[0m \u001b[1m14s\u001b[0m 3ms/step - accuracy: 0.8258 - loss: 0.3803 - val_accuracy: 0.8382 - val_loss: 0.3585\n",
            "Epoch 3/20\n",
            "\u001b[1m2423/2423\u001b[0m \u001b[32m━━━━━━━━━━━━━━━━━━━━\u001b[0m\u001b[37m\u001b[0m \u001b[1m8s\u001b[0m 3ms/step - accuracy: 0.8428 - loss: 0.3466 - val_accuracy: 0.8442 - val_loss: 0.3465\n",
            "Epoch 4/20\n",
            "\u001b[1m2423/2423\u001b[0m \u001b[32m━━━━━━━━━━━━━━━━━━━━\u001b[0m\u001b[37m\u001b[0m \u001b[1m10s\u001b[0m 3ms/step - accuracy: 0.8538 - loss: 0.3262 - val_accuracy: 0.8489 - val_loss: 0.3390\n",
            "Epoch 5/20\n",
            "\u001b[1m2423/2423\u001b[0m \u001b[32m━━━━━━━━━━━━━━━━━━━━\u001b[0m\u001b[37m\u001b[0m \u001b[1m13s\u001b[0m 5ms/step - accuracy: 0.8665 - loss: 0.3052 - val_accuracy: 0.8494 - val_loss: 0.3370\n",
            "Epoch 6/20\n",
            "\u001b[1m2423/2423\u001b[0m \u001b[32m━━━━━━━━━━━━━━━━━━━━\u001b[0m\u001b[37m\u001b[0m \u001b[1m12s\u001b[0m 5ms/step - accuracy: 0.8759 - loss: 0.2874 - val_accuracy: 0.8477 - val_loss: 0.3380\n",
            "Epoch 7/20\n",
            "\u001b[1m2423/2423\u001b[0m \u001b[32m━━━━━━━━━━━━━━━━━━━━\u001b[0m\u001b[37m\u001b[0m \u001b[1m8s\u001b[0m 3ms/step - accuracy: 0.8816 - loss: 0.2744 - val_accuracy: 0.8460 - val_loss: 0.3467\n",
            "Epoch 8/20\n",
            "\u001b[1m2423/2423\u001b[0m \u001b[32m━━━━━━━━━━━━━━━━━━━━\u001b[0m\u001b[37m\u001b[0m \u001b[1m8s\u001b[0m 3ms/step - accuracy: 0.8873 - loss: 0.2607 - val_accuracy: 0.8472 - val_loss: 0.3363\n"
          ]
        }
      ]
    },
    {
      "cell_type": "code",
      "source": [
        "\n",
        "test_loss, test_accuracy = model.evaluate(X_test_def, y_test, batch_size=64)\n",
        "\n",
        "print(f\"Pérdida en el conjunto de test: {test_loss}\")\n",
        "print(f\"Precisión en el conjunto de test: {test_accuracy}\")"
      ],
      "metadata": {
        "colab": {
          "base_uri": "https://localhost:8080/"
        },
        "id": "5iYD6tUVCLx-",
        "outputId": "051960e6-be31-42cb-d9e3-020a92c4b4c6"
      },
      "execution_count": null,
      "outputs": [
        {
          "output_type": "stream",
          "name": "stdout",
          "text": [
            "\u001b[1m379/379\u001b[0m \u001b[32m━━━━━━━━━━━━━━━━━━━━\u001b[0m\u001b[37m\u001b[0m \u001b[1m2s\u001b[0m 4ms/step - accuracy: 0.8508 - loss: 0.3358\n",
            "Pérdida en el conjunto de test: 0.34094780683517456\n",
            "Precisión en el conjunto de test: 0.8493868708610535\n"
          ]
        }
      ]
    },
    {
      "cell_type": "code",
      "source": [
        "import numpy as np\n",
        "import random\n",
        "import tensorflow as tf\n",
        "from tensorflow.keras.models import Sequential\n",
        "from tensorflow.keras.layers import Embedding, Conv1D, MaxPooling1D, Flatten, LSTM, Dense, Dropout, BatchNormalization, Bidirectional\n",
        "from tensorflow.keras.callbacks import EarlyStopping\n",
        "\n",
        "# Parámetros\n",
        "max_len = X_train_def.shape[1]\n",
        "seed=42\n",
        "np.random.seed(seed)\n",
        "random.seed(seed)\n",
        "tf.random.set_seed(seed)\n",
        "\n",
        "model = Sequential()\n",
        "model.add(Embedding(input_dim=num_words, output_dim=embedding_dim, weights=[embedding_matrix_x_train], trainable=False, input_length=max_len))\n",
        "model.add(Dropout(0.25))\n",
        "model.add(Conv1D(64 , 3 , padding = 'same',activation = 'relu'))\n",
        "model.add(MaxPooling1D(2))\n",
        "model.add(Dropout(0.3))\n",
        "model.add(Conv1D(64 , 5 , padding = 'same',activation = 'relu'))\n",
        "model.add(MaxPooling1D(2))\n",
        "model.add(Dropout(0.5))\n",
        "\n",
        "model.add(Flatten())\n",
        "model.add(Dense(64, activation='relu'))\n",
        "\n",
        "model.add(Dense(1, activation='sigmoid'))\n",
        "\n",
        "from tensorflow.keras.optimizers import Adam\n",
        "optimizer = Adam(learning_rate=0.0005)  # Reducir el learning rate\n",
        "model.compile(loss='binary_crossentropy', optimizer=optimizer, metrics=['accuracy']) # Función de pérdida binaria\n",
        "\n",
        "# Definir Early Stopping\n",
        "early_stopping = EarlyStopping(monitor='val_accuracy', patience=3, restore_best_weights=True)\n",
        "\n",
        "# Entrenamiento con Early Stopping usando conjuntos de validación específicos\n",
        "history = model.fit(\n",
        "    X_train_def, y_train,\n",
        "    epochs=20,\n",
        "    batch_size=32,\n",
        "    validation_data=(X_val_def, y_val),  # Especifica los conjuntos de validación\n",
        "    callbacks=[early_stopping]\n",
        ")"
      ],
      "metadata": {
        "colab": {
          "base_uri": "https://localhost:8080/"
        },
        "id": "b8MShfueDZwO",
        "outputId": "5c90311d-58e9-49bf-f7b7-172323ff579f"
      },
      "execution_count": null,
      "outputs": [
        {
          "output_type": "stream",
          "name": "stderr",
          "text": [
            "/usr/local/lib/python3.10/dist-packages/keras/src/layers/core/embedding.py:90: UserWarning: Argument `input_length` is deprecated. Just remove it.\n",
            "  warnings.warn(\n"
          ]
        },
        {
          "output_type": "stream",
          "name": "stdout",
          "text": [
            "Epoch 1/20\n",
            "\u001b[1m2423/2423\u001b[0m \u001b[32m━━━━━━━━━━━━━━━━━━━━\u001b[0m\u001b[37m\u001b[0m \u001b[1m24s\u001b[0m 6ms/step - accuracy: 0.7066 - loss: 0.5399 - val_accuracy: 0.8298 - val_loss: 0.3812\n",
            "Epoch 2/20\n",
            "\u001b[1m2423/2423\u001b[0m \u001b[32m━━━━━━━━━━━━━━━━━━━━\u001b[0m\u001b[37m\u001b[0m \u001b[1m8s\u001b[0m 3ms/step - accuracy: 0.8199 - loss: 0.3939 - val_accuracy: 0.8398 - val_loss: 0.3559\n",
            "Epoch 3/20\n",
            "\u001b[1m2423/2423\u001b[0m \u001b[32m━━━━━━━━━━━━━━━━━━━━\u001b[0m\u001b[37m\u001b[0m \u001b[1m10s\u001b[0m 4ms/step - accuracy: 0.8317 - loss: 0.3698 - val_accuracy: 0.8436 - val_loss: 0.3466\n",
            "Epoch 4/20\n",
            "\u001b[1m2423/2423\u001b[0m \u001b[32m━━━━━━━━━━━━━━━━━━━━\u001b[0m\u001b[37m\u001b[0m \u001b[1m11s\u001b[0m 5ms/step - accuracy: 0.8397 - loss: 0.3556 - val_accuracy: 0.8457 - val_loss: 0.3413\n",
            "Epoch 5/20\n",
            "\u001b[1m2423/2423\u001b[0m \u001b[32m━━━━━━━━━━━━━━━━━━━━\u001b[0m\u001b[37m\u001b[0m \u001b[1m9s\u001b[0m 4ms/step - accuracy: 0.8475 - loss: 0.3415 - val_accuracy: 0.8474 - val_loss: 0.3374\n",
            "Epoch 6/20\n",
            "\u001b[1m2423/2423\u001b[0m \u001b[32m━━━━━━━━━━━━━━━━━━━━\u001b[0m\u001b[37m\u001b[0m \u001b[1m12s\u001b[0m 5ms/step - accuracy: 0.8510 - loss: 0.3340 - val_accuracy: 0.8490 - val_loss: 0.3346\n",
            "Epoch 7/20\n",
            "\u001b[1m2423/2423\u001b[0m \u001b[32m━━━━━━━━━━━━━━━━━━━━\u001b[0m\u001b[37m\u001b[0m \u001b[1m9s\u001b[0m 4ms/step - accuracy: 0.8579 - loss: 0.3225 - val_accuracy: 0.8476 - val_loss: 0.3344\n",
            "Epoch 8/20\n",
            "\u001b[1m2423/2423\u001b[0m \u001b[32m━━━━━━━━━━━━━━━━━━━━\u001b[0m\u001b[37m\u001b[0m \u001b[1m8s\u001b[0m 3ms/step - accuracy: 0.8586 - loss: 0.3184 - val_accuracy: 0.8505 - val_loss: 0.3307\n",
            "Epoch 9/20\n",
            "\u001b[1m2423/2423\u001b[0m \u001b[32m━━━━━━━━━━━━━━━━━━━━\u001b[0m\u001b[37m\u001b[0m \u001b[1m11s\u001b[0m 3ms/step - accuracy: 0.8626 - loss: 0.3133 - val_accuracy: 0.8522 - val_loss: 0.3293\n",
            "Epoch 10/20\n",
            "\u001b[1m2423/2423\u001b[0m \u001b[32m━━━━━━━━━━━━━━━━━━━━\u001b[0m\u001b[37m\u001b[0m \u001b[1m13s\u001b[0m 5ms/step - accuracy: 0.8624 - loss: 0.3088 - val_accuracy: 0.8515 - val_loss: 0.3297\n",
            "Epoch 11/20\n",
            "\u001b[1m2423/2423\u001b[0m \u001b[32m━━━━━━━━━━━━━━━━━━━━\u001b[0m\u001b[37m\u001b[0m \u001b[1m14s\u001b[0m 3ms/step - accuracy: 0.8660 - loss: 0.3028 - val_accuracy: 0.8519 - val_loss: 0.3293\n",
            "Epoch 12/20\n",
            "\u001b[1m2423/2423\u001b[0m \u001b[32m━━━━━━━━━━━━━━━━━━━━\u001b[0m\u001b[37m\u001b[0m \u001b[1m8s\u001b[0m 3ms/step - accuracy: 0.8676 - loss: 0.3013 - val_accuracy: 0.8550 - val_loss: 0.3261\n",
            "Epoch 13/20\n",
            "\u001b[1m2423/2423\u001b[0m \u001b[32m━━━━━━━━━━━━━━━━━━━━\u001b[0m\u001b[37m\u001b[0m \u001b[1m9s\u001b[0m 3ms/step - accuracy: 0.8681 - loss: 0.3001 - val_accuracy: 0.8546 - val_loss: 0.3266\n",
            "Epoch 14/20\n",
            "\u001b[1m2423/2423\u001b[0m \u001b[32m━━━━━━━━━━━━━━━━━━━━\u001b[0m\u001b[37m\u001b[0m \u001b[1m8s\u001b[0m 3ms/step - accuracy: 0.8693 - loss: 0.2962 - val_accuracy: 0.8521 - val_loss: 0.3268\n",
            "Epoch 15/20\n",
            "\u001b[1m2423/2423\u001b[0m \u001b[32m━━━━━━━━━━━━━━━━━━━━\u001b[0m\u001b[37m\u001b[0m \u001b[1m8s\u001b[0m 3ms/step - accuracy: 0.8706 - loss: 0.2938 - val_accuracy: 0.8535 - val_loss: 0.3289\n"
          ]
        }
      ]
    },
    {
      "cell_type": "code",
      "source": [
        "\n",
        "test_loss, test_accuracy = model.evaluate(X_test_def, y_test, batch_size=64)\n",
        "\n",
        "print(f\"Pérdida en el conjunto de test: {test_loss}\")\n",
        "print(f\"Precisión en el conjunto de test: {test_accuracy}\")"
      ],
      "metadata": {
        "colab": {
          "base_uri": "https://localhost:8080/"
        },
        "id": "II_NLcjzDZ1F",
        "outputId": "3a2845f8-2063-4f5a-e839-5cac279c75c3"
      },
      "execution_count": null,
      "outputs": [
        {
          "output_type": "stream",
          "name": "stdout",
          "text": [
            "\u001b[1m379/379\u001b[0m \u001b[32m━━━━━━━━━━━━━━━━━━━━\u001b[0m\u001b[37m\u001b[0m \u001b[1m1s\u001b[0m 2ms/step - accuracy: 0.8553 - loss: 0.3212\n",
            "Pérdida en el conjunto de test: 0.3254895806312561\n",
            "Precisión en el conjunto de test: 0.8545889854431152\n"
          ]
        }
      ]
    },
    {
      "cell_type": "code",
      "source": [
        "import numpy as np\n",
        "import random\n",
        "import tensorflow as tf\n",
        "from tensorflow.keras.models import Sequential\n",
        "from tensorflow.keras.layers import Embedding, Conv1D, MaxPooling1D, Flatten, LSTM, Dense, Dropout, BatchNormalization, Bidirectional\n",
        "from tensorflow.keras.callbacks import EarlyStopping\n",
        "\n",
        "# Parámetros\n",
        "max_len = X_train_def.shape[1]\n",
        "seed=42\n",
        "np.random.seed(seed)\n",
        "random.seed(seed)\n",
        "tf.random.set_seed(seed)\n",
        "\n",
        "model = Sequential()\n",
        "model.add(Embedding(input_dim=num_words, output_dim=embedding_dim, weights=[embedding_matrix_x_train], trainable=False, input_length=max_len))\n",
        "model.add(Dropout(0.25))\n",
        "model.add(Conv1D(64 , 3 , padding = 'same',activation = 'relu'))\n",
        "model.add(MaxPooling1D(2))\n",
        "model.add(Dropout(0.3))\n",
        "model.add(Conv1D(128 , 3 , padding = 'same',activation = 'relu'))\n",
        "model.add(MaxPooling1D(2))\n",
        "model.add(Dropout(0.5))\n",
        "\n",
        "model.add(Flatten())\n",
        "model.add(Dense(64, activation='relu'))\n",
        "\n",
        "model.add(Dense(1, activation='sigmoid'))\n",
        "\n",
        "from tensorflow.keras.optimizers import Adam\n",
        "optimizer = Adam(learning_rate=0.0005)  # Reducir el learning rate\n",
        "model.compile(loss='binary_crossentropy', optimizer=optimizer, metrics=['accuracy']) # Función de pérdida binaria\n",
        "\n",
        "# Definir Early Stopping\n",
        "early_stopping = EarlyStopping(monitor='val_accuracy', patience=3, restore_best_weights=True)\n",
        "\n",
        "# Entrenamiento con Early Stopping usando conjuntos de validación específicos\n",
        "history = model.fit(\n",
        "    X_train_def, y_train,\n",
        "    epochs=20,\n",
        "    batch_size=32,\n",
        "    validation_data=(X_val_def, y_val),  # Especifica los conjuntos de validación\n",
        "    callbacks=[early_stopping]\n",
        ")"
      ],
      "metadata": {
        "colab": {
          "base_uri": "https://localhost:8080/"
        },
        "id": "hU9EwyFBDZ3q",
        "outputId": "ac3e3547-150a-41ac-e512-fb645c04c3e9"
      },
      "execution_count": null,
      "outputs": [
        {
          "output_type": "stream",
          "name": "stdout",
          "text": [
            "Epoch 1/20\n",
            "\u001b[1m2423/2423\u001b[0m \u001b[32m━━━━━━━━━━━━━━━━━━━━\u001b[0m\u001b[37m\u001b[0m \u001b[1m15s\u001b[0m 5ms/step - accuracy: 0.7088 - loss: 0.5357 - val_accuracy: 0.8284 - val_loss: 0.3813\n",
            "Epoch 2/20\n",
            "\u001b[1m2423/2423\u001b[0m \u001b[32m━━━━━━━━━━━━━━━━━━━━\u001b[0m\u001b[37m\u001b[0m \u001b[1m7s\u001b[0m 3ms/step - accuracy: 0.8210 - loss: 0.3936 - val_accuracy: 0.8407 - val_loss: 0.3561\n",
            "Epoch 3/20\n",
            "\u001b[1m2423/2423\u001b[0m \u001b[32m━━━━━━━━━━━━━━━━━━━━\u001b[0m\u001b[37m\u001b[0m \u001b[1m11s\u001b[0m 3ms/step - accuracy: 0.8319 - loss: 0.3690 - val_accuracy: 0.8438 - val_loss: 0.3459\n",
            "Epoch 4/20\n",
            "\u001b[1m2423/2423\u001b[0m \u001b[32m━━━━━━━━━━━━━━━━━━━━\u001b[0m\u001b[37m\u001b[0m \u001b[1m8s\u001b[0m 3ms/step - accuracy: 0.8415 - loss: 0.3532 - val_accuracy: 0.8457 - val_loss: 0.3426\n",
            "Epoch 5/20\n",
            "\u001b[1m2423/2423\u001b[0m \u001b[32m━━━━━━━━━━━━━━━━━━━━\u001b[0m\u001b[37m\u001b[0m \u001b[1m7s\u001b[0m 3ms/step - accuracy: 0.8480 - loss: 0.3413 - val_accuracy: 0.8469 - val_loss: 0.3382\n",
            "Epoch 6/20\n",
            "\u001b[1m2423/2423\u001b[0m \u001b[32m━━━━━━━━━━━━━━━━━━━━\u001b[0m\u001b[37m\u001b[0m \u001b[1m8s\u001b[0m 3ms/step - accuracy: 0.8525 - loss: 0.3329 - val_accuracy: 0.8512 - val_loss: 0.3358\n",
            "Epoch 7/20\n",
            "\u001b[1m2423/2423\u001b[0m \u001b[32m━━━━━━━━━━━━━━━━━━━━\u001b[0m\u001b[37m\u001b[0m \u001b[1m10s\u001b[0m 3ms/step - accuracy: 0.8563 - loss: 0.3231 - val_accuracy: 0.8515 - val_loss: 0.3336\n",
            "Epoch 8/20\n",
            "\u001b[1m2423/2423\u001b[0m \u001b[32m━━━━━━━━━━━━━━━━━━━━\u001b[0m\u001b[37m\u001b[0m \u001b[1m10s\u001b[0m 3ms/step - accuracy: 0.8626 - loss: 0.3151 - val_accuracy: 0.8527 - val_loss: 0.3316\n",
            "Epoch 9/20\n",
            "\u001b[1m2423/2423\u001b[0m \u001b[32m━━━━━━━━━━━━━━━━━━━━\u001b[0m\u001b[37m\u001b[0m \u001b[1m10s\u001b[0m 3ms/step - accuracy: 0.8628 - loss: 0.3127 - val_accuracy: 0.8517 - val_loss: 0.3303\n",
            "Epoch 10/20\n",
            "\u001b[1m2423/2423\u001b[0m \u001b[32m━━━━━━━━━━━━━━━━━━━━\u001b[0m\u001b[37m\u001b[0m \u001b[1m8s\u001b[0m 3ms/step - accuracy: 0.8640 - loss: 0.3087 - val_accuracy: 0.8520 - val_loss: 0.3303\n",
            "Epoch 11/20\n",
            "\u001b[1m2423/2423\u001b[0m \u001b[32m━━━━━━━━━━━━━━━━━━━━\u001b[0m\u001b[37m\u001b[0m \u001b[1m9s\u001b[0m 3ms/step - accuracy: 0.8671 - loss: 0.3033 - val_accuracy: 0.8512 - val_loss: 0.3288\n"
          ]
        }
      ]
    },
    {
      "cell_type": "code",
      "source": [
        "\n",
        "test_loss, test_accuracy = model.evaluate(X_test_def, y_test, batch_size=64)\n",
        "\n",
        "print(f\"Pérdida en el conjunto de test: {test_loss}\")\n",
        "print(f\"Precisión en el conjunto de test: {test_accuracy}\")"
      ],
      "metadata": {
        "colab": {
          "base_uri": "https://localhost:8080/"
        },
        "id": "ljabW1prCwe_",
        "outputId": "2e32e5eb-2981-46bb-fe23-e04a14c30657"
      },
      "execution_count": null,
      "outputs": [
        {
          "output_type": "stream",
          "name": "stdout",
          "text": [
            "\u001b[1m379/379\u001b[0m \u001b[32m━━━━━━━━━━━━━━━━━━━━\u001b[0m\u001b[37m\u001b[0m \u001b[1m1s\u001b[0m 2ms/step - accuracy: 0.8546 - loss: 0.3269\n",
            "Pérdida en el conjunto de test: 0.3314342796802521\n",
            "Precisión en el conjunto de test: 0.853887140750885\n"
          ]
        }
      ]
    },
    {
      "cell_type": "code",
      "source": [
        "import numpy as np\n",
        "import random\n",
        "import tensorflow as tf\n",
        "from tensorflow.keras.models import Sequential\n",
        "from tensorflow.keras.layers import Embedding, Conv1D, MaxPooling1D, Flatten, LSTM, Dense, Dropout, BatchNormalization, Bidirectional\n",
        "from tensorflow.keras.callbacks import EarlyStopping\n",
        "\n",
        "# Parámetros\n",
        "max_len = X_train_def.shape[1]\n",
        "seed=42\n",
        "np.random.seed(seed)\n",
        "random.seed(seed)\n",
        "tf.random.set_seed(seed)\n",
        "\n",
        "model = Sequential()\n",
        "model.add(Embedding(input_dim=num_words, output_dim=embedding_dim, weights=[embedding_matrix_x_train], trainable=False, input_length=max_len))\n",
        "model.add(Dropout(0.25))\n",
        "model.add(Conv1D(64 , 3 , padding = 'same',activation = 'relu'))\n",
        "model.add(MaxPooling1D(2))\n",
        "model.add(Dropout(0.3))\n",
        "model.add(Conv1D(128 , 5 , padding = 'same',activation = 'relu'))\n",
        "model.add(MaxPooling1D(2))\n",
        "model.add(Dropout(0.5))\n",
        "\n",
        "model.add(Flatten())\n",
        "model.add(Dense(64, activation='relu'))\n",
        "\n",
        "model.add(Dense(1, activation='sigmoid'))\n",
        "\n",
        "from tensorflow.keras.optimizers import Adam\n",
        "optimizer = Adam(learning_rate=0.0005)  # Reducir el learning rate\n",
        "model.compile(loss='binary_crossentropy', optimizer=optimizer, metrics=['accuracy']) # Función de pérdida binaria\n",
        "\n",
        "# Definir Early Stopping\n",
        "early_stopping = EarlyStopping(monitor='val_accuracy', patience=3, restore_best_weights=True)\n",
        "\n",
        "# Entrenamiento con Early Stopping usando conjuntos de validación específicos\n",
        "history = model.fit(\n",
        "    X_train_def, y_train,\n",
        "    epochs=20,\n",
        "    batch_size=32,\n",
        "    validation_data=(X_val_def, y_val),  # Especifica los conjuntos de validación\n",
        "    callbacks=[early_stopping]\n",
        ")"
      ],
      "metadata": {
        "colab": {
          "base_uri": "https://localhost:8080/"
        },
        "id": "E8dYzKo4DtvS",
        "outputId": "22d2a61c-e476-4e8d-819e-db52f458c78b"
      },
      "execution_count": null,
      "outputs": [
        {
          "output_type": "stream",
          "name": "stdout",
          "text": [
            "Epoch 1/20\n",
            "\u001b[1m2423/2423\u001b[0m \u001b[32m━━━━━━━━━━━━━━━━━━━━\u001b[0m\u001b[37m\u001b[0m \u001b[1m16s\u001b[0m 5ms/step - accuracy: 0.7120 - loss: 0.5289 - val_accuracy: 0.8325 - val_loss: 0.3745\n",
            "Epoch 2/20\n",
            "\u001b[1m2423/2423\u001b[0m \u001b[32m━━━━━━━━━━━━━━━━━━━━\u001b[0m\u001b[37m\u001b[0m \u001b[1m14s\u001b[0m 3ms/step - accuracy: 0.8226 - loss: 0.3902 - val_accuracy: 0.8422 - val_loss: 0.3514\n",
            "Epoch 3/20\n",
            "\u001b[1m2423/2423\u001b[0m \u001b[32m━━━━━━━━━━━━━━━━━━━━\u001b[0m\u001b[37m\u001b[0m \u001b[1m8s\u001b[0m 3ms/step - accuracy: 0.8329 - loss: 0.3678 - val_accuracy: 0.8453 - val_loss: 0.3451\n",
            "Epoch 4/20\n",
            "\u001b[1m2423/2423\u001b[0m \u001b[32m━━━━━━━━━━━━━━━━━━━━\u001b[0m\u001b[37m\u001b[0m \u001b[1m7s\u001b[0m 3ms/step - accuracy: 0.8419 - loss: 0.3513 - val_accuracy: 0.8488 - val_loss: 0.3390\n",
            "Epoch 5/20\n",
            "\u001b[1m2423/2423\u001b[0m \u001b[32m━━━━━━━━━━━━━━━━━━━━\u001b[0m\u001b[37m\u001b[0m \u001b[1m11s\u001b[0m 3ms/step - accuracy: 0.8474 - loss: 0.3402 - val_accuracy: 0.8463 - val_loss: 0.3372\n",
            "Epoch 6/20\n",
            "\u001b[1m2423/2423\u001b[0m \u001b[32m━━━━━━━━━━━━━━━━━━━━\u001b[0m\u001b[37m\u001b[0m \u001b[1m8s\u001b[0m 3ms/step - accuracy: 0.8516 - loss: 0.3291 - val_accuracy: 0.8486 - val_loss: 0.3350\n",
            "Epoch 7/20\n",
            "\u001b[1m2423/2423\u001b[0m \u001b[32m━━━━━━━━━━━━━━━━━━━━\u001b[0m\u001b[37m\u001b[0m \u001b[1m9s\u001b[0m 3ms/step - accuracy: 0.8571 - loss: 0.3233 - val_accuracy: 0.8496 - val_loss: 0.3323\n",
            "Epoch 8/20\n",
            "\u001b[1m2423/2423\u001b[0m \u001b[32m━━━━━━━━━━━━━━━━━━━━\u001b[0m\u001b[37m\u001b[0m \u001b[1m10s\u001b[0m 3ms/step - accuracy: 0.8607 - loss: 0.3149 - val_accuracy: 0.8535 - val_loss: 0.3286\n",
            "Epoch 9/20\n",
            "\u001b[1m2423/2423\u001b[0m \u001b[32m━━━━━━━━━━━━━━━━━━━━\u001b[0m\u001b[37m\u001b[0m \u001b[1m8s\u001b[0m 3ms/step - accuracy: 0.8628 - loss: 0.3116 - val_accuracy: 0.8519 - val_loss: 0.3300\n",
            "Epoch 10/20\n",
            "\u001b[1m2423/2423\u001b[0m \u001b[32m━━━━━━━━━━━━━━━━━━━━\u001b[0m\u001b[37m\u001b[0m \u001b[1m7s\u001b[0m 3ms/step - accuracy: 0.8641 - loss: 0.3057 - val_accuracy: 0.8513 - val_loss: 0.3316\n",
            "Epoch 11/20\n",
            "\u001b[1m2423/2423\u001b[0m \u001b[32m━━━━━━━━━━━━━━━━━━━━\u001b[0m\u001b[37m\u001b[0m \u001b[1m8s\u001b[0m 3ms/step - accuracy: 0.8667 - loss: 0.2991 - val_accuracy: 0.8525 - val_loss: 0.3284\n"
          ]
        }
      ]
    },
    {
      "cell_type": "code",
      "source": [
        "\n",
        "test_loss, test_accuracy = model.evaluate(X_test_def, y_test, batch_size=64)\n",
        "\n",
        "print(f\"Pérdida en el conjunto de test: {test_loss}\")\n",
        "print(f\"Precisión en el conjunto de test: {test_accuracy}\")"
      ],
      "metadata": {
        "colab": {
          "base_uri": "https://localhost:8080/"
        },
        "id": "Vk0Cs86UD5c7",
        "outputId": "cd3a13f1-3e98-4e6f-874f-1feda3f2fae3"
      },
      "execution_count": null,
      "outputs": [
        {
          "output_type": "stream",
          "name": "stdout",
          "text": [
            "\u001b[1m379/379\u001b[0m \u001b[32m━━━━━━━━━━━━━━━━━━━━\u001b[0m\u001b[37m\u001b[0m \u001b[1m1s\u001b[0m 3ms/step - accuracy: 0.8502 - loss: 0.3275\n",
            "Pérdida en el conjunto de test: 0.3302000164985657\n",
            "Precisión en el conjunto de test: 0.8514925241470337\n"
          ]
        }
      ]
    },
    {
      "cell_type": "code",
      "source": [],
      "metadata": {
        "id": "vArzURtOFiOC"
      },
      "execution_count": null,
      "outputs": []
    },
    {
      "cell_type": "code",
      "source": [
        "import numpy as np\n",
        "import random\n",
        "import tensorflow as tf\n",
        "from tensorflow.keras.models import Sequential\n",
        "from tensorflow.keras.layers import Embedding, Conv1D, MaxPooling1D, Flatten, LSTM, Dense, Dropout, BatchNormalization, Bidirectional\n",
        "from tensorflow.keras.callbacks import EarlyStopping\n",
        "\n",
        "# Parámetros\n",
        "max_len = X_train_def.shape[1]\n",
        "seed=42\n",
        "np.random.seed(seed)\n",
        "random.seed(seed)\n",
        "tf.random.set_seed(seed)\n",
        "\n",
        "model = Sequential()\n",
        "model.add(Embedding(input_dim=num_words, output_dim=embedding_dim, weights=[embedding_matrix_x_train], trainable=False, input_length=max_len))\n",
        "model.add(Dropout(0.25))\n",
        "model.add(Conv1D(128 , 3 , padding = 'same',activation = 'relu'))\n",
        "model.add(MaxPooling1D(2))\n",
        "model.add(Dropout(0.3))\n",
        "model.add(Conv1D(128 , 3 , padding = 'same',activation = 'relu'))\n",
        "model.add(MaxPooling1D(2))\n",
        "model.add(Dropout(0.3))\n",
        "\n",
        "model.add(Flatten())\n",
        "model.add(Dense(64, activation='relu'))\n",
        "\n",
        "model.add(Dense(1, activation='sigmoid'))\n",
        "\n",
        "from tensorflow.keras.optimizers import Adam\n",
        "optimizer = Adam(learning_rate=0.0005)  # Reducir el learning rate\n",
        "model.compile(loss='binary_crossentropy', optimizer=optimizer, metrics=['accuracy']) # Función de pérdida binaria\n",
        "\n",
        "# Definir Early Stopping\n",
        "early_stopping = EarlyStopping(monitor='val_accuracy', patience=3, restore_best_weights=True)\n",
        "\n",
        "# Entrenamiento con Early Stopping usando conjuntos de validación específicos\n",
        "history = model.fit(\n",
        "    X_train_def, y_train,\n",
        "    epochs=20,\n",
        "    batch_size=32,\n",
        "    validation_data=(X_val_def, y_val),  # Especifica los conjuntos de validación\n",
        "    callbacks=[early_stopping]\n",
        ")"
      ],
      "metadata": {
        "colab": {
          "base_uri": "https://localhost:8080/"
        },
        "id": "SX0TfssxAUOS",
        "outputId": "74b26b39-487c-4a56-e8a9-bc2a7dc94ca7"
      },
      "execution_count": null,
      "outputs": [
        {
          "output_type": "stream",
          "name": "stdout",
          "text": [
            "Epoch 1/20\n",
            "\u001b[1m2423/2423\u001b[0m \u001b[32m━━━━━━━━━━━━━━━━━━━━\u001b[0m\u001b[37m\u001b[0m \u001b[1m22s\u001b[0m 6ms/step - accuracy: 0.7324 - loss: 0.5057 - val_accuracy: 0.8365 - val_loss: 0.3659\n",
            "Epoch 2/20\n",
            "\u001b[1m2423/2423\u001b[0m \u001b[32m━━━━━━━━━━━━━━━━━━━━\u001b[0m\u001b[37m\u001b[0m \u001b[1m10s\u001b[0m 3ms/step - accuracy: 0.8283 - loss: 0.3804 - val_accuracy: 0.8457 - val_loss: 0.3480\n",
            "Epoch 3/20\n",
            "\u001b[1m2423/2423\u001b[0m \u001b[32m━━━━━━━━━━━━━━━━━━━━\u001b[0m\u001b[37m\u001b[0m \u001b[1m7s\u001b[0m 3ms/step - accuracy: 0.8408 - loss: 0.3498 - val_accuracy: 0.8505 - val_loss: 0.3348\n",
            "Epoch 4/20\n",
            "\u001b[1m2423/2423\u001b[0m \u001b[32m━━━━━━━━━━━━━━━━━━━━\u001b[0m\u001b[37m\u001b[0m \u001b[1m10s\u001b[0m 3ms/step - accuracy: 0.8534 - loss: 0.3306 - val_accuracy: 0.8511 - val_loss: 0.3291\n",
            "Epoch 5/20\n",
            "\u001b[1m2423/2423\u001b[0m \u001b[32m━━━━━━━━━━━━━━━━━━━━\u001b[0m\u001b[37m\u001b[0m \u001b[1m11s\u001b[0m 3ms/step - accuracy: 0.8595 - loss: 0.3177 - val_accuracy: 0.8535 - val_loss: 0.3294\n",
            "Epoch 6/20\n",
            "\u001b[1m2423/2423\u001b[0m \u001b[32m━━━━━━━━━━━━━━━━━━━━\u001b[0m\u001b[37m\u001b[0m \u001b[1m10s\u001b[0m 3ms/step - accuracy: 0.8628 - loss: 0.3071 - val_accuracy: 0.8558 - val_loss: 0.3251\n",
            "Epoch 7/20\n",
            "\u001b[1m2423/2423\u001b[0m \u001b[32m━━━━━━━━━━━━━━━━━━━━\u001b[0m\u001b[37m\u001b[0m \u001b[1m9s\u001b[0m 3ms/step - accuracy: 0.8707 - loss: 0.2925 - val_accuracy: 0.8575 - val_loss: 0.3255\n",
            "Epoch 8/20\n",
            "\u001b[1m2423/2423\u001b[0m \u001b[32m━━━━━━━━━━━━━━━━━━━━\u001b[0m\u001b[37m\u001b[0m \u001b[1m10s\u001b[0m 4ms/step - accuracy: 0.8756 - loss: 0.2847 - val_accuracy: 0.8553 - val_loss: 0.3258\n",
            "Epoch 9/20\n",
            "\u001b[1m2423/2423\u001b[0m \u001b[32m━━━━━━━━━━━━━━━━━━━━\u001b[0m\u001b[37m\u001b[0m \u001b[1m9s\u001b[0m 4ms/step - accuracy: 0.8788 - loss: 0.2758 - val_accuracy: 0.8553 - val_loss: 0.3272\n",
            "Epoch 10/20\n",
            "\u001b[1m2423/2423\u001b[0m \u001b[32m━━━━━━━━━━━━━━━━━━━━\u001b[0m\u001b[37m\u001b[0m \u001b[1m8s\u001b[0m 3ms/step - accuracy: 0.8843 - loss: 0.2671 - val_accuracy: 0.8553 - val_loss: 0.3302\n"
          ]
        }
      ]
    },
    {
      "cell_type": "code",
      "source": [
        "\n",
        "test_loss, test_accuracy = model.evaluate(X_test_def, y_test, batch_size=64)\n",
        "\n",
        "print(f\"Pérdida en el conjunto de test: {test_loss}\")\n",
        "print(f\"Precisión en el conjunto de test: {test_accuracy}\")"
      ],
      "metadata": {
        "colab": {
          "base_uri": "https://localhost:8080/"
        },
        "id": "yTGd3ldcAWp0",
        "outputId": "9be93ff9-d5da-429a-fa16-3935853d748d"
      },
      "execution_count": null,
      "outputs": [
        {
          "output_type": "stream",
          "name": "stdout",
          "text": [
            "\u001b[1m379/379\u001b[0m \u001b[32m━━━━━━━━━━━━━━━━━━━━\u001b[0m\u001b[37m\u001b[0m \u001b[1m2s\u001b[0m 3ms/step - accuracy: 0.8554 - loss: 0.3246\n",
            "Pérdida en el conjunto de test: 0.3276144564151764\n",
            "Precisión en el conjunto de test: 0.8539283871650696\n"
          ]
        }
      ]
    },
    {
      "cell_type": "code",
      "source": [
        "import numpy as np\n",
        "import random\n",
        "import tensorflow as tf\n",
        "from tensorflow.keras.models import Sequential\n",
        "from tensorflow.keras.layers import Embedding, Conv1D, MaxPooling1D, Flatten, LSTM, Dense, Dropout, BatchNormalization, Bidirectional\n",
        "from tensorflow.keras.callbacks import EarlyStopping\n",
        "\n",
        "# Parámetros\n",
        "max_len = X_train_def.shape[1]\n",
        "seed=42\n",
        "np.random.seed(seed)\n",
        "random.seed(seed)\n",
        "tf.random.set_seed(seed)\n",
        "\n",
        "model = Sequential()\n",
        "model.add(Embedding(input_dim=num_words, output_dim=embedding_dim, weights=[embedding_matrix_x_train], trainable=False, input_length=max_len))\n",
        "model.add(Dropout(0.25))\n",
        "model.add(Conv1D(256 , 3 , padding = 'same',activation = 'relu'))\n",
        "model.add(MaxPooling1D(2))\n",
        "model.add(Dropout(0.5))\n",
        "model.add(Conv1D(256 , 3 , padding = 'same',activation = 'relu'))\n",
        "model.add(MaxPooling1D(2))\n",
        "model.add(Dropout(0.5))\n",
        "\n",
        "model.add(Flatten())\n",
        "model.add(Dense(64, activation='relu'))\n",
        "\n",
        "model.add(Dense(1, activation='sigmoid'))\n",
        "\n",
        "from tensorflow.keras.optimizers import Adam\n",
        "optimizer = Adam(learning_rate=0.0005)  # Reducir el learning rate\n",
        "model.compile(loss='binary_crossentropy', optimizer=optimizer, metrics=['accuracy']) # Función de pérdida binaria\n",
        "\n",
        "# Definir Early Stopping\n",
        "early_stopping = EarlyStopping(monitor='val_accuracy', patience=3, restore_best_weights=True)\n",
        "\n",
        "# Entrenamiento con Early Stopping usando conjuntos de validación específicos\n",
        "history = model.fit(\n",
        "    X_train_def, y_train,\n",
        "    epochs=20,\n",
        "    batch_size=32,\n",
        "    validation_data=(X_val_def, y_val),  # Especifica los conjuntos de validación\n",
        "    callbacks=[early_stopping]\n",
        ")"
      ],
      "metadata": {
        "colab": {
          "base_uri": "https://localhost:8080/"
        },
        "id": "_Z3JunIb0ZSU",
        "outputId": "17ff1e50-bec1-4009-86a8-0412a5e31a63"
      },
      "execution_count": null,
      "outputs": [
        {
          "output_type": "stream",
          "name": "stdout",
          "text": [
            "Epoch 1/20\n",
            "\u001b[1m2423/2423\u001b[0m \u001b[32m━━━━━━━━━━━━━━━━━━━━\u001b[0m\u001b[37m\u001b[0m \u001b[1m15s\u001b[0m 5ms/step - accuracy: 0.7218 - loss: 0.5215 - val_accuracy: 0.8322 - val_loss: 0.3809\n",
            "Epoch 2/20\n",
            "\u001b[1m2423/2423\u001b[0m \u001b[32m━━━━━━━━━━━━━━━━━━━━\u001b[0m\u001b[37m\u001b[0m \u001b[1m8s\u001b[0m 3ms/step - accuracy: 0.8235 - loss: 0.3889 - val_accuracy: 0.8434 - val_loss: 0.3522\n",
            "Epoch 3/20\n",
            "\u001b[1m2423/2423\u001b[0m \u001b[32m━━━━━━━━━━━━━━━━━━━━\u001b[0m\u001b[37m\u001b[0m \u001b[1m8s\u001b[0m 3ms/step - accuracy: 0.8370 - loss: 0.3618 - val_accuracy: 0.8462 - val_loss: 0.3429\n",
            "Epoch 4/20\n",
            "\u001b[1m2423/2423\u001b[0m \u001b[32m━━━━━━━━━━━━━━━━━━━━\u001b[0m\u001b[37m\u001b[0m \u001b[1m11s\u001b[0m 4ms/step - accuracy: 0.8422 - loss: 0.3449 - val_accuracy: 0.8477 - val_loss: 0.3364\n",
            "Epoch 5/20\n",
            "\u001b[1m2423/2423\u001b[0m \u001b[32m━━━━━━━━━━━━━━━━━━━━\u001b[0m\u001b[37m\u001b[0m \u001b[1m9s\u001b[0m 3ms/step - accuracy: 0.8516 - loss: 0.3303 - val_accuracy: 0.8526 - val_loss: 0.3303\n",
            "Epoch 6/20\n",
            "\u001b[1m2423/2423\u001b[0m \u001b[32m━━━━━━━━━━━━━━━━━━━━\u001b[0m\u001b[37m\u001b[0m \u001b[1m8s\u001b[0m 3ms/step - accuracy: 0.8569 - loss: 0.3189 - val_accuracy: 0.8556 - val_loss: 0.3265\n",
            "Epoch 7/20\n",
            "\u001b[1m2423/2423\u001b[0m \u001b[32m━━━━━━━━━━━━━━━━━━━━\u001b[0m\u001b[37m\u001b[0m \u001b[1m11s\u001b[0m 3ms/step - accuracy: 0.8628 - loss: 0.3086 - val_accuracy: 0.8570 - val_loss: 0.3243\n",
            "Epoch 8/20\n",
            "\u001b[1m2423/2423\u001b[0m \u001b[32m━━━━━━━━━━━━━━━━━━━━\u001b[0m\u001b[37m\u001b[0m \u001b[1m7s\u001b[0m 3ms/step - accuracy: 0.8680 - loss: 0.2996 - val_accuracy: 0.8560 - val_loss: 0.3229\n",
            "Epoch 9/20\n",
            "\u001b[1m2423/2423\u001b[0m \u001b[32m━━━━━━━━━━━━━━━━━━━━\u001b[0m\u001b[37m\u001b[0m \u001b[1m8s\u001b[0m 3ms/step - accuracy: 0.8706 - loss: 0.2938 - val_accuracy: 0.8579 - val_loss: 0.3205\n",
            "Epoch 10/20\n",
            "\u001b[1m2423/2423\u001b[0m \u001b[32m━━━━━━━━━━━━━━━━━━━━\u001b[0m\u001b[37m\u001b[0m \u001b[1m10s\u001b[0m 3ms/step - accuracy: 0.8744 - loss: 0.2866 - val_accuracy: 0.8561 - val_loss: 0.3240\n",
            "Epoch 11/20\n",
            "\u001b[1m2423/2423\u001b[0m \u001b[32m━━━━━━━━━━━━━━━━━━━━\u001b[0m\u001b[37m\u001b[0m \u001b[1m9s\u001b[0m 3ms/step - accuracy: 0.8780 - loss: 0.2801 - val_accuracy: 0.8579 - val_loss: 0.3201\n",
            "Epoch 12/20\n",
            "\u001b[1m2423/2423\u001b[0m \u001b[32m━━━━━━━━━━━━━━━━━━━━\u001b[0m\u001b[37m\u001b[0m \u001b[1m8s\u001b[0m 3ms/step - accuracy: 0.8815 - loss: 0.2706 - val_accuracy: 0.8577 - val_loss: 0.3201\n"
          ]
        }
      ]
    },
    {
      "cell_type": "code",
      "source": [
        "\n",
        "test_loss, test_accuracy = model.evaluate(X_test_def, y_test, batch_size=64)\n",
        "\n",
        "print(f\"Pérdida en el conjunto de test: {test_loss}\")\n",
        "print(f\"Precisión en el conjunto de test: {test_accuracy}\")"
      ],
      "metadata": {
        "colab": {
          "base_uri": "https://localhost:8080/"
        },
        "id": "W7yBSbEA0dqp",
        "outputId": "878ac58d-1215-457c-eb78-59c9194acd8d"
      },
      "execution_count": null,
      "outputs": [
        {
          "output_type": "stream",
          "name": "stdout",
          "text": [
            "\u001b[1m379/379\u001b[0m \u001b[32m━━━━━━━━━━━━━━━━━━━━\u001b[0m\u001b[37m\u001b[0m \u001b[1m1s\u001b[0m 3ms/step - accuracy: 0.8552 - loss: 0.3190\n",
            "Pérdida en el conjunto de test: 0.3229489028453827\n",
            "Precisión en el conjunto de test: 0.8556211590766907\n"
          ]
        }
      ]
    },
    {
      "cell_type": "code",
      "source": [
        "import numpy as np\n",
        "import random\n",
        "import tensorflow as tf\n",
        "from tensorflow.keras.models import Sequential\n",
        "from tensorflow.keras.layers import Embedding, Conv1D, MaxPooling1D, Flatten, LSTM, Dense, Dropout, BatchNormalization, Bidirectional\n",
        "from tensorflow.keras.callbacks import EarlyStopping\n",
        "\n",
        "# Parámetros\n",
        "max_len = X_train_def.shape[1]\n",
        "seed=42\n",
        "np.random.seed(seed)\n",
        "random.seed(seed)\n",
        "tf.random.set_seed(seed)\n",
        "\n",
        "model = Sequential()\n",
        "model.add(Embedding(input_dim=num_words, output_dim=embedding_dim, weights=[embedding_matrix_x_train], trainable=False, input_length=max_len))\n",
        "model.add(Dropout(0.25))\n",
        "model.add(Conv1D(128 , 3 , padding = 'same',activation = 'relu'))\n",
        "model.add(MaxPooling1D(2))\n",
        "model.add(Dropout(0.5))\n",
        "model.add(Conv1D(256 , 3 , padding = 'same',activation = 'relu'))\n",
        "model.add(MaxPooling1D(2))\n",
        "model.add(Dropout(0.5))\n",
        "\n",
        "model.add(Flatten())\n",
        "model.add(Dense(64, activation='relu'))\n",
        "\n",
        "model.add(Dense(1, activation='sigmoid'))\n",
        "\n",
        "from tensorflow.keras.optimizers import Adam\n",
        "optimizer = Adam(learning_rate=0.0005)  # Reducir el learning rate\n",
        "model.compile(loss='binary_crossentropy', optimizer=optimizer, metrics=['accuracy']) # Función de pérdida binaria\n",
        "\n",
        "# Definir Early Stopping\n",
        "early_stopping = EarlyStopping(monitor='val_accuracy', patience=3, restore_best_weights=True)\n",
        "\n",
        "# Entrenamiento con Early Stopping usando conjuntos de validación específicos\n",
        "history = model.fit(\n",
        "    X_train_def, y_train,\n",
        "    epochs=20,\n",
        "    batch_size=32,\n",
        "    validation_data=(X_val_def, y_val),  # Especifica los conjuntos de validación\n",
        "    callbacks=[early_stopping]\n",
        ")"
      ],
      "metadata": {
        "colab": {
          "base_uri": "https://localhost:8080/"
        },
        "id": "gpNn14TU0f-B",
        "outputId": "b253268c-79ea-4a94-b0c9-9029dd4289f7"
      },
      "execution_count": null,
      "outputs": [
        {
          "output_type": "stream",
          "name": "stdout",
          "text": [
            "Epoch 1/20\n",
            "\u001b[1m2423/2423\u001b[0m \u001b[32m━━━━━━━━━━━━━━━━━━━━\u001b[0m\u001b[37m\u001b[0m \u001b[1m15s\u001b[0m 4ms/step - accuracy: 0.7126 - loss: 0.5292 - val_accuracy: 0.8327 - val_loss: 0.3762\n",
            "Epoch 2/20\n",
            "\u001b[1m2423/2423\u001b[0m \u001b[32m━━━━━━━━━━━━━━━━━━━━\u001b[0m\u001b[37m\u001b[0m \u001b[1m8s\u001b[0m 3ms/step - accuracy: 0.8186 - loss: 0.3965 - val_accuracy: 0.8410 - val_loss: 0.3574\n",
            "Epoch 3/20\n",
            "\u001b[1m2423/2423\u001b[0m \u001b[32m━━━━━━━━━━━━━━━━━━━━\u001b[0m\u001b[37m\u001b[0m \u001b[1m9s\u001b[0m 3ms/step - accuracy: 0.8315 - loss: 0.3701 - val_accuracy: 0.8477 - val_loss: 0.3478\n",
            "Epoch 4/20\n",
            "\u001b[1m2423/2423\u001b[0m \u001b[32m━━━━━━━━━━━━━━━━━━━━\u001b[0m\u001b[37m\u001b[0m \u001b[1m7s\u001b[0m 3ms/step - accuracy: 0.8384 - loss: 0.3588 - val_accuracy: 0.8486 - val_loss: 0.3394\n",
            "Epoch 5/20\n",
            "\u001b[1m2423/2423\u001b[0m \u001b[32m━━━━━━━━━━━━━━━━━━━━\u001b[0m\u001b[37m\u001b[0m \u001b[1m8s\u001b[0m 3ms/step - accuracy: 0.8454 - loss: 0.3465 - val_accuracy: 0.8514 - val_loss: 0.3367\n",
            "Epoch 6/20\n",
            "\u001b[1m2423/2423\u001b[0m \u001b[32m━━━━━━━━━━━━━━━━━━━━\u001b[0m\u001b[37m\u001b[0m \u001b[1m7s\u001b[0m 3ms/step - accuracy: 0.8471 - loss: 0.3383 - val_accuracy: 0.8528 - val_loss: 0.3310\n",
            "Epoch 7/20\n",
            "\u001b[1m2423/2423\u001b[0m \u001b[32m━━━━━━━━━━━━━━━━━━━━\u001b[0m\u001b[37m\u001b[0m \u001b[1m11s\u001b[0m 3ms/step - accuracy: 0.8545 - loss: 0.3276 - val_accuracy: 0.8529 - val_loss: 0.3303\n",
            "Epoch 8/20\n",
            "\u001b[1m2423/2423\u001b[0m \u001b[32m━━━━━━━━━━━━━━━━━━━━\u001b[0m\u001b[37m\u001b[0m \u001b[1m10s\u001b[0m 3ms/step - accuracy: 0.8555 - loss: 0.3237 - val_accuracy: 0.8551 - val_loss: 0.3274\n",
            "Epoch 9/20\n",
            "\u001b[1m2423/2423\u001b[0m \u001b[32m━━━━━━━━━━━━━━━━━━━━\u001b[0m\u001b[37m\u001b[0m \u001b[1m9s\u001b[0m 3ms/step - accuracy: 0.8608 - loss: 0.3162 - val_accuracy: 0.8552 - val_loss: 0.3261\n",
            "Epoch 10/20\n",
            "\u001b[1m2423/2423\u001b[0m \u001b[32m━━━━━━━━━━━━━━━━━━━━\u001b[0m\u001b[37m\u001b[0m \u001b[1m10s\u001b[0m 3ms/step - accuracy: 0.8619 - loss: 0.3118 - val_accuracy: 0.8540 - val_loss: 0.3270\n",
            "Epoch 11/20\n",
            "\u001b[1m2423/2423\u001b[0m \u001b[32m━━━━━━━━━━━━━━━━━━━━\u001b[0m\u001b[37m\u001b[0m \u001b[1m11s\u001b[0m 3ms/step - accuracy: 0.8637 - loss: 0.3037 - val_accuracy: 0.8561 - val_loss: 0.3224\n",
            "Epoch 12/20\n",
            "\u001b[1m2423/2423\u001b[0m \u001b[32m━━━━━━━━━━━━━━━━━━━━\u001b[0m\u001b[37m\u001b[0m \u001b[1m11s\u001b[0m 3ms/step - accuracy: 0.8662 - loss: 0.3027 - val_accuracy: 0.8563 - val_loss: 0.3237\n",
            "Epoch 13/20\n",
            "\u001b[1m2423/2423\u001b[0m \u001b[32m━━━━━━━━━━━━━━━━━━━━\u001b[0m\u001b[37m\u001b[0m \u001b[1m7s\u001b[0m 3ms/step - accuracy: 0.8670 - loss: 0.3004 - val_accuracy: 0.8574 - val_loss: 0.3232\n",
            "Epoch 14/20\n",
            "\u001b[1m2423/2423\u001b[0m \u001b[32m━━━━━━━━━━━━━━━━━━━━\u001b[0m\u001b[37m\u001b[0m \u001b[1m10s\u001b[0m 3ms/step - accuracy: 0.8708 - loss: 0.2936 - val_accuracy: 0.8564 - val_loss: 0.3219\n",
            "Epoch 15/20\n",
            "\u001b[1m2423/2423\u001b[0m \u001b[32m━━━━━━━━━━━━━━━━━━━━\u001b[0m\u001b[37m\u001b[0m \u001b[1m8s\u001b[0m 3ms/step - accuracy: 0.8726 - loss: 0.2905 - val_accuracy: 0.8555 - val_loss: 0.3226\n",
            "Epoch 16/20\n",
            "\u001b[1m2423/2423\u001b[0m \u001b[32m━━━━━━━━━━━━━━━━━━━━\u001b[0m\u001b[37m\u001b[0m \u001b[1m7s\u001b[0m 3ms/step - accuracy: 0.8749 - loss: 0.2891 - val_accuracy: 0.8555 - val_loss: 0.3210\n"
          ]
        }
      ]
    },
    {
      "cell_type": "code",
      "source": [
        "\n",
        "test_loss, test_accuracy = model.evaluate(X_test_def, y_test, batch_size=64)\n",
        "\n",
        "print(f\"Pérdida en el conjunto de test: {test_loss}\")\n",
        "print(f\"Precisión en el conjunto de test: {test_accuracy}\")"
      ],
      "metadata": {
        "colab": {
          "base_uri": "https://localhost:8080/"
        },
        "id": "knF5Msef0mjE",
        "outputId": "d930f1f7-3f94-4653-a2e4-2951cd089f86"
      },
      "execution_count": null,
      "outputs": [
        {
          "output_type": "stream",
          "name": "stdout",
          "text": [
            "\u001b[1m379/379\u001b[0m \u001b[32m━━━━━━━━━━━━━━━━━━━━\u001b[0m\u001b[37m\u001b[0m \u001b[1m1s\u001b[0m 3ms/step - accuracy: 0.8540 - loss: 0.3265\n",
            "Pérdida en el conjunto de test: 0.32545584440231323\n",
            "Precisión en el conjunto de test: 0.856240451335907\n"
          ]
        }
      ]
    },
    {
      "cell_type": "code",
      "source": [
        "import numpy as np\n",
        "import random\n",
        "import tensorflow as tf\n",
        "from tensorflow.keras.models import Sequential\n",
        "from tensorflow.keras.layers import Embedding, Conv1D, MaxPooling1D, Flatten, LSTM, Dense, Dropout, BatchNormalization, Bidirectional\n",
        "from tensorflow.keras.callbacks import EarlyStopping\n",
        "\n",
        "# Parámetros\n",
        "max_len = X_train_def.shape[1]\n",
        "seed=42\n",
        "np.random.seed(seed)\n",
        "random.seed(seed)\n",
        "tf.random.set_seed(seed)\n",
        "\n",
        "model = Sequential()\n",
        "model.add(Embedding(input_dim=num_words, output_dim=embedding_dim, weights=[embedding_matrix_x_train], trainable=False, input_length=max_len))\n",
        "model.add(Dropout(0.25))\n",
        "model.add(Conv1D(64 , 3 , padding = 'same',activation = 'relu'))\n",
        "model.add(MaxPooling1D(2))\n",
        "model.add(Dropout(0.5))\n",
        "model.add(Conv1D(128 , 3 , padding = 'same',activation = 'relu'))\n",
        "model.add(MaxPooling1D(2))\n",
        "model.add(Dropout(0.5))\n",
        "\n",
        "model.add(Flatten())\n",
        "model.add(Dense(64, activation='relu'))\n",
        "\n",
        "model.add(Dense(1, activation='sigmoid'))\n",
        "\n",
        "from tensorflow.keras.optimizers import Adam\n",
        "optimizer = Adam(learning_rate=0.0005)  # Reducir el learning rate\n",
        "model.compile(loss='binary_crossentropy', optimizer=optimizer, metrics=['accuracy']) # Función de pérdida binaria\n",
        "\n",
        "# Definir Early Stopping\n",
        "early_stopping = EarlyStopping(monitor='val_accuracy', patience=3, restore_best_weights=True)\n",
        "\n",
        "# Entrenamiento con Early Stopping usando conjuntos de validación específicos\n",
        "history = model.fit(\n",
        "    X_train_def, y_train,\n",
        "    epochs=20,\n",
        "    batch_size=32,\n",
        "    validation_data=(X_val_def, y_val),  # Especifica los conjuntos de validación\n",
        "    callbacks=[early_stopping]\n",
        ")"
      ],
      "metadata": {
        "colab": {
          "base_uri": "https://localhost:8080/"
        },
        "id": "cXdKfSPA0oAa",
        "outputId": "b985d0c1-7d2e-4e83-8903-406d9430c522"
      },
      "execution_count": null,
      "outputs": [
        {
          "output_type": "stream",
          "name": "stdout",
          "text": [
            "Epoch 1/20\n",
            "\u001b[1m2423/2423\u001b[0m \u001b[32m━━━━━━━━━━━━━━━━━━━━\u001b[0m\u001b[37m\u001b[0m \u001b[1m15s\u001b[0m 4ms/step - accuracy: 0.6908 - loss: 0.5557 - val_accuracy: 0.8284 - val_loss: 0.3875\n",
            "Epoch 2/20\n",
            "\u001b[1m2423/2423\u001b[0m \u001b[32m━━━━━━━━━━━━━━━━━━━━\u001b[0m\u001b[37m\u001b[0m \u001b[1m7s\u001b[0m 3ms/step - accuracy: 0.8125 - loss: 0.4090 - val_accuracy: 0.8384 - val_loss: 0.3656\n",
            "Epoch 3/20\n",
            "\u001b[1m2423/2423\u001b[0m \u001b[32m━━━━━━━━━━━━━━━━━━━━\u001b[0m\u001b[37m\u001b[0m \u001b[1m11s\u001b[0m 3ms/step - accuracy: 0.8223 - loss: 0.3866 - val_accuracy: 0.8431 - val_loss: 0.3536\n",
            "Epoch 4/20\n",
            "\u001b[1m2423/2423\u001b[0m \u001b[32m━━━━━━━━━━━━━━━━━━━━\u001b[0m\u001b[37m\u001b[0m \u001b[1m7s\u001b[0m 3ms/step - accuracy: 0.8294 - loss: 0.3725 - val_accuracy: 0.8451 - val_loss: 0.3490\n",
            "Epoch 5/20\n",
            "\u001b[1m2423/2423\u001b[0m \u001b[32m━━━━━━━━━━━━━━━━━━━━\u001b[0m\u001b[37m\u001b[0m \u001b[1m8s\u001b[0m 3ms/step - accuracy: 0.8365 - loss: 0.3610 - val_accuracy: 0.8478 - val_loss: 0.3445\n",
            "Epoch 6/20\n",
            "\u001b[1m2423/2423\u001b[0m \u001b[32m━━━━━━━━━━━━━━━━━━━━\u001b[0m\u001b[37m\u001b[0m \u001b[1m7s\u001b[0m 3ms/step - accuracy: 0.8406 - loss: 0.3543 - val_accuracy: 0.8473 - val_loss: 0.3410\n",
            "Epoch 7/20\n",
            "\u001b[1m2423/2423\u001b[0m \u001b[32m━━━━━━━━━━━━━━━━━━━━\u001b[0m\u001b[37m\u001b[0m \u001b[1m8s\u001b[0m 3ms/step - accuracy: 0.8426 - loss: 0.3505 - val_accuracy: 0.8490 - val_loss: 0.3396\n",
            "Epoch 8/20\n",
            "\u001b[1m2423/2423\u001b[0m \u001b[32m━━━━━━━━━━━━━━━━━━━━\u001b[0m\u001b[37m\u001b[0m \u001b[1m7s\u001b[0m 3ms/step - accuracy: 0.8460 - loss: 0.3424 - val_accuracy: 0.8504 - val_loss: 0.3375\n",
            "Epoch 9/20\n",
            "\u001b[1m2423/2423\u001b[0m \u001b[32m━━━━━━━━━━━━━━━━━━━━\u001b[0m\u001b[37m\u001b[0m \u001b[1m8s\u001b[0m 3ms/step - accuracy: 0.8460 - loss: 0.3410 - val_accuracy: 0.8504 - val_loss: 0.3360\n",
            "Epoch 10/20\n",
            "\u001b[1m2423/2423\u001b[0m \u001b[32m━━━━━━━━━━━━━━━━━━━━\u001b[0m\u001b[37m\u001b[0m \u001b[1m10s\u001b[0m 3ms/step - accuracy: 0.8502 - loss: 0.3366 - val_accuracy: 0.8534 - val_loss: 0.3334\n",
            "Epoch 11/20\n",
            "\u001b[1m2423/2423\u001b[0m \u001b[32m━━━━━━━━━━━━━━━━━━━━\u001b[0m\u001b[37m\u001b[0m \u001b[1m7s\u001b[0m 3ms/step - accuracy: 0.8499 - loss: 0.3329 - val_accuracy: 0.8526 - val_loss: 0.3335\n",
            "Epoch 12/20\n",
            "\u001b[1m2423/2423\u001b[0m \u001b[32m━━━━━━━━━━━━━━━━━━━━\u001b[0m\u001b[37m\u001b[0m \u001b[1m8s\u001b[0m 3ms/step - accuracy: 0.8534 - loss: 0.3308 - val_accuracy: 0.8550 - val_loss: 0.3296\n",
            "Epoch 13/20\n",
            "\u001b[1m2423/2423\u001b[0m \u001b[32m━━━━━━━━━━━━━━━━━━━━\u001b[0m\u001b[37m\u001b[0m \u001b[1m9s\u001b[0m 3ms/step - accuracy: 0.8517 - loss: 0.3295 - val_accuracy: 0.8532 - val_loss: 0.3301\n",
            "Epoch 14/20\n",
            "\u001b[1m2423/2423\u001b[0m \u001b[32m━━━━━━━━━━━━━━━━━━━━\u001b[0m\u001b[37m\u001b[0m \u001b[1m8s\u001b[0m 3ms/step - accuracy: 0.8574 - loss: 0.3249 - val_accuracy: 0.8523 - val_loss: 0.3306\n",
            "Epoch 15/20\n",
            "\u001b[1m2423/2423\u001b[0m \u001b[32m━━━━━━━━━━━━━━━━━━━━\u001b[0m\u001b[37m\u001b[0m \u001b[1m10s\u001b[0m 3ms/step - accuracy: 0.8569 - loss: 0.3223 - val_accuracy: 0.8551 - val_loss: 0.3290\n",
            "Epoch 16/20\n",
            "\u001b[1m2423/2423\u001b[0m \u001b[32m━━━━━━━━━━━━━━━━━━━━\u001b[0m\u001b[37m\u001b[0m \u001b[1m10s\u001b[0m 3ms/step - accuracy: 0.8595 - loss: 0.3199 - val_accuracy: 0.8544 - val_loss: 0.3275\n",
            "Epoch 17/20\n",
            "\u001b[1m2423/2423\u001b[0m \u001b[32m━━━━━━━━━━━━━━━━━━━━\u001b[0m\u001b[37m\u001b[0m \u001b[1m8s\u001b[0m 3ms/step - accuracy: 0.8581 - loss: 0.3208 - val_accuracy: 0.8536 - val_loss: 0.3286\n",
            "Epoch 18/20\n",
            "\u001b[1m2423/2423\u001b[0m \u001b[32m━━━━━━━━━━━━━━━━━━━━\u001b[0m\u001b[37m\u001b[0m \u001b[1m10s\u001b[0m 3ms/step - accuracy: 0.8613 - loss: 0.3167 - val_accuracy: 0.8526 - val_loss: 0.3280\n"
          ]
        }
      ]
    },
    {
      "cell_type": "code",
      "source": [
        "\n",
        "test_loss, test_accuracy = model.evaluate(X_test_def, y_test, batch_size=64)\n",
        "\n",
        "print(f\"Pérdida en el conjunto de test: {test_loss}\")\n",
        "print(f\"Precisión en el conjunto de test: {test_accuracy}\")"
      ],
      "metadata": {
        "colab": {
          "base_uri": "https://localhost:8080/"
        },
        "id": "tkx_0bb20rHy",
        "outputId": "a1a401cb-6a23-4e93-c6e9-7f1c7cea7576"
      },
      "execution_count": null,
      "outputs": [
        {
          "output_type": "stream",
          "name": "stdout",
          "text": [
            "\u001b[1m379/379\u001b[0m \u001b[32m━━━━━━━━━━━━━━━━━━━━\u001b[0m\u001b[37m\u001b[0m \u001b[1m2s\u001b[0m 3ms/step - accuracy: 0.8534 - loss: 0.3283\n",
            "Pérdida en el conjunto de test: 0.33173730969429016\n",
            "Precisión en el conjunto de test: 0.8520705103874207\n"
          ]
        }
      ]
    },
    {
      "cell_type": "code",
      "source": [
        "import numpy as np\n",
        "import random\n",
        "import tensorflow as tf\n",
        "from tensorflow.keras.models import Sequential\n",
        "from tensorflow.keras.layers import Embedding, Conv1D, MaxPooling1D, Flatten, LSTM, Dense, Dropout, BatchNormalization, Bidirectional\n",
        "from tensorflow.keras.callbacks import EarlyStopping\n",
        "\n",
        "# Parámetros\n",
        "max_len = X_train_def.shape[1]\n",
        "seed=42\n",
        "np.random.seed(seed)\n",
        "random.seed(seed)\n",
        "tf.random.set_seed(seed)\n",
        "\n",
        "model = Sequential()\n",
        "model.add(Embedding(input_dim=num_words, output_dim=embedding_dim, weights=[embedding_matrix_x_train], trainable=False, input_length=max_len))\n",
        "model.add(Dropout(0.25))\n",
        "model.add(Conv1D(64 , 3 , padding = 'same',activation = 'relu'))\n",
        "model.add(MaxPooling1D(2))\n",
        "model.add(Dropout(0.5))\n",
        "model.add(Conv1D(128 , 5 , padding = 'same',activation = 'relu'))\n",
        "model.add(MaxPooling1D(2))\n",
        "model.add(Dropout(0.5))\n",
        "\n",
        "model.add(Flatten())\n",
        "model.add(Dense(64, activation='relu'))\n",
        "\n",
        "model.add(Dense(1, activation='sigmoid'))\n",
        "\n",
        "from tensorflow.keras.optimizers import Adam\n",
        "optimizer = Adam(learning_rate=0.0005)  # Reducir el learning rate\n",
        "model.compile(loss='binary_crossentropy', optimizer=optimizer, metrics=['accuracy']) # Función de pérdida binaria\n",
        "\n",
        "# Definir Early Stopping\n",
        "early_stopping = EarlyStopping(monitor='val_accuracy', patience=3, restore_best_weights=True)\n",
        "\n",
        "# Entrenamiento con Early Stopping usando conjuntos de validación específicos\n",
        "history = model.fit(\n",
        "    X_train_def, y_train,\n",
        "    epochs=20,\n",
        "    batch_size=32,\n",
        "    validation_data=(X_val_def, y_val),  # Especifica los conjuntos de validación\n",
        "    callbacks=[early_stopping]\n",
        ")"
      ],
      "metadata": {
        "colab": {
          "base_uri": "https://localhost:8080/"
        },
        "id": "kxVKsuLd0tuG",
        "outputId": "cad0a9a9-04a9-4ef1-c63f-d5a8d3c97e62"
      },
      "execution_count": null,
      "outputs": [
        {
          "output_type": "stream",
          "name": "stdout",
          "text": [
            "Epoch 1/20\n",
            "\u001b[1m2423/2423\u001b[0m \u001b[32m━━━━━━━━━━━━━━━━━━━━\u001b[0m\u001b[37m\u001b[0m \u001b[1m15s\u001b[0m 5ms/step - accuracy: 0.6945 - loss: 0.5503 - val_accuracy: 0.8290 - val_loss: 0.3830\n",
            "Epoch 2/20\n",
            "\u001b[1m2423/2423\u001b[0m \u001b[32m━━━━━━━━━━━━━━━━━━━━\u001b[0m\u001b[37m\u001b[0m \u001b[1m7s\u001b[0m 3ms/step - accuracy: 0.8116 - loss: 0.4069 - val_accuracy: 0.8398 - val_loss: 0.3606\n",
            "Epoch 3/20\n",
            "\u001b[1m2423/2423\u001b[0m \u001b[32m━━━━━━━━━━━━━━━━━━━━\u001b[0m\u001b[37m\u001b[0m \u001b[1m10s\u001b[0m 3ms/step - accuracy: 0.8222 - loss: 0.3850 - val_accuracy: 0.8445 - val_loss: 0.3551\n",
            "Epoch 4/20\n",
            "\u001b[1m2423/2423\u001b[0m \u001b[32m━━━━━━━━━━━━━━━━━━━━\u001b[0m\u001b[37m\u001b[0m \u001b[1m8s\u001b[0m 3ms/step - accuracy: 0.8317 - loss: 0.3718 - val_accuracy: 0.8440 - val_loss: 0.3493\n",
            "Epoch 5/20\n",
            "\u001b[1m2423/2423\u001b[0m \u001b[32m━━━━━━━━━━━━━━━━━━━━\u001b[0m\u001b[37m\u001b[0m \u001b[1m10s\u001b[0m 3ms/step - accuracy: 0.8367 - loss: 0.3602 - val_accuracy: 0.8453 - val_loss: 0.3464\n",
            "Epoch 6/20\n",
            "\u001b[1m2423/2423\u001b[0m \u001b[32m━━━━━━━━━━━━━━━━━━━━\u001b[0m\u001b[37m\u001b[0m \u001b[1m8s\u001b[0m 3ms/step - accuracy: 0.8389 - loss: 0.3541 - val_accuracy: 0.8468 - val_loss: 0.3401\n",
            "Epoch 7/20\n",
            "\u001b[1m2423/2423\u001b[0m \u001b[32m━━━━━━━━━━━━━━━━━━━━\u001b[0m\u001b[37m\u001b[0m \u001b[1m10s\u001b[0m 3ms/step - accuracy: 0.8446 - loss: 0.3492 - val_accuracy: 0.8503 - val_loss: 0.3382\n",
            "Epoch 8/20\n",
            "\u001b[1m2423/2423\u001b[0m \u001b[32m━━━━━━━━━━━━━━━━━━━━\u001b[0m\u001b[37m\u001b[0m \u001b[1m7s\u001b[0m 3ms/step - accuracy: 0.8446 - loss: 0.3443 - val_accuracy: 0.8518 - val_loss: 0.3364\n",
            "Epoch 9/20\n",
            "\u001b[1m2423/2423\u001b[0m \u001b[32m━━━━━━━━━━━━━━━━━━━━\u001b[0m\u001b[37m\u001b[0m \u001b[1m11s\u001b[0m 3ms/step - accuracy: 0.8462 - loss: 0.3392 - val_accuracy: 0.8528 - val_loss: 0.3340\n",
            "Epoch 10/20\n",
            "\u001b[1m2423/2423\u001b[0m \u001b[32m━━━━━━━━━━━━━━━━━━━━\u001b[0m\u001b[37m\u001b[0m \u001b[1m10s\u001b[0m 3ms/step - accuracy: 0.8493 - loss: 0.3368 - val_accuracy: 0.8529 - val_loss: 0.3315\n",
            "Epoch 11/20\n",
            "\u001b[1m2423/2423\u001b[0m \u001b[32m━━━━━━━━━━━━━━━━━━━━\u001b[0m\u001b[37m\u001b[0m \u001b[1m9s\u001b[0m 3ms/step - accuracy: 0.8518 - loss: 0.3321 - val_accuracy: 0.8565 - val_loss: 0.3320\n",
            "Epoch 12/20\n",
            "\u001b[1m2423/2423\u001b[0m \u001b[32m━━━━━━━━━━━━━━━━━━━━\u001b[0m\u001b[37m\u001b[0m \u001b[1m8s\u001b[0m 3ms/step - accuracy: 0.8515 - loss: 0.3306 - val_accuracy: 0.8559 - val_loss: 0.3261\n",
            "Epoch 13/20\n",
            "\u001b[1m2423/2423\u001b[0m \u001b[32m━━━━━━━━━━━━━━━━━━━━\u001b[0m\u001b[37m\u001b[0m \u001b[1m7s\u001b[0m 3ms/step - accuracy: 0.8522 - loss: 0.3294 - val_accuracy: 0.8580 - val_loss: 0.3261\n",
            "Epoch 14/20\n",
            "\u001b[1m2423/2423\u001b[0m \u001b[32m━━━━━━━━━━━━━━━━━━━━\u001b[0m\u001b[37m\u001b[0m \u001b[1m11s\u001b[0m 3ms/step - accuracy: 0.8551 - loss: 0.3249 - val_accuracy: 0.8572 - val_loss: 0.3263\n",
            "Epoch 15/20\n",
            "\u001b[1m2423/2423\u001b[0m \u001b[32m━━━━━━━━━━━━━━━━━━━━\u001b[0m\u001b[37m\u001b[0m \u001b[1m8s\u001b[0m 3ms/step - accuracy: 0.8561 - loss: 0.3236 - val_accuracy: 0.8568 - val_loss: 0.3252\n",
            "Epoch 16/20\n",
            "\u001b[1m2423/2423\u001b[0m \u001b[32m━━━━━━━━━━━━━━━━━━━━\u001b[0m\u001b[37m\u001b[0m \u001b[1m7s\u001b[0m 3ms/step - accuracy: 0.8577 - loss: 0.3213 - val_accuracy: 0.8559 - val_loss: 0.3248\n"
          ]
        }
      ]
    },
    {
      "cell_type": "code",
      "source": [
        "\n",
        "test_loss, test_accuracy = model.evaluate(X_test_def, y_test, batch_size=64)\n",
        "\n",
        "print(f\"Pérdida en el conjunto de test: {test_loss}\")\n",
        "print(f\"Precisión en el conjunto de test: {test_accuracy}\")"
      ],
      "metadata": {
        "colab": {
          "base_uri": "https://localhost:8080/"
        },
        "id": "PtjwsJLU0wPb",
        "outputId": "ac0c507b-c9e9-4dcb-b4ff-d97b1cd7b3f5"
      },
      "execution_count": null,
      "outputs": [
        {
          "output_type": "stream",
          "name": "stdout",
          "text": [
            "\u001b[1m379/379\u001b[0m \u001b[32m━━━━━━━━━━━━━━━━━━━━\u001b[0m\u001b[37m\u001b[0m \u001b[1m1s\u001b[0m 2ms/step - accuracy: 0.8528 - loss: 0.3290\n",
            "Pérdida en el conjunto de test: 0.33096835017204285\n",
            "Precisión en el conjunto de test: 0.8535568118095398\n"
          ]
        }
      ]
    },
    {
      "cell_type": "code",
      "source": [
        "import numpy as np\n",
        "import random\n",
        "import tensorflow as tf\n",
        "from tensorflow.keras.models import Sequential\n",
        "from tensorflow.keras.layers import Embedding, Conv1D, MaxPooling1D, Flatten, LSTM, Dense, Dropout, BatchNormalization, Bidirectional\n",
        "from tensorflow.keras.callbacks import EarlyStopping\n",
        "\n",
        "# Parámetros\n",
        "max_len = X_train_def.shape[1]\n",
        "seed=42\n",
        "np.random.seed(seed)\n",
        "random.seed(seed)\n",
        "tf.random.set_seed(seed)\n",
        "\n",
        "model = Sequential()\n",
        "model.add(Embedding(input_dim=num_words, output_dim=embedding_dim, weights=[embedding_matrix_x_train], trainable=False, input_length=max_len))\n",
        "model.add(Dropout(0.25))\n",
        "model.add(Conv1D(128 , 3 , padding = 'same',activation = 'relu'))\n",
        "model.add(MaxPooling1D(2))\n",
        "model.add(Dropout(0.5))\n",
        "model.add(Conv1D(256 , 5 , padding = 'same',activation = 'relu'))\n",
        "model.add(MaxPooling1D(2))\n",
        "model.add(Dropout(0.5))\n",
        "\n",
        "model.add(Flatten())\n",
        "model.add(Dense(64, activation='relu'))\n",
        "\n",
        "model.add(Dense(1, activation='sigmoid'))\n",
        "\n",
        "from tensorflow.keras.optimizers import Adam\n",
        "optimizer = Adam(learning_rate=0.0005)  # Reducir el learning rate\n",
        "model.compile(loss='binary_crossentropy', optimizer=optimizer, metrics=['accuracy']) # Función de pérdida binaria\n",
        "\n",
        "# Definir Early Stopping\n",
        "early_stopping = EarlyStopping(monitor='val_accuracy', patience=3, restore_best_weights=True)\n",
        "\n",
        "# Entrenamiento con Early Stopping usando conjuntos de validación específicos\n",
        "history = model.fit(\n",
        "    X_train_def, y_train,\n",
        "    epochs=20,\n",
        "    batch_size=32,\n",
        "    validation_data=(X_val_def, y_val),  # Especifica los conjuntos de validación\n",
        "    callbacks=[early_stopping]\n",
        ")"
      ],
      "metadata": {
        "colab": {
          "base_uri": "https://localhost:8080/"
        },
        "id": "Hd405zDx0xqZ",
        "outputId": "1c1657d3-7a59-4851-f906-b93e03168c85"
      },
      "execution_count": null,
      "outputs": [
        {
          "output_type": "stream",
          "name": "stdout",
          "text": [
            "Epoch 1/20\n",
            "\u001b[1m2423/2423\u001b[0m \u001b[32m━━━━━━━━━━━━━━━━━━━━\u001b[0m\u001b[37m\u001b[0m \u001b[1m17s\u001b[0m 4ms/step - accuracy: 0.7118 - loss: 0.5286 - val_accuracy: 0.8346 - val_loss: 0.3726\n",
            "Epoch 2/20\n",
            "\u001b[1m2423/2423\u001b[0m \u001b[32m━━━━━━━━━━━━━━━━━━━━\u001b[0m\u001b[37m\u001b[0m \u001b[1m13s\u001b[0m 3ms/step - accuracy: 0.8182 - loss: 0.3963 - val_accuracy: 0.8450 - val_loss: 0.3533\n",
            "Epoch 3/20\n",
            "\u001b[1m2423/2423\u001b[0m \u001b[32m━━━━━━━━━━━━━━━━━━━━\u001b[0m\u001b[37m\u001b[0m \u001b[1m10s\u001b[0m 3ms/step - accuracy: 0.8322 - loss: 0.3680 - val_accuracy: 0.8490 - val_loss: 0.3446\n",
            "Epoch 4/20\n",
            "\u001b[1m2423/2423\u001b[0m \u001b[32m━━━━━━━━━━━━━━━━━━━━\u001b[0m\u001b[37m\u001b[0m \u001b[1m11s\u001b[0m 3ms/step - accuracy: 0.8404 - loss: 0.3530 - val_accuracy: 0.8512 - val_loss: 0.3355\n",
            "Epoch 5/20\n",
            "\u001b[1m2423/2423\u001b[0m \u001b[32m━━━━━━━━━━━━━━━━━━━━\u001b[0m\u001b[37m\u001b[0m \u001b[1m10s\u001b[0m 3ms/step - accuracy: 0.8447 - loss: 0.3420 - val_accuracy: 0.8529 - val_loss: 0.3307\n",
            "Epoch 6/20\n",
            "\u001b[1m2423/2423\u001b[0m \u001b[32m━━━━━━━━━━━━━━━━━━━━\u001b[0m\u001b[37m\u001b[0m \u001b[1m10s\u001b[0m 3ms/step - accuracy: 0.8511 - loss: 0.3325 - val_accuracy: 0.8557 - val_loss: 0.3267\n",
            "Epoch 7/20\n",
            "\u001b[1m2423/2423\u001b[0m \u001b[32m━━━━━━━━━━━━━━━━━━━━\u001b[0m\u001b[37m\u001b[0m \u001b[1m8s\u001b[0m 3ms/step - accuracy: 0.8560 - loss: 0.3252 - val_accuracy: 0.8549 - val_loss: 0.3246\n",
            "Epoch 8/20\n",
            "\u001b[1m2423/2423\u001b[0m \u001b[32m━━━━━━━━━━━━━━━━━━━━\u001b[0m\u001b[37m\u001b[0m \u001b[1m10s\u001b[0m 3ms/step - accuracy: 0.8596 - loss: 0.3166 - val_accuracy: 0.8603 - val_loss: 0.3230\n",
            "Epoch 9/20\n",
            "\u001b[1m2423/2423\u001b[0m \u001b[32m━━━━━━━━━━━━━━━━━━━━\u001b[0m\u001b[37m\u001b[0m \u001b[1m9s\u001b[0m 3ms/step - accuracy: 0.8613 - loss: 0.3102 - val_accuracy: 0.8572 - val_loss: 0.3202\n",
            "Epoch 10/20\n",
            "\u001b[1m2423/2423\u001b[0m \u001b[32m━━━━━━━━━━━━━━━━━━━━\u001b[0m\u001b[37m\u001b[0m \u001b[1m8s\u001b[0m 3ms/step - accuracy: 0.8649 - loss: 0.3061 - val_accuracy: 0.8573 - val_loss: 0.3206\n",
            "Epoch 11/20\n",
            "\u001b[1m2423/2423\u001b[0m \u001b[32m━━━━━━━━━━━━━━━━━━━━\u001b[0m\u001b[37m\u001b[0m \u001b[1m10s\u001b[0m 3ms/step - accuracy: 0.8649 - loss: 0.3004 - val_accuracy: 0.8589 - val_loss: 0.3185\n"
          ]
        }
      ]
    },
    {
      "cell_type": "code",
      "source": [
        "\n",
        "test_loss, test_accuracy = model.evaluate(X_test_def, y_test, batch_size=64)\n",
        "\n",
        "print(f\"Pérdida en el conjunto de test: {test_loss}\")\n",
        "print(f\"Precisión en el conjunto de test: {test_accuracy}\")"
      ],
      "metadata": {
        "colab": {
          "base_uri": "https://localhost:8080/"
        },
        "id": "2h-k_BzO00yD",
        "outputId": "175a8889-dc74-4529-e5cf-e7050bdf6094"
      },
      "execution_count": null,
      "outputs": [
        {
          "output_type": "stream",
          "name": "stdout",
          "text": [
            "\u001b[1m379/379\u001b[0m \u001b[32m━━━━━━━━━━━━━━━━━━━━\u001b[0m\u001b[37m\u001b[0m \u001b[1m1s\u001b[0m 3ms/step - accuracy: 0.8552 - loss: 0.3245\n",
            "Pérdida en el conjunto de test: 0.32577577233314514\n",
            "Precisión en el conjunto de test: 0.8545889854431152\n"
          ]
        }
      ]
    },
    {
      "cell_type": "code",
      "source": [
        "import numpy as np\n",
        "import random\n",
        "import tensorflow as tf\n",
        "from tensorflow.keras.models import Sequential\n",
        "from tensorflow.keras.layers import Embedding, Conv1D, MaxPooling1D, Flatten, LSTM, Dense, Dropout, BatchNormalization, Bidirectional\n",
        "from tensorflow.keras.callbacks import EarlyStopping\n",
        "\n",
        "# Parámetros\n",
        "max_len = X_train_def.shape[1]\n",
        "seed=42\n",
        "np.random.seed(seed)\n",
        "random.seed(seed)\n",
        "tf.random.set_seed(seed)\n",
        "\n",
        "model = Sequential()\n",
        "model.add(Embedding(input_dim=num_words, output_dim=embedding_dim, weights=[embedding_matrix_x_train], trainable=False, input_length=max_len))\n",
        "model.add(Dropout(0.25))\n",
        "model.add(Conv1D(64 , 3 , padding = 'same',activation = 'relu'))\n",
        "model.add(MaxPooling1D(2))\n",
        "model.add(Dropout(0.5))\n",
        "model.add(Conv1D(64 , 5 , padding = 'same',activation = 'relu'))\n",
        "model.add(MaxPooling1D(2))\n",
        "model.add(Dropout(0.5))\n",
        "\n",
        "model.add(Flatten())\n",
        "model.add(Dense(64, activation='relu'))\n",
        "\n",
        "model.add(Dense(1, activation='sigmoid'))\n",
        "\n",
        "from tensorflow.keras.optimizers import Adam\n",
        "optimizer = Adam(learning_rate=0.0005)  # Reducir el learning rate\n",
        "model.compile(loss='binary_crossentropy', optimizer=optimizer, metrics=['accuracy']) # Función de pérdida binaria\n",
        "\n",
        "# Definir Early Stopping\n",
        "early_stopping = EarlyStopping(monitor='val_accuracy', patience=3, restore_best_weights=True)\n",
        "\n",
        "# Entrenamiento con Early Stopping usando conjuntos de validación específicos\n",
        "history = model.fit(\n",
        "    X_train_def, y_train,\n",
        "    epochs=20,\n",
        "    batch_size=32,\n",
        "    validation_data=(X_val_def, y_val),  # Especifica los conjuntos de validación\n",
        "    callbacks=[early_stopping]\n",
        ")"
      ],
      "metadata": {
        "colab": {
          "base_uri": "https://localhost:8080/"
        },
        "id": "pejBCfbK02Br",
        "outputId": "28f7b829-9d11-4d26-e352-691932ca3ec3"
      },
      "execution_count": null,
      "outputs": [
        {
          "output_type": "stream",
          "name": "stdout",
          "text": [
            "Epoch 1/20\n",
            "\u001b[1m2423/2423\u001b[0m \u001b[32m━━━━━━━━━━━━━━━━━━━━\u001b[0m\u001b[37m\u001b[0m \u001b[1m14s\u001b[0m 4ms/step - accuracy: 0.6830 - loss: 0.5646 - val_accuracy: 0.8293 - val_loss: 0.3874\n",
            "Epoch 2/20\n",
            "\u001b[1m2423/2423\u001b[0m \u001b[32m━━━━━━━━━━━━━━━━━━━━\u001b[0m\u001b[37m\u001b[0m \u001b[1m7s\u001b[0m 3ms/step - accuracy: 0.8114 - loss: 0.4082 - val_accuracy: 0.8385 - val_loss: 0.3668\n",
            "Epoch 3/20\n",
            "\u001b[1m2423/2423\u001b[0m \u001b[32m━━━━━━━━━━━━━━━━━━━━\u001b[0m\u001b[37m\u001b[0m \u001b[1m7s\u001b[0m 3ms/step - accuracy: 0.8218 - loss: 0.3890 - val_accuracy: 0.8420 - val_loss: 0.3573\n",
            "Epoch 4/20\n",
            "\u001b[1m2423/2423\u001b[0m \u001b[32m━━━━━━━━━━━━━━━━━━━━\u001b[0m\u001b[37m\u001b[0m \u001b[1m10s\u001b[0m 3ms/step - accuracy: 0.8275 - loss: 0.3777 - val_accuracy: 0.8429 - val_loss: 0.3540\n",
            "Epoch 5/20\n",
            "\u001b[1m2423/2423\u001b[0m \u001b[32m━━━━━━━━━━━━━━━━━━━━\u001b[0m\u001b[37m\u001b[0m \u001b[1m7s\u001b[0m 3ms/step - accuracy: 0.8341 - loss: 0.3660 - val_accuracy: 0.8459 - val_loss: 0.3497\n",
            "Epoch 6/20\n",
            "\u001b[1m2423/2423\u001b[0m \u001b[32m━━━━━━━━━━━━━━━━━━━━\u001b[0m\u001b[37m\u001b[0m \u001b[1m8s\u001b[0m 3ms/step - accuracy: 0.8389 - loss: 0.3572 - val_accuracy: 0.8466 - val_loss: 0.3444\n",
            "Epoch 7/20\n",
            "\u001b[1m2423/2423\u001b[0m \u001b[32m━━━━━━━━━━━━━━━━━━━━\u001b[0m\u001b[37m\u001b[0m \u001b[1m9s\u001b[0m 3ms/step - accuracy: 0.8422 - loss: 0.3529 - val_accuracy: 0.8469 - val_loss: 0.3407\n",
            "Epoch 8/20\n",
            "\u001b[1m2423/2423\u001b[0m \u001b[32m━━━━━━━━━━━━━━━━━━━━\u001b[0m\u001b[37m\u001b[0m \u001b[1m10s\u001b[0m 3ms/step - accuracy: 0.8425 - loss: 0.3486 - val_accuracy: 0.8480 - val_loss: 0.3417\n",
            "Epoch 9/20\n",
            "\u001b[1m2423/2423\u001b[0m \u001b[32m━━━━━━━━━━━━━━━━━━━━\u001b[0m\u001b[37m\u001b[0m \u001b[1m8s\u001b[0m 3ms/step - accuracy: 0.8449 - loss: 0.3461 - val_accuracy: 0.8488 - val_loss: 0.3433\n",
            "Epoch 10/20\n",
            "\u001b[1m2423/2423\u001b[0m \u001b[32m━━━━━━━━━━━━━━━━━━━━\u001b[0m\u001b[37m\u001b[0m \u001b[1m9s\u001b[0m 3ms/step - accuracy: 0.8467 - loss: 0.3411 - val_accuracy: 0.8518 - val_loss: 0.3351\n",
            "Epoch 11/20\n",
            "\u001b[1m2423/2423\u001b[0m \u001b[32m━━━━━━━━━━━━━━━━━━━━\u001b[0m\u001b[37m\u001b[0m \u001b[1m7s\u001b[0m 3ms/step - accuracy: 0.8508 - loss: 0.3357 - val_accuracy: 0.8529 - val_loss: 0.3373\n",
            "Epoch 12/20\n",
            "\u001b[1m2423/2423\u001b[0m \u001b[32m━━━━━━━━━━━━━━━━━━━━\u001b[0m\u001b[37m\u001b[0m \u001b[1m11s\u001b[0m 3ms/step - accuracy: 0.8503 - loss: 0.3330 - val_accuracy: 0.8517 - val_loss: 0.3361\n",
            "Epoch 13/20\n",
            "\u001b[1m2423/2423\u001b[0m \u001b[32m━━━━━━━━━━━━━━━━━━━━\u001b[0m\u001b[37m\u001b[0m \u001b[1m9s\u001b[0m 3ms/step - accuracy: 0.8516 - loss: 0.3326 - val_accuracy: 0.8529 - val_loss: 0.3314\n",
            "Epoch 14/20\n",
            "\u001b[1m2423/2423\u001b[0m \u001b[32m━━━━━━━━━━━━━━━━━━━━\u001b[0m\u001b[37m\u001b[0m \u001b[1m10s\u001b[0m 3ms/step - accuracy: 0.8527 - loss: 0.3311 - val_accuracy: 0.8519 - val_loss: 0.3307\n"
          ]
        }
      ]
    },
    {
      "cell_type": "code",
      "source": [
        "\n",
        "test_loss, test_accuracy = model.evaluate(X_test_def, y_test, batch_size=64)\n",
        "\n",
        "print(f\"Pérdida en el conjunto de test: {test_loss}\")\n",
        "print(f\"Precisión en el conjunto de test: {test_accuracy}\")"
      ],
      "metadata": {
        "colab": {
          "base_uri": "https://localhost:8080/"
        },
        "id": "UqK4fFHA0-zh",
        "outputId": "f8d3f482-4de0-4152-defb-50f43cf1d10a"
      },
      "execution_count": null,
      "outputs": [
        {
          "output_type": "stream",
          "name": "stdout",
          "text": [
            "\u001b[1m379/379\u001b[0m \u001b[32m━━━━━━━━━━━━━━━━━━━━\u001b[0m\u001b[37m\u001b[0m \u001b[1m1s\u001b[0m 3ms/step - accuracy: 0.8542 - loss: 0.3337\n",
            "Pérdida en el conjunto de test: 0.33631154894828796\n",
            "Precisión en el conjunto de test: 0.8527724146842957\n"
          ]
        }
      ]
    },
    {
      "cell_type": "code",
      "source": [
        "import numpy as np\n",
        "import random\n",
        "import tensorflow as tf\n",
        "from tensorflow.keras.models import Sequential\n",
        "from tensorflow.keras.layers import Embedding, Conv1D, MaxPooling1D, Flatten, LSTM, Dense, Dropout, BatchNormalization, Bidirectional\n",
        "from tensorflow.keras.callbacks import EarlyStopping\n",
        "\n",
        "# Parámetros\n",
        "max_len = X_train_def.shape[1]\n",
        "seed=42\n",
        "np.random.seed(seed)\n",
        "random.seed(seed)\n",
        "tf.random.set_seed(seed)\n",
        "\n",
        "model = Sequential()\n",
        "model.add(Embedding(input_dim=num_words, output_dim=embedding_dim, weights=[embedding_matrix_x_train], trainable=False, input_length=max_len))\n",
        "model.add(Dropout(0.25))\n",
        "model.add(Conv1D(128 , 3 , padding = 'same',activation = 'relu'))\n",
        "model.add(MaxPooling1D(2))\n",
        "model.add(Dropout(0.5))\n",
        "model.add(Conv1D(128 , 5 , padding = 'same',activation = 'relu'))\n",
        "model.add(MaxPooling1D(2))\n",
        "model.add(Dropout(0.5))\n",
        "\n",
        "model.add(Flatten())\n",
        "model.add(Dense(64, activation='relu'))\n",
        "\n",
        "model.add(Dense(1, activation='sigmoid'))\n",
        "\n",
        "from tensorflow.keras.optimizers import Adam\n",
        "optimizer = Adam(learning_rate=0.0005)  # Reducir el learning rate\n",
        "model.compile(loss='binary_crossentropy', optimizer=optimizer, metrics=['accuracy']) # Función de pérdida binaria\n",
        "\n",
        "# Definir Early Stopping\n",
        "early_stopping = EarlyStopping(monitor='val_accuracy', patience=3, restore_best_weights=True)\n",
        "\n",
        "# Entrenamiento con Early Stopping usando conjuntos de validación específicos\n",
        "history = model.fit(\n",
        "    X_train_def, y_train,\n",
        "    epochs=20,\n",
        "    batch_size=32,\n",
        "    validation_data=(X_val_def, y_val),  # Especifica los conjuntos de validación\n",
        "    callbacks=[early_stopping]\n",
        ")"
      ],
      "metadata": {
        "colab": {
          "base_uri": "https://localhost:8080/"
        },
        "id": "_XjYiKr106SK",
        "outputId": "f8b646c5-7e19-422c-9aa3-8341f9f2cb5e"
      },
      "execution_count": null,
      "outputs": [
        {
          "output_type": "stream",
          "name": "stdout",
          "text": [
            "Epoch 1/20\n",
            "\u001b[1m2423/2423\u001b[0m \u001b[32m━━━━━━━━━━━━━━━━━━━━\u001b[0m\u001b[37m\u001b[0m \u001b[1m15s\u001b[0m 5ms/step - accuracy: 0.7064 - loss: 0.5366 - val_accuracy: 0.8333 - val_loss: 0.3779\n",
            "Epoch 2/20\n",
            "\u001b[1m2423/2423\u001b[0m \u001b[32m━━━━━━━━━━━━━━━━━━━━\u001b[0m\u001b[37m\u001b[0m \u001b[1m15s\u001b[0m 3ms/step - accuracy: 0.8167 - loss: 0.3981 - val_accuracy: 0.8412 - val_loss: 0.3550\n",
            "Epoch 3/20\n",
            "\u001b[1m2423/2423\u001b[0m \u001b[32m━━━━━━━━━━━━━━━━━━━━\u001b[0m\u001b[37m\u001b[0m \u001b[1m7s\u001b[0m 3ms/step - accuracy: 0.8305 - loss: 0.3734 - val_accuracy: 0.8457 - val_loss: 0.3469\n",
            "Epoch 4/20\n",
            "\u001b[1m2423/2423\u001b[0m \u001b[32m━━━━━━━━━━━━━━━━━━━━\u001b[0m\u001b[37m\u001b[0m \u001b[1m8s\u001b[0m 3ms/step - accuracy: 0.8381 - loss: 0.3566 - val_accuracy: 0.8487 - val_loss: 0.3403\n",
            "Epoch 5/20\n",
            "\u001b[1m2423/2423\u001b[0m \u001b[32m━━━━━━━━━━━━━━━━━━━━\u001b[0m\u001b[37m\u001b[0m \u001b[1m7s\u001b[0m 3ms/step - accuracy: 0.8435 - loss: 0.3479 - val_accuracy: 0.8514 - val_loss: 0.3325\n",
            "Epoch 6/20\n",
            "\u001b[1m2423/2423\u001b[0m \u001b[32m━━━━━━━━━━━━━━━━━━━━\u001b[0m\u001b[37m\u001b[0m \u001b[1m8s\u001b[0m 3ms/step - accuracy: 0.8491 - loss: 0.3393 - val_accuracy: 0.8534 - val_loss: 0.3309\n",
            "Epoch 7/20\n",
            "\u001b[1m2423/2423\u001b[0m \u001b[32m━━━━━━━━━━━━━━━━━━━━\u001b[0m\u001b[37m\u001b[0m \u001b[1m8s\u001b[0m 3ms/step - accuracy: 0.8537 - loss: 0.3282 - val_accuracy: 0.8542 - val_loss: 0.3301\n",
            "Epoch 8/20\n",
            "\u001b[1m2423/2423\u001b[0m \u001b[32m━━━━━━━━━━━━━━━━━━━━\u001b[0m\u001b[37m\u001b[0m \u001b[1m10s\u001b[0m 3ms/step - accuracy: 0.8568 - loss: 0.3220 - val_accuracy: 0.8557 - val_loss: 0.3264\n",
            "Epoch 9/20\n",
            "\u001b[1m2423/2423\u001b[0m \u001b[32m━━━━━━━━━━━━━━━━━━━━\u001b[0m\u001b[37m\u001b[0m \u001b[1m10s\u001b[0m 3ms/step - accuracy: 0.8598 - loss: 0.3170 - val_accuracy: 0.8562 - val_loss: 0.3227\n",
            "Epoch 10/20\n",
            "\u001b[1m2423/2423\u001b[0m \u001b[32m━━━━━━━━━━━━━━━━━━━━\u001b[0m\u001b[37m\u001b[0m \u001b[1m11s\u001b[0m 3ms/step - accuracy: 0.8618 - loss: 0.3141 - val_accuracy: 0.8567 - val_loss: 0.3216\n",
            "Epoch 11/20\n",
            "\u001b[1m2423/2423\u001b[0m \u001b[32m━━━━━━━━━━━━━━━━━━━━\u001b[0m\u001b[37m\u001b[0m \u001b[1m8s\u001b[0m 3ms/step - accuracy: 0.8637 - loss: 0.3087 - val_accuracy: 0.8575 - val_loss: 0.3234\n",
            "Epoch 12/20\n",
            "\u001b[1m2423/2423\u001b[0m \u001b[32m━━━━━━━━━━━━━━━━━━━━\u001b[0m\u001b[37m\u001b[0m \u001b[1m7s\u001b[0m 3ms/step - accuracy: 0.8661 - loss: 0.3013 - val_accuracy: 0.8575 - val_loss: 0.3218\n",
            "Epoch 13/20\n",
            "\u001b[1m2423/2423\u001b[0m \u001b[32m━━━━━━━━━━━━━━━━━━━━\u001b[0m\u001b[37m\u001b[0m \u001b[1m8s\u001b[0m 3ms/step - accuracy: 0.8662 - loss: 0.3035 - val_accuracy: 0.8597 - val_loss: 0.3186\n",
            "Epoch 14/20\n",
            "\u001b[1m2423/2423\u001b[0m \u001b[32m━━━━━━━━━━━━━━━━━━━━\u001b[0m\u001b[37m\u001b[0m \u001b[1m7s\u001b[0m 3ms/step - accuracy: 0.8695 - loss: 0.2945 - val_accuracy: 0.8574 - val_loss: 0.3192\n",
            "Epoch 15/20\n",
            "\u001b[1m2423/2423\u001b[0m \u001b[32m━━━━━━━━━━━━━━━━━━━━\u001b[0m\u001b[37m\u001b[0m \u001b[1m8s\u001b[0m 3ms/step - accuracy: 0.8696 - loss: 0.2935 - val_accuracy: 0.8602 - val_loss: 0.3185\n",
            "Epoch 16/20\n",
            "\u001b[1m2423/2423\u001b[0m \u001b[32m━━━━━━━━━━━━━━━━━━━━\u001b[0m\u001b[37m\u001b[0m \u001b[1m9s\u001b[0m 3ms/step - accuracy: 0.8739 - loss: 0.2895 - val_accuracy: 0.8610 - val_loss: 0.3172\n",
            "Epoch 17/20\n",
            "\u001b[1m2423/2423\u001b[0m \u001b[32m━━━━━━━━━━━━━━━━━━━━\u001b[0m\u001b[37m\u001b[0m \u001b[1m8s\u001b[0m 3ms/step - accuracy: 0.8734 - loss: 0.2864 - val_accuracy: 0.8599 - val_loss: 0.3182\n",
            "Epoch 18/20\n",
            "\u001b[1m2423/2423\u001b[0m \u001b[32m━━━━━━━━━━━━━━━━━━━━\u001b[0m\u001b[37m\u001b[0m \u001b[1m9s\u001b[0m 4ms/step - accuracy: 0.8740 - loss: 0.2858 - val_accuracy: 0.8592 - val_loss: 0.3181\n",
            "Epoch 19/20\n",
            "\u001b[1m2423/2423\u001b[0m \u001b[32m━━━━━━━━━━━━━━━━━━━━\u001b[0m\u001b[37m\u001b[0m \u001b[1m9s\u001b[0m 3ms/step - accuracy: 0.8788 - loss: 0.2780 - val_accuracy: 0.8598 - val_loss: 0.3174\n"
          ]
        }
      ]
    },
    {
      "cell_type": "code",
      "source": [
        "\n",
        "test_loss, test_accuracy = model.evaluate(X_test_def, y_test, batch_size=64)\n",
        "\n",
        "print(f\"Pérdida en el conjunto de test: {test_loss}\")\n",
        "print(f\"Precisión en el conjunto de test: {test_accuracy}\")"
      ],
      "metadata": {
        "colab": {
          "base_uri": "https://localhost:8080/"
        },
        "id": "Q0fER7iB09XN",
        "outputId": "398e9f69-8106-4a62-9b15-7dfed52dcd14"
      },
      "execution_count": null,
      "outputs": [
        {
          "output_type": "stream",
          "name": "stdout",
          "text": [
            "\u001b[1m379/379\u001b[0m \u001b[32m━━━━━━━━━━━━━━━━━━━━\u001b[0m\u001b[37m\u001b[0m \u001b[1m2s\u001b[0m 3ms/step - accuracy: 0.8586 - loss: 0.3211\n",
            "Pérdida en el conjunto de test: 0.32200220227241516\n",
            "Precisión en el conjunto de test: 0.8590479493141174\n"
          ]
        }
      ]
    },
    {
      "cell_type": "code",
      "source": [
        "import numpy as np\n",
        "import random\n",
        "import tensorflow as tf\n",
        "from tensorflow.keras.models import Sequential\n",
        "from tensorflow.keras.layers import Embedding, Conv1D, MaxPooling1D, Flatten, LSTM, Dense, Dropout, BatchNormalization, Bidirectional\n",
        "from tensorflow.keras.callbacks import EarlyStopping\n",
        "\n",
        "# Parámetros\n",
        "max_len = X_train_def.shape[1]\n",
        "seed=42\n",
        "np.random.seed(seed)\n",
        "random.seed(seed)\n",
        "tf.random.set_seed(seed)\n",
        "\n",
        "model = Sequential()\n",
        "model.add(Embedding(input_dim=num_words, output_dim=embedding_dim, weights=[embedding_matrix_x_train], trainable=False, input_length=max_len))\n",
        "model.add(Dropout(0.25))\n",
        "model.add(Conv1D(256 , 3 , padding = 'same',activation = 'relu'))\n",
        "model.add(MaxPooling1D(2))\n",
        "model.add(Dropout(0.5))\n",
        "model.add(Conv1D(256 , 5 , padding = 'same',activation = 'relu'))\n",
        "model.add(MaxPooling1D(2))\n",
        "model.add(Dropout(0.5))\n",
        "\n",
        "model.add(Flatten())\n",
        "model.add(Dense(64, activation='relu'))\n",
        "\n",
        "model.add(Dense(1, activation='sigmoid'))\n",
        "\n",
        "from tensorflow.keras.optimizers import Adam\n",
        "optimizer = Adam(learning_rate=0.0005)  # Reducir el learning rate\n",
        "model.compile(loss='binary_crossentropy', optimizer=optimizer, metrics=['accuracy']) # Función de pérdida binaria\n",
        "\n",
        "# Definir Early Stopping\n",
        "early_stopping = EarlyStopping(monitor='val_accuracy', patience=3, restore_best_weights=True)\n",
        "\n",
        "# Entrenamiento con Early Stopping usando conjuntos de validación específicos\n",
        "history = model.fit(\n",
        "    X_train_def, y_train,\n",
        "    epochs=20,\n",
        "    batch_size=32,\n",
        "    validation_data=(X_val_def, y_val),  # Especifica los conjuntos de validación\n",
        "    callbacks=[early_stopping]\n",
        ")"
      ],
      "metadata": {
        "colab": {
          "base_uri": "https://localhost:8080/"
        },
        "id": "2veK4GIc1IFa",
        "outputId": "233c3642-fe60-46cb-92a7-98ce5f0b47a5"
      },
      "execution_count": null,
      "outputs": [
        {
          "output_type": "stream",
          "name": "stdout",
          "text": [
            "Epoch 1/20\n",
            "\u001b[1m2423/2423\u001b[0m \u001b[32m━━━━━━━━━━━━━━━━━━━━\u001b[0m\u001b[37m\u001b[0m \u001b[1m16s\u001b[0m 4ms/step - accuracy: 0.7260 - loss: 0.5167 - val_accuracy: 0.8337 - val_loss: 0.3714\n",
            "Epoch 2/20\n",
            "\u001b[1m2423/2423\u001b[0m \u001b[32m━━━━━━━━━━━━━━━━━━━━\u001b[0m\u001b[37m\u001b[0m \u001b[1m9s\u001b[0m 4ms/step - accuracy: 0.8233 - loss: 0.3862 - val_accuracy: 0.8449 - val_loss: 0.3474\n",
            "Epoch 3/20\n",
            "\u001b[1m2423/2423\u001b[0m \u001b[32m━━━━━━━━━━━━━━━━━━━━\u001b[0m\u001b[37m\u001b[0m \u001b[1m11s\u001b[0m 4ms/step - accuracy: 0.8377 - loss: 0.3581 - val_accuracy: 0.8471 - val_loss: 0.3402\n",
            "Epoch 4/20\n",
            "\u001b[1m2423/2423\u001b[0m \u001b[32m━━━━━━━━━━━━━━━━━━━━\u001b[0m\u001b[37m\u001b[0m \u001b[1m18s\u001b[0m 3ms/step - accuracy: 0.8429 - loss: 0.3422 - val_accuracy: 0.8480 - val_loss: 0.3332\n",
            "Epoch 5/20\n",
            "\u001b[1m2423/2423\u001b[0m \u001b[32m━━━━━━━━━━━━━━━━━━━━\u001b[0m\u001b[37m\u001b[0m \u001b[1m11s\u001b[0m 3ms/step - accuracy: 0.8531 - loss: 0.3265 - val_accuracy: 0.8546 - val_loss: 0.3267\n",
            "Epoch 6/20\n",
            "\u001b[1m2423/2423\u001b[0m \u001b[32m━━━━━━━━━━━━━━━━━━━━\u001b[0m\u001b[37m\u001b[0m \u001b[1m7s\u001b[0m 3ms/step - accuracy: 0.8596 - loss: 0.3181 - val_accuracy: 0.8549 - val_loss: 0.3260\n",
            "Epoch 7/20\n",
            "\u001b[1m2423/2423\u001b[0m \u001b[32m━━━━━━━━━━━━━━━━━━━━\u001b[0m\u001b[37m\u001b[0m \u001b[1m8s\u001b[0m 3ms/step - accuracy: 0.8647 - loss: 0.3075 - val_accuracy: 0.8558 - val_loss: 0.3226\n",
            "Epoch 8/20\n",
            "\u001b[1m2423/2423\u001b[0m \u001b[32m━━━━━━━━━━━━━━━━━━━━\u001b[0m\u001b[37m\u001b[0m \u001b[1m7s\u001b[0m 3ms/step - accuracy: 0.8684 - loss: 0.2984 - val_accuracy: 0.8552 - val_loss: 0.3229\n",
            "Epoch 9/20\n",
            "\u001b[1m2423/2423\u001b[0m \u001b[32m━━━━━━━━━━━━━━━━━━━━\u001b[0m\u001b[37m\u001b[0m \u001b[1m10s\u001b[0m 3ms/step - accuracy: 0.8711 - loss: 0.2903 - val_accuracy: 0.8596 - val_loss: 0.3172\n",
            "Epoch 10/20\n",
            "\u001b[1m2423/2423\u001b[0m \u001b[32m━━━━━━━━━━━━━━━━━━━━\u001b[0m\u001b[37m\u001b[0m \u001b[1m8s\u001b[0m 3ms/step - accuracy: 0.8761 - loss: 0.2825 - val_accuracy: 0.8569 - val_loss: 0.3231\n",
            "Epoch 11/20\n",
            "\u001b[1m2423/2423\u001b[0m \u001b[32m━━━━━━━━━━━━━━━━━━━━\u001b[0m\u001b[37m\u001b[0m \u001b[1m10s\u001b[0m 3ms/step - accuracy: 0.8777 - loss: 0.2780 - val_accuracy: 0.8588 - val_loss: 0.3183\n",
            "Epoch 12/20\n",
            "\u001b[1m2423/2423\u001b[0m \u001b[32m━━━━━━━━━━━━━━━━━━━━\u001b[0m\u001b[37m\u001b[0m \u001b[1m7s\u001b[0m 3ms/step - accuracy: 0.8800 - loss: 0.2728 - val_accuracy: 0.8590 - val_loss: 0.3209\n"
          ]
        }
      ]
    },
    {
      "cell_type": "code",
      "source": [
        "\n",
        "test_loss, test_accuracy = model.evaluate(X_test_def, y_test, batch_size=64)\n",
        "\n",
        "print(f\"Pérdida en el conjunto de test: {test_loss}\")\n",
        "print(f\"Precisión en el conjunto de test: {test_accuracy}\")"
      ],
      "metadata": {
        "colab": {
          "base_uri": "https://localhost:8080/"
        },
        "id": "IHr37UPQ5Bm9",
        "outputId": "23ab52de-bd76-4b2d-d073-00537d1daefe"
      },
      "execution_count": null,
      "outputs": [
        {
          "output_type": "stream",
          "name": "stdout",
          "text": [
            "\u001b[1m379/379\u001b[0m \u001b[32m━━━━━━━━━━━━━━━━━━━━\u001b[0m\u001b[37m\u001b[0m \u001b[1m1s\u001b[0m 2ms/step - accuracy: 0.8561 - loss: 0.3165\n",
            "Pérdida en el conjunto de test: 0.31919795274734497\n",
            "Precisión en el conjunto de test: 0.8571074604988098\n"
          ]
        }
      ]
    },
    {
      "cell_type": "code",
      "source": [
        "import numpy as np\n",
        "import random\n",
        "import tensorflow as tf\n",
        "from tensorflow.keras.models import Sequential\n",
        "from tensorflow.keras.layers import Embedding, Conv1D, MaxPooling1D, Flatten, LSTM, Dense, Dropout, BatchNormalization, Bidirectional\n",
        "from tensorflow.keras.callbacks import EarlyStopping\n",
        "\n",
        "# Parámetros\n",
        "max_len = X_train_def.shape[1]\n",
        "seed=42\n",
        "np.random.seed(seed)\n",
        "random.seed(seed)\n",
        "tf.random.set_seed(seed)\n",
        "\n",
        "model = Sequential()\n",
        "model.add(Embedding(input_dim=num_words, output_dim=embedding_dim, weights=[embedding_matrix_x_train], trainable=False, input_length=max_len))\n",
        "model.add(Dropout(0.25))\n",
        "model.add(Conv1D(128 , 3 , padding = 'same',activation = 'relu'))\n",
        "model.add(MaxPooling1D(2))\n",
        "model.add(Dropout(0.5))\n",
        "model.add(Conv1D(128 , 5 , padding = 'same',activation = 'relu'))\n",
        "model.add(MaxPooling1D(2))\n",
        "model.add(Dropout(0.5))\n",
        "\n",
        "model.add(Flatten())\n",
        "model.add(Dense(64, activation='relu'))\n",
        "\n",
        "model.add(Dense(1, activation='sigmoid'))\n",
        "\n",
        "from tensorflow.keras.optimizers import Adam\n",
        "optimizer = Adam(learning_rate=0.0005)  # Reducir el learning rate\n",
        "model.compile(loss='binary_crossentropy', optimizer=optimizer, metrics=['accuracy']) # Función de pérdida binaria\n",
        "\n",
        "# Definir Early Stopping\n",
        "early_stopping = EarlyStopping(monitor='val_accuracy', patience=3, restore_best_weights=True)\n",
        "\n",
        "# Entrenamiento con Early Stopping usando conjuntos de validación específicos\n",
        "history = model.fit(\n",
        "    X_train_def, y_train,\n",
        "    epochs=20,\n",
        "    batch_size=32,\n",
        "    validation_data=(X_val_def, y_val),  # Especifica los conjuntos de validación\n",
        "    callbacks=[early_stopping]\n",
        ")"
      ],
      "metadata": {
        "colab": {
          "base_uri": "https://localhost:8080/"
        },
        "id": "_6Zwfxsd6uXO",
        "outputId": "cf0e1f69-6ecf-433c-d679-7e7941341483"
      },
      "execution_count": null,
      "outputs": [
        {
          "output_type": "stream",
          "name": "stderr",
          "text": [
            "/usr/local/lib/python3.10/dist-packages/keras/src/layers/core/embedding.py:90: UserWarning: Argument `input_length` is deprecated. Just remove it.\n",
            "  warnings.warn(\n"
          ]
        },
        {
          "output_type": "stream",
          "name": "stdout",
          "text": [
            "Epoch 1/20\n",
            "\u001b[1m2423/2423\u001b[0m \u001b[32m━━━━━━━━━━━━━━━━━━━━\u001b[0m\u001b[37m\u001b[0m \u001b[1m17s\u001b[0m 5ms/step - accuracy: 0.7064 - loss: 0.5366 - val_accuracy: 0.8333 - val_loss: 0.3779\n",
            "Epoch 2/20\n",
            "\u001b[1m2423/2423\u001b[0m \u001b[32m━━━━━━━━━━━━━━━━━━━━\u001b[0m\u001b[37m\u001b[0m \u001b[1m13s\u001b[0m 3ms/step - accuracy: 0.8167 - loss: 0.3981 - val_accuracy: 0.8412 - val_loss: 0.3550\n",
            "Epoch 3/20\n",
            "\u001b[1m2423/2423\u001b[0m \u001b[32m━━━━━━━━━━━━━━━━━━━━\u001b[0m\u001b[37m\u001b[0m \u001b[1m9s\u001b[0m 3ms/step - accuracy: 0.8305 - loss: 0.3734 - val_accuracy: 0.8457 - val_loss: 0.3469\n",
            "Epoch 4/20\n",
            "\u001b[1m2423/2423\u001b[0m \u001b[32m━━━━━━━━━━━━━━━━━━━━\u001b[0m\u001b[37m\u001b[0m \u001b[1m8s\u001b[0m 3ms/step - accuracy: 0.8381 - loss: 0.3566 - val_accuracy: 0.8487 - val_loss: 0.3403\n",
            "Epoch 5/20\n",
            "\u001b[1m2423/2423\u001b[0m \u001b[32m━━━━━━━━━━━━━━━━━━━━\u001b[0m\u001b[37m\u001b[0m \u001b[1m12s\u001b[0m 4ms/step - accuracy: 0.8435 - loss: 0.3479 - val_accuracy: 0.8514 - val_loss: 0.3325\n",
            "Epoch 6/20\n",
            "\u001b[1m2423/2423\u001b[0m \u001b[32m━━━━━━━━━━━━━━━━━━━━\u001b[0m\u001b[37m\u001b[0m \u001b[1m7s\u001b[0m 3ms/step - accuracy: 0.8491 - loss: 0.3393 - val_accuracy: 0.8534 - val_loss: 0.3309\n",
            "Epoch 7/20\n",
            "\u001b[1m2423/2423\u001b[0m \u001b[32m━━━━━━━━━━━━━━━━━━━━\u001b[0m\u001b[37m\u001b[0m \u001b[1m8s\u001b[0m 3ms/step - accuracy: 0.8537 - loss: 0.3282 - val_accuracy: 0.8542 - val_loss: 0.3301\n",
            "Epoch 8/20\n",
            "\u001b[1m2423/2423\u001b[0m \u001b[32m━━━━━━━━━━━━━━━━━━━━\u001b[0m\u001b[37m\u001b[0m \u001b[1m10s\u001b[0m 3ms/step - accuracy: 0.8568 - loss: 0.3220 - val_accuracy: 0.8557 - val_loss: 0.3264\n",
            "Epoch 9/20\n",
            "\u001b[1m2423/2423\u001b[0m \u001b[32m━━━━━━━━━━━━━━━━━━━━\u001b[0m\u001b[37m\u001b[0m \u001b[1m8s\u001b[0m 3ms/step - accuracy: 0.8598 - loss: 0.3170 - val_accuracy: 0.8562 - val_loss: 0.3227\n",
            "Epoch 10/20\n",
            "\u001b[1m2423/2423\u001b[0m \u001b[32m━━━━━━━━━━━━━━━━━━━━\u001b[0m\u001b[37m\u001b[0m \u001b[1m10s\u001b[0m 3ms/step - accuracy: 0.8618 - loss: 0.3141 - val_accuracy: 0.8567 - val_loss: 0.3216\n",
            "Epoch 11/20\n",
            "\u001b[1m2423/2423\u001b[0m \u001b[32m━━━━━━━━━━━━━━━━━━━━\u001b[0m\u001b[37m\u001b[0m \u001b[1m7s\u001b[0m 3ms/step - accuracy: 0.8637 - loss: 0.3087 - val_accuracy: 0.8575 - val_loss: 0.3234\n",
            "Epoch 12/20\n",
            "\u001b[1m2423/2423\u001b[0m \u001b[32m━━━━━━━━━━━━━━━━━━━━\u001b[0m\u001b[37m\u001b[0m \u001b[1m8s\u001b[0m 3ms/step - accuracy: 0.8661 - loss: 0.3013 - val_accuracy: 0.8575 - val_loss: 0.3218\n",
            "Epoch 13/20\n",
            "\u001b[1m2423/2423\u001b[0m \u001b[32m━━━━━━━━━━━━━━━━━━━━\u001b[0m\u001b[37m\u001b[0m \u001b[1m7s\u001b[0m 3ms/step - accuracy: 0.8662 - loss: 0.3035 - val_accuracy: 0.8597 - val_loss: 0.3186\n",
            "Epoch 14/20\n",
            "\u001b[1m2423/2423\u001b[0m \u001b[32m━━━━━━━━━━━━━━━━━━━━\u001b[0m\u001b[37m\u001b[0m \u001b[1m8s\u001b[0m 3ms/step - accuracy: 0.8695 - loss: 0.2945 - val_accuracy: 0.8574 - val_loss: 0.3192\n",
            "Epoch 15/20\n",
            "\u001b[1m2423/2423\u001b[0m \u001b[32m━━━━━━━━━━━━━━━━━━━━\u001b[0m\u001b[37m\u001b[0m \u001b[1m7s\u001b[0m 3ms/step - accuracy: 0.8696 - loss: 0.2935 - val_accuracy: 0.8602 - val_loss: 0.3185\n",
            "Epoch 16/20\n",
            "\u001b[1m2423/2423\u001b[0m \u001b[32m━━━━━━━━━━━━━━━━━━━━\u001b[0m\u001b[37m\u001b[0m \u001b[1m10s\u001b[0m 3ms/step - accuracy: 0.8739 - loss: 0.2895 - val_accuracy: 0.8610 - val_loss: 0.3172\n",
            "Epoch 17/20\n",
            "\u001b[1m2423/2423\u001b[0m \u001b[32m━━━━━━━━━━━━━━━━━━━━\u001b[0m\u001b[37m\u001b[0m \u001b[1m8s\u001b[0m 3ms/step - accuracy: 0.8734 - loss: 0.2864 - val_accuracy: 0.8599 - val_loss: 0.3182\n",
            "Epoch 18/20\n",
            "\u001b[1m2423/2423\u001b[0m \u001b[32m━━━━━━━━━━━━━━━━━━━━\u001b[0m\u001b[37m\u001b[0m \u001b[1m7s\u001b[0m 3ms/step - accuracy: 0.8740 - loss: 0.2858 - val_accuracy: 0.8592 - val_loss: 0.3181\n",
            "Epoch 19/20\n",
            "\u001b[1m2423/2423\u001b[0m \u001b[32m━━━━━━━━━━━━━━━━━━━━\u001b[0m\u001b[37m\u001b[0m \u001b[1m8s\u001b[0m 3ms/step - accuracy: 0.8788 - loss: 0.2780 - val_accuracy: 0.8598 - val_loss: 0.3174\n"
          ]
        }
      ]
    },
    {
      "cell_type": "code",
      "source": [
        "\n",
        "test_loss, test_accuracy = model.evaluate(X_test_def, y_test, batch_size=64)\n",
        "\n",
        "print(f\"Pérdida en el conjunto de test: {test_loss}\")\n",
        "print(f\"Precisión en el conjunto de test: {test_accuracy}\")"
      ],
      "metadata": {
        "colab": {
          "base_uri": "https://localhost:8080/"
        },
        "id": "6lVANWw-8ZDs",
        "outputId": "7cf48f98-b68d-4d28-9edc-94110190e803"
      },
      "execution_count": null,
      "outputs": [
        {
          "output_type": "stream",
          "name": "stdout",
          "text": [
            "\u001b[1m379/379\u001b[0m \u001b[32m━━━━━━━━━━━━━━━━━━━━\u001b[0m\u001b[37m\u001b[0m \u001b[1m1s\u001b[0m 2ms/step - accuracy: 0.8586 - loss: 0.3211\n",
            "Pérdida en el conjunto de test: 0.32200220227241516\n",
            "Precisión en el conjunto de test: 0.8590479493141174\n"
          ]
        }
      ]
    },
    {
      "cell_type": "code",
      "source": [
        "import numpy as np\n",
        "import matplotlib.pyplot as plt\n",
        "import seaborn as sns\n",
        "from sklearn.metrics import confusion_matrix, classification_report, roc_auc_score, roc_curve\n",
        "from tensorflow.keras.models import load_model\n",
        "from tensorflow.keras.preprocessing.sequence import pad_sequences\n",
        "\n",
        "\n",
        "\n",
        "# Obtener las predicciones en el conjunto de test\n",
        "predictions = model.predict(X_test_def)\n",
        "\n",
        "# Para clasificación binaria, obtener las clases predichas\n",
        "predicted_classes = (predictions > 0.5).astype(\"int32\").flatten()  # Asumimos un umbral de 0.5\n",
        "\n",
        "# Calcular la matriz de confusión\n",
        "cm = confusion_matrix(y_test, predicted_classes)\n",
        "\n",
        "# Calcular métricas\n",
        "report = classification_report(y_test, predicted_classes)\n",
        "\n",
        "# Calcular el ROC AUC\n",
        "roc_auc = roc_auc_score(y_test, predictions.flatten())  # Usar el array 1D de probabilidades\n",
        "\n",
        "# Calcular FPR y TPR para la curva ROC\n",
        "fpr, tpr, thresholds = roc_curve(y_test, predictions.flatten())\n",
        "\n",
        "# Imprimir resultados\n",
        "print(\"Clasificación:\")\n",
        "print(report)\n",
        "print(f\"ROC AUC: {roc_auc:.2f}\")\n",
        "\n",
        "# Visualizar la matriz de confusión\n",
        "plt.figure(figsize=(8, 6))\n",
        "sns.heatmap(cm, annot=True, fmt='d', cmap='Blues',\n",
        "             xticklabels=['Negativo', 'Positivo'],\n",
        "             yticklabels=['Negativo', 'Positivo'])\n",
        "plt.ylabel('Etiquetas Verdaderas')\n",
        "plt.xlabel('Etiquetas Predichas')\n",
        "plt.title('Matriz de Confusión')\n",
        "plt.show()\n",
        "\n",
        "# Graficar la curva ROC\n",
        "plt.figure(figsize=(10, 6))\n",
        "plt.plot(fpr, tpr, color='blue', label='Curva ROC (AUC = %0.2f)' % roc_auc)\n",
        "plt.plot([0, 1], [0, 1], color='red', linestyle='--')  # Línea diagonal\n",
        "plt.xlim([0.0, 1.0])\n",
        "plt.ylim([0.0, 1.0])\n",
        "plt.xlabel('Tasa de Falsos Positivos')\n",
        "plt.ylabel('Tasa de Verdaderos Positivos')\n",
        "plt.title('Curva ROC')\n",
        "plt.legend(loc='lower right')\n",
        "plt.grid()\n",
        "plt.show()"
      ],
      "metadata": {
        "colab": {
          "base_uri": "https://localhost:8080/",
          "height": 1000
        },
        "id": "DhFI_qS968Iw",
        "outputId": "5c4eacad-15e8-4a3c-bdd6-ddaeb93d0c6e"
      },
      "execution_count": null,
      "outputs": [
        {
          "output_type": "stream",
          "name": "stdout",
          "text": [
            "\u001b[1m757/757\u001b[0m \u001b[32m━━━━━━━━━━━━━━━━━━━━\u001b[0m\u001b[37m\u001b[0m \u001b[1m1s\u001b[0m 2ms/step\n",
            "Clasificación:\n",
            "              precision    recall  f1-score   support\n",
            "\n",
            "           0       0.84      0.86      0.85     11190\n",
            "           1       0.88      0.86      0.87     13031\n",
            "\n",
            "    accuracy                           0.86     24221\n",
            "   macro avg       0.86      0.86      0.86     24221\n",
            "weighted avg       0.86      0.86      0.86     24221\n",
            "\n",
            "ROC AUC: 0.94\n"
          ]
        },
        {
          "output_type": "display_data",
          "data": {
            "text/plain": [
              "<Figure size 800x600 with 2 Axes>"
            ],
            "image/png": "[encoded data removed]"
          },
          "metadata": {}
        },
        {
          "output_type": "display_data",
          "data": {
            "text/plain": [
              "<Figure size 1000x600 with 1 Axes>"
            ],
            "image/png": "[encoded data removed]"
          },
          "metadata": {}
        }
      ]
    },
    {
      "cell_type": "code",
      "source": [
        "!pip install pydot graphviz\n",
        "from keras.utils import plot_model\n",
        "\n",
        "# Supongamos que tu modelo se llama 'model'\n",
        "plot_model(model, to_file='model.png', show_shapes=True, show_layer_names=True)\n"
      ],
      "metadata": {
        "colab": {
          "base_uri": "https://localhost:8080/",
          "height": 1000
        },
        "id": "DcAnhTaW7cjv",
        "outputId": "fdeceac6-e761-45fa-86b4-a0b11be1df60"
      },
      "execution_count": null,
      "outputs": [
        {
          "output_type": "stream",
          "name": "stdout",
          "text": [
            "Requirement already satisfied: pydot in /usr/local/lib/python3.10/dist-packages (3.0.1)\n",
            "Requirement already satisfied: graphviz in /usr/local/lib/python3.10/dist-packages (0.20.3)\n",
            "Requirement already satisfied: pyparsing>=3.0.9 in /usr/local/lib/python3.10/dist-packages (from pydot) (3.1.4)\n"
          ]
        },
        {
          "output_type": "execute_result",
          "data": {
            "image/png": "[encoded data removed]",
            "text/plain": [
              "<IPython.core.display.Image object>"
            ]
          },
          "metadata": {},
          "execution_count": 79
        }
      ]
    },
    {
      "cell_type": "code",
      "source": [
        "model.summary()"
      ],
      "metadata": {
        "colab": {
          "base_uri": "https://localhost:8080/",
          "height": 527
        },
        "id": "6wuJxu2F7e2Q",
        "outputId": "e9d76922-7358-43ae-8a30-39b80da17df6"
      },
      "execution_count": null,
      "outputs": [
        {
          "output_type": "display_data",
          "data": {
            "text/plain": [
              "\u001b[1mModel: \"sequential_30\"\u001b[0m\n"
            ],
            "text/html": [
              "<pre style=\"white-space:pre;overflow-x:auto;line-height:normal;font-family:Menlo,'DejaVu Sans Mono',consolas,'Courier New',monospace\"><span style=\"font-weight: bold\">Model: \"sequential_30\"</span>\n",
              "</pre>\n"
            ]
          },
          "metadata": {}
        },
        {
          "output_type": "display_data",
          "data": {
            "text/plain": [
              "┏━━━━━━━━━━━━━━━━━━━━━━━━━━━━━━━━━━━━━━┳━━━━━━━━━━━━━━━━━━━━━━━━━━━━━┳━━━━━━━━━━━━━━━━━┓\n",
              "┃\u001b[1m \u001b[0m\u001b[1mLayer (type)                        \u001b[0m\u001b[1m \u001b[0m┃\u001b[1m \u001b[0m\u001b[1mOutput Shape               \u001b[0m\u001b[1m \u001b[0m┃\u001b[1m \u001b[0m\u001b[1m        Param #\u001b[0m\u001b[1m \u001b[0m┃\n",
              "┡━━━━━━━━━━━━━━━━━━━━━━━━━━━━━━━━━━━━━━╇━━━━━━━━━━━━━━━━━━━━━━━━━━━━━╇━━━━━━━━━━━━━━━━━┩\n",
              "│ embedding_30 (\u001b[38;5;33mEmbedding\u001b[0m)             │ (\u001b[38;5;45mNone\u001b[0m, \u001b[38;5;34m25\u001b[0m, \u001b[38;5;34m400\u001b[0m)             │      \u001b[38;5;34m18,395,600\u001b[0m │\n",
              "├──────────────────────────────────────┼─────────────────────────────┼─────────────────┤\n",
              "│ dropout_76 (\u001b[38;5;33mDropout\u001b[0m)                 │ (\u001b[38;5;45mNone\u001b[0m, \u001b[38;5;34m25\u001b[0m, \u001b[38;5;34m400\u001b[0m)             │               \u001b[38;5;34m0\u001b[0m │\n",
              "├──────────────────────────────────────┼─────────────────────────────┼─────────────────┤\n",
              "│ conv1d_47 (\u001b[38;5;33mConv1D\u001b[0m)                   │ (\u001b[38;5;45mNone\u001b[0m, \u001b[38;5;34m25\u001b[0m, \u001b[38;5;34m128\u001b[0m)             │         \u001b[38;5;34m153,728\u001b[0m │\n",
              "├──────────────────────────────────────┼─────────────────────────────┼─────────────────┤\n",
              "│ max_pooling1d_47 (\u001b[38;5;33mMaxPooling1D\u001b[0m)      │ (\u001b[38;5;45mNone\u001b[0m, \u001b[38;5;34m12\u001b[0m, \u001b[38;5;34m128\u001b[0m)             │               \u001b[38;5;34m0\u001b[0m │\n",
              "├──────────────────────────────────────┼─────────────────────────────┼─────────────────┤\n",
              "│ dropout_77 (\u001b[38;5;33mDropout\u001b[0m)                 │ (\u001b[38;5;45mNone\u001b[0m, \u001b[38;5;34m12\u001b[0m, \u001b[38;5;34m128\u001b[0m)             │               \u001b[38;5;34m0\u001b[0m │\n",
              "├──────────────────────────────────────┼─────────────────────────────┼─────────────────┤\n",
              "│ conv1d_48 (\u001b[38;5;33mConv1D\u001b[0m)                   │ (\u001b[38;5;45mNone\u001b[0m, \u001b[38;5;34m12\u001b[0m, \u001b[38;5;34m128\u001b[0m)             │          \u001b[38;5;34m82,048\u001b[0m │\n",
              "├──────────────────────────────────────┼─────────────────────────────┼─────────────────┤\n",
              "│ max_pooling1d_48 (\u001b[38;5;33mMaxPooling1D\u001b[0m)      │ (\u001b[38;5;45mNone\u001b[0m, \u001b[38;5;34m6\u001b[0m, \u001b[38;5;34m128\u001b[0m)              │               \u001b[38;5;34m0\u001b[0m │\n",
              "├──────────────────────────────────────┼─────────────────────────────┼─────────────────┤\n",
              "│ dropout_78 (\u001b[38;5;33mDropout\u001b[0m)                 │ (\u001b[38;5;45mNone\u001b[0m, \u001b[38;5;34m6\u001b[0m, \u001b[38;5;34m128\u001b[0m)              │               \u001b[38;5;34m0\u001b[0m │\n",
              "├──────────────────────────────────────┼─────────────────────────────┼─────────────────┤\n",
              "│ flatten_30 (\u001b[38;5;33mFlatten\u001b[0m)                 │ (\u001b[38;5;45mNone\u001b[0m, \u001b[38;5;34m768\u001b[0m)                 │               \u001b[38;5;34m0\u001b[0m │\n",
              "├──────────────────────────────────────┼─────────────────────────────┼─────────────────┤\n",
              "│ dense_60 (\u001b[38;5;33mDense\u001b[0m)                     │ (\u001b[38;5;45mNone\u001b[0m, \u001b[38;5;34m64\u001b[0m)                  │          \u001b[38;5;34m49,216\u001b[0m │\n",
              "├──────────────────────────────────────┼─────────────────────────────┼─────────────────┤\n",
              "│ dense_61 (\u001b[38;5;33mDense\u001b[0m)                     │ (\u001b[38;5;45mNone\u001b[0m, \u001b[38;5;34m1\u001b[0m)                   │              \u001b[38;5;34m65\u001b[0m │\n",
              "└──────────────────────────────────────┴─────────────────────────────┴─────────────────┘\n"
            ],
            "text/html": [
              "<pre style=\"white-space:pre;overflow-x:auto;line-height:normal;font-family:Menlo,'DejaVu Sans Mono',consolas,'Courier New',monospace\">┏━━━━━━━━━━━━━━━━━━━━━━━━━━━━━━━━━━━━━━┳━━━━━━━━━━━━━━━━━━━━━━━━━━━━━┳━━━━━━━━━━━━━━━━━┓\n",
              "┃<span style=\"font-weight: bold\"> Layer (type)                         </span>┃<span style=\"font-weight: bold\"> Output Shape                </span>┃<span style=\"font-weight: bold\">         Param # </span>┃\n",
              "┡━━━━━━━━━━━━━━━━━━━━━━━━━━━━━━━━━━━━━━╇━━━━━━━━━━━━━━━━━━━━━━━━━━━━━╇━━━━━━━━━━━━━━━━━┩\n",
              "│ embedding_30 (<span style=\"color: #0087ff; text-decoration-color: #0087ff\">Embedding</span>)             │ (<span style=\"color: #00d7ff; text-decoration-color: #00d7ff\">None</span>, <span style=\"color: #00af00; text-decoration-color: #00af00\">25</span>, <span style=\"color: #00af00; text-decoration-color: #00af00\">400</span>)             │      <span style=\"color: #00af00; text-decoration-color: #00af00\">18,395,600</span> │\n",
              "├──────────────────────────────────────┼─────────────────────────────┼─────────────────┤\n",
              "│ dropout_76 (<span style=\"color: #0087ff; text-decoration-color: #0087ff\">Dropout</span>)                 │ (<span style=\"color: #00d7ff; text-decoration-color: #00d7ff\">None</span>, <span style=\"color: #00af00; text-decoration-color: #00af00\">25</span>, <span style=\"color: #00af00; text-decoration-color: #00af00\">400</span>)             │               <span style=\"color: #00af00; text-decoration-color: #00af00\">0</span> │\n",
              "├──────────────────────────────────────┼─────────────────────────────┼─────────────────┤\n",
              "│ conv1d_47 (<span style=\"color: #0087ff; text-decoration-color: #0087ff\">Conv1D</span>)                   │ (<span style=\"color: #00d7ff; text-decoration-color: #00d7ff\">None</span>, <span style=\"color: #00af00; text-decoration-color: #00af00\">25</span>, <span style=\"color: #00af00; text-decoration-color: #00af00\">128</span>)             │         <span style=\"color: #00af00; text-decoration-color: #00af00\">153,728</span> │\n",
              "├──────────────────────────────────────┼─────────────────────────────┼─────────────────┤\n",
              "│ max_pooling1d_47 (<span style=\"color: #0087ff; text-decoration-color: #0087ff\">MaxPooling1D</span>)      │ (<span style=\"color: #00d7ff; text-decoration-color: #00d7ff\">None</span>, <span style=\"color: #00af00; text-decoration-color: #00af00\">12</span>, <span style=\"color: #00af00; text-decoration-color: #00af00\">128</span>)             │               <span style=\"color: #00af00; text-decoration-color: #00af00\">0</span> │\n",
              "├──────────────────────────────────────┼─────────────────────────────┼─────────────────┤\n",
              "│ dropout_77 (<span style=\"color: #0087ff; text-decoration-color: #0087ff\">Dropout</span>)                 │ (<span style=\"color: #00d7ff; text-decoration-color: #00d7ff\">None</span>, <span style=\"color: #00af00; text-decoration-color: #00af00\">12</span>, <span style=\"color: #00af00; text-decoration-color: #00af00\">128</span>)             │               <span style=\"color: #00af00; text-decoration-color: #00af00\">0</span> │\n",
              "├──────────────────────────────────────┼─────────────────────────────┼─────────────────┤\n",
              "│ conv1d_48 (<span style=\"color: #0087ff; text-decoration-color: #0087ff\">Conv1D</span>)                   │ (<span style=\"color: #00d7ff; text-decoration-color: #00d7ff\">None</span>, <span style=\"color: #00af00; text-decoration-color: #00af00\">12</span>, <span style=\"color: #00af00; text-decoration-color: #00af00\">128</span>)             │          <span style=\"color: #00af00; text-decoration-color: #00af00\">82,048</span> │\n",
              "├──────────────────────────────────────┼─────────────────────────────┼─────────────────┤\n",
              "│ max_pooling1d_48 (<span style=\"color: #0087ff; text-decoration-color: #0087ff\">MaxPooling1D</span>)      │ (<span style=\"color: #00d7ff; text-decoration-color: #00d7ff\">None</span>, <span style=\"color: #00af00; text-decoration-color: #00af00\">6</span>, <span style=\"color: #00af00; text-decoration-color: #00af00\">128</span>)              │               <span style=\"color: #00af00; text-decoration-color: #00af00\">0</span> │\n",
              "├──────────────────────────────────────┼─────────────────────────────┼─────────────────┤\n",
              "│ dropout_78 (<span style=\"color: #0087ff; text-decoration-color: #0087ff\">Dropout</span>)                 │ (<span style=\"color: #00d7ff; text-decoration-color: #00d7ff\">None</span>, <span style=\"color: #00af00; text-decoration-color: #00af00\">6</span>, <span style=\"color: #00af00; text-decoration-color: #00af00\">128</span>)              │               <span style=\"color: #00af00; text-decoration-color: #00af00\">0</span> │\n",
              "├──────────────────────────────────────┼─────────────────────────────┼─────────────────┤\n",
              "│ flatten_30 (<span style=\"color: #0087ff; text-decoration-color: #0087ff\">Flatten</span>)                 │ (<span style=\"color: #00d7ff; text-decoration-color: #00d7ff\">None</span>, <span style=\"color: #00af00; text-decoration-color: #00af00\">768</span>)                 │               <span style=\"color: #00af00; text-decoration-color: #00af00\">0</span> │\n",
              "├──────────────────────────────────────┼─────────────────────────────┼─────────────────┤\n",
              "│ dense_60 (<span style=\"color: #0087ff; text-decoration-color: #0087ff\">Dense</span>)                     │ (<span style=\"color: #00d7ff; text-decoration-color: #00d7ff\">None</span>, <span style=\"color: #00af00; text-decoration-color: #00af00\">64</span>)                  │          <span style=\"color: #00af00; text-decoration-color: #00af00\">49,216</span> │\n",
              "├──────────────────────────────────────┼─────────────────────────────┼─────────────────┤\n",
              "│ dense_61 (<span style=\"color: #0087ff; text-decoration-color: #0087ff\">Dense</span>)                     │ (<span style=\"color: #00d7ff; text-decoration-color: #00d7ff\">None</span>, <span style=\"color: #00af00; text-decoration-color: #00af00\">1</span>)                   │              <span style=\"color: #00af00; text-decoration-color: #00af00\">65</span> │\n",
              "└──────────────────────────────────────┴─────────────────────────────┴─────────────────┘\n",
              "</pre>\n"
            ]
          },
          "metadata": {}
        },
        {
          "output_type": "display_data",
          "data": {
            "text/plain": [
              "\u001b[1m Total params: \u001b[0m\u001b[38;5;34m19,250,773\u001b[0m (73.44 MB)\n"
            ],
            "text/html": [
              "<pre style=\"white-space:pre;overflow-x:auto;line-height:normal;font-family:Menlo,'DejaVu Sans Mono',consolas,'Courier New',monospace\"><span style=\"font-weight: bold\"> Total params: </span><span style=\"color: #00af00; text-decoration-color: #00af00\">19,250,773</span> (73.44 MB)\n",
              "</pre>\n"
            ]
          },
          "metadata": {}
        },
        {
          "output_type": "display_data",
          "data": {
            "text/plain": [
              "\u001b[1m Trainable params: \u001b[0m\u001b[38;5;34m285,057\u001b[0m (1.09 MB)\n"
            ],
            "text/html": [
              "<pre style=\"white-space:pre;overflow-x:auto;line-height:normal;font-family:Menlo,'DejaVu Sans Mono',consolas,'Courier New',monospace\"><span style=\"font-weight: bold\"> Trainable params: </span><span style=\"color: #00af00; text-decoration-color: #00af00\">285,057</span> (1.09 MB)\n",
              "</pre>\n"
            ]
          },
          "metadata": {}
        },
        {
          "output_type": "display_data",
          "data": {
            "text/plain": [
              "\u001b[1m Non-trainable params: \u001b[0m\u001b[38;5;34m18,395,600\u001b[0m (70.17 MB)\n"
            ],
            "text/html": [
              "<pre style=\"white-space:pre;overflow-x:auto;line-height:normal;font-family:Menlo,'DejaVu Sans Mono',consolas,'Courier New',monospace\"><span style=\"font-weight: bold\"> Non-trainable params: </span><span style=\"color: #00af00; text-decoration-color: #00af00\">18,395,600</span> (70.17 MB)\n",
              "</pre>\n"
            ]
          },
          "metadata": {}
        },
        {
          "output_type": "display_data",
          "data": {
            "text/plain": [
              "\u001b[1m Optimizer params: \u001b[0m\u001b[38;5;34m570,116\u001b[0m (2.17 MB)\n"
            ],
            "text/html": [
              "<pre style=\"white-space:pre;overflow-x:auto;line-height:normal;font-family:Menlo,'DejaVu Sans Mono',consolas,'Courier New',monospace\"><span style=\"font-weight: bold\"> Optimizer params: </span><span style=\"color: #00af00; text-decoration-color: #00af00\">570,116</span> (2.17 MB)\n",
              "</pre>\n"
            ]
          },
          "metadata": {}
        }
      ]
    },
    {
      "cell_type": "code",
      "source": [
        "import numpy as np\n",
        "import random\n",
        "import tensorflow as tf\n",
        "from tensorflow.keras.models import Sequential\n",
        "from tensorflow.keras.layers import Embedding, Conv1D, MaxPooling1D, Flatten, LSTM, Dense, Dropout, BatchNormalization, Bidirectional\n",
        "from tensorflow.keras.callbacks import EarlyStopping\n",
        "\n",
        "# Parámetros\n",
        "max_len = X_train_def.shape[1]\n",
        "seed=42\n",
        "np.random.seed(seed)\n",
        "random.seed(seed)\n",
        "tf.random.set_seed(seed)\n",
        "\n",
        "model = Sequential()\n",
        "model.add(Embedding(input_dim=num_words, output_dim=embedding_dim, weights=[embedding_matrix_x_train], trainable=False, input_length=max_len))\n",
        "model.add(Dropout(0.25))\n",
        "model.add(Conv1D(128 , 5 , padding = 'same',activation = 'relu'))\n",
        "model.add(MaxPooling1D(2))\n",
        "model.add(Dropout(0.5))\n",
        "model.add(Conv1D(128 , 5 , padding = 'same',activation = 'relu'))\n",
        "model.add(MaxPooling1D(2))\n",
        "model.add(Dropout(0.5))\n",
        "\n",
        "model.add(Flatten())\n",
        "model.add(Dense(64, activation='relu'))\n",
        "\n",
        "model.add(Dense(1, activation='sigmoid'))\n",
        "\n",
        "from tensorflow.keras.optimizers import Adam\n",
        "optimizer = Adam(learning_rate=0.0005)  # Reducir el learning rate\n",
        "model.compile(loss='binary_crossentropy', optimizer=optimizer, metrics=['accuracy']) # Función de pérdida binaria\n",
        "\n",
        "# Definir Early Stopping\n",
        "early_stopping = EarlyStopping(monitor='val_accuracy', patience=3, restore_best_weights=True)\n",
        "\n",
        "# Entrenamiento con Early Stopping usando conjuntos de validación específicos\n",
        "history = model.fit(\n",
        "    X_train_def, y_train,\n",
        "    epochs=20,\n",
        "    batch_size=32,\n",
        "    validation_data=(X_val_def, y_val),  # Especifica los conjuntos de validación\n",
        "    callbacks=[early_stopping]\n",
        ")"
      ],
      "metadata": {
        "colab": {
          "base_uri": "https://localhost:8080/"
        },
        "id": "14ERUQsLDitO",
        "outputId": "e4a715ec-7fbd-4724-903b-3eff98349c01"
      },
      "execution_count": null,
      "outputs": [
        {
          "output_type": "stream",
          "name": "stderr",
          "text": [
            "/usr/local/lib/python3.10/dist-packages/keras/src/layers/core/embedding.py:90: UserWarning: Argument `input_length` is deprecated. Just remove it.\n",
            "  warnings.warn(\n"
          ]
        },
        {
          "output_type": "stream",
          "name": "stdout",
          "text": [
            "Epoch 1/20\n",
            "\u001b[1m2423/2423\u001b[0m \u001b[32m━━━━━━━━━━━━━━━━━━━━\u001b[0m\u001b[37m\u001b[0m \u001b[1m27s\u001b[0m 8ms/step - accuracy: 0.7140 - loss: 0.5308 - val_accuracy: 0.8225 - val_loss: 0.3880\n",
            "Epoch 2/20\n",
            "\u001b[1m2423/2423\u001b[0m \u001b[32m━━━━━━━━━━━━━━━━━━━━\u001b[0m\u001b[37m\u001b[0m \u001b[1m24s\u001b[0m 3ms/step - accuracy: 0.8148 - loss: 0.4018 - val_accuracy: 0.8358 - val_loss: 0.3649\n",
            "Epoch 3/20\n",
            "\u001b[1m2423/2423\u001b[0m \u001b[32m━━━━━━━━━━━━━━━━━━━━\u001b[0m\u001b[37m\u001b[0m \u001b[1m8s\u001b[0m 3ms/step - accuracy: 0.8294 - loss: 0.3726 - val_accuracy: 0.8444 - val_loss: 0.3511\n",
            "Epoch 4/20\n",
            "\u001b[1m2423/2423\u001b[0m \u001b[32m━━━━━━━━━━━━━━━━━━━━\u001b[0m\u001b[37m\u001b[0m \u001b[1m7s\u001b[0m 3ms/step - accuracy: 0.8386 - loss: 0.3572 - val_accuracy: 0.8492 - val_loss: 0.3423\n",
            "Epoch 5/20\n",
            "\u001b[1m2423/2423\u001b[0m \u001b[32m━━━━━━━━━━━━━━━━━━━━\u001b[0m\u001b[37m\u001b[0m \u001b[1m10s\u001b[0m 3ms/step - accuracy: 0.8470 - loss: 0.3412 - val_accuracy: 0.8500 - val_loss: 0.3395\n",
            "Epoch 6/20\n",
            "\u001b[1m2423/2423\u001b[0m \u001b[32m━━━━━━━━━━━━━━━━━━━━\u001b[0m\u001b[37m\u001b[0m \u001b[1m8s\u001b[0m 3ms/step - accuracy: 0.8505 - loss: 0.3311 - val_accuracy: 0.8507 - val_loss: 0.3374\n",
            "Epoch 7/20\n",
            "\u001b[1m2423/2423\u001b[0m \u001b[32m━━━━━━━━━━━━━━━━━━━━\u001b[0m\u001b[37m\u001b[0m \u001b[1m9s\u001b[0m 3ms/step - accuracy: 0.8585 - loss: 0.3232 - val_accuracy: 0.8516 - val_loss: 0.3345\n",
            "Epoch 8/20\n",
            "\u001b[1m2423/2423\u001b[0m \u001b[32m━━━━━━━━━━━━━━━━━━━━\u001b[0m\u001b[37m\u001b[0m \u001b[1m10s\u001b[0m 3ms/step - accuracy: 0.8648 - loss: 0.3095 - val_accuracy: 0.8506 - val_loss: 0.3321\n",
            "Epoch 9/20\n",
            "\u001b[1m2423/2423\u001b[0m \u001b[32m━━━━━━━━━━━━━━━━━━━━\u001b[0m\u001b[37m\u001b[0m \u001b[1m10s\u001b[0m 3ms/step - accuracy: 0.8675 - loss: 0.3018 - val_accuracy: 0.8534 - val_loss: 0.3292\n",
            "Epoch 10/20\n",
            "\u001b[1m2423/2423\u001b[0m \u001b[32m━━━━━━━━━━━━━━━━━━━━\u001b[0m\u001b[37m\u001b[0m \u001b[1m9s\u001b[0m 4ms/step - accuracy: 0.8694 - loss: 0.2978 - val_accuracy: 0.8524 - val_loss: 0.3299\n",
            "Epoch 11/20\n",
            "\u001b[1m2423/2423\u001b[0m \u001b[32m━━━━━━━━━━━━━━━━━━━━\u001b[0m\u001b[37m\u001b[0m \u001b[1m8s\u001b[0m 3ms/step - accuracy: 0.8729 - loss: 0.2884 - val_accuracy: 0.8537 - val_loss: 0.3289\n",
            "Epoch 12/20\n",
            "\u001b[1m2423/2423\u001b[0m \u001b[32m━━━━━━━━━━━━━━━━━━━━\u001b[0m\u001b[37m\u001b[0m \u001b[1m10s\u001b[0m 3ms/step - accuracy: 0.8768 - loss: 0.2819 - val_accuracy: 0.8560 - val_loss: 0.3268\n",
            "Epoch 13/20\n",
            "\u001b[1m2423/2423\u001b[0m \u001b[32m━━━━━━━━━━━━━━━━━━━━\u001b[0m\u001b[37m\u001b[0m \u001b[1m11s\u001b[0m 3ms/step - accuracy: 0.8813 - loss: 0.2785 - val_accuracy: 0.8520 - val_loss: 0.3281\n",
            "Epoch 14/20\n",
            "\u001b[1m2423/2423\u001b[0m \u001b[32m━━━━━━━━━━━━━━━━━━━━\u001b[0m\u001b[37m\u001b[0m \u001b[1m7s\u001b[0m 3ms/step - accuracy: 0.8818 - loss: 0.2729 - val_accuracy: 0.8532 - val_loss: 0.3277\n",
            "Epoch 15/20\n",
            "\u001b[1m2423/2423\u001b[0m \u001b[32m━━━━━━━━━━━━━━━━━━━━\u001b[0m\u001b[37m\u001b[0m \u001b[1m7s\u001b[0m 3ms/step - accuracy: 0.8869 - loss: 0.2620 - val_accuracy: 0.8548 - val_loss: 0.3266\n"
          ]
        }
      ]
    },
    {
      "cell_type": "code",
      "source": [
        "\n",
        "test_loss, test_accuracy = model.evaluate(X_test_def, y_test, batch_size=64)\n",
        "\n",
        "print(f\"Pérdida en el conjunto de test: {test_loss}\")\n",
        "print(f\"Precisión en el conjunto de test: {test_accuracy}\")"
      ],
      "metadata": {
        "colab": {
          "base_uri": "https://localhost:8080/"
        },
        "id": "5gU8ruWePjxK",
        "outputId": "50c56e19-1b09-429a-dd9e-30abdfe7a308"
      },
      "execution_count": null,
      "outputs": [
        {
          "output_type": "stream",
          "name": "stdout",
          "text": [
            "\u001b[1m379/379\u001b[0m \u001b[32m━━━━━━━━━━━━━━━━━━━━\u001b[0m\u001b[37m\u001b[0m \u001b[1m2s\u001b[0m 3ms/step - accuracy: 0.8516 - loss: 0.3310\n",
            "Pérdida en el conjunto de test: 0.333321213722229\n",
            "Precisión en el conjunto de test: 0.8510796427726746\n"
          ]
        }
      ]
    },
    {
      "cell_type": "code",
      "source": [
        "import numpy as np\n",
        "import random\n",
        "import tensorflow as tf\n",
        "from tensorflow.keras.models import Sequential\n",
        "from tensorflow.keras.layers import Embedding, Conv1D, MaxPooling1D, Flatten, LSTM, Dense, Dropout, BatchNormalization, Bidirectional\n",
        "from tensorflow.keras.callbacks import EarlyStopping\n",
        "\n",
        "# Parámetros\n",
        "max_len = X_train_def.shape[1]\n",
        "seed=42\n",
        "np.random.seed(seed)\n",
        "random.seed(seed)\n",
        "tf.random.set_seed(seed)\n",
        "\n",
        "model = Sequential()\n",
        "model.add(Embedding(input_dim=num_words, output_dim=embedding_dim, weights=[embedding_matrix_x_train], trainable=False, input_length=max_len))\n",
        "model.add(Dropout(0.25))\n",
        "model.add(Conv1D(64 , 5 , padding = 'same',activation = 'relu'))\n",
        "model.add(MaxPooling1D(2))\n",
        "model.add(Dropout(0.5))\n",
        "model.add(Conv1D(64 , 5 , padding = 'same',activation = 'relu'))\n",
        "model.add(MaxPooling1D(2))\n",
        "model.add(Dropout(0.5))\n",
        "\n",
        "model.add(Flatten())\n",
        "model.add(Dense(64, activation='relu'))\n",
        "\n",
        "model.add(Dense(1, activation='sigmoid'))\n",
        "\n",
        "from tensorflow.keras.optimizers import Adam\n",
        "optimizer = Adam(learning_rate=0.0005)  # Reducir el learning rate\n",
        "model.compile(loss='binary_crossentropy', optimizer=optimizer, metrics=['accuracy']) # Función de pérdida binaria\n",
        "\n",
        "# Definir Early Stopping\n",
        "early_stopping = EarlyStopping(monitor='val_accuracy', patience=3, restore_best_weights=True)\n",
        "\n",
        "# Entrenamiento con Early Stopping usando conjuntos de validación específicos\n",
        "history = model.fit(\n",
        "    X_train_def, y_train,\n",
        "    epochs=20,\n",
        "    batch_size=32,\n",
        "    validation_data=(X_val_def, y_val),  # Especifica los conjuntos de validación\n",
        "    callbacks=[early_stopping]\n",
        ")"
      ],
      "metadata": {
        "colab": {
          "base_uri": "https://localhost:8080/"
        },
        "id": "QZdD04brPmB2",
        "outputId": "1dbfef0a-b2c1-490a-ab20-3dcdac85e092"
      },
      "execution_count": null,
      "outputs": [
        {
          "output_type": "stream",
          "name": "stdout",
          "text": [
            "Epoch 1/20\n",
            "\u001b[1m2423/2423\u001b[0m \u001b[32m━━━━━━━━━━━━━━━━━━━━\u001b[0m\u001b[37m\u001b[0m \u001b[1m16s\u001b[0m 5ms/step - accuracy: 0.6961 - loss: 0.5555 - val_accuracy: 0.8235 - val_loss: 0.3951\n",
            "Epoch 2/20\n",
            "\u001b[1m2423/2423\u001b[0m \u001b[32m━━━━━━━━━━━━━━━━━━━━\u001b[0m\u001b[37m\u001b[0m \u001b[1m15s\u001b[0m 3ms/step - accuracy: 0.8079 - loss: 0.4123 - val_accuracy: 0.8375 - val_loss: 0.3709\n",
            "Epoch 3/20\n",
            "\u001b[1m2423/2423\u001b[0m \u001b[32m━━━━━━━━━━━━━━━━━━━━\u001b[0m\u001b[37m\u001b[0m \u001b[1m9s\u001b[0m 3ms/step - accuracy: 0.8224 - loss: 0.3860 - val_accuracy: 0.8418 - val_loss: 0.3579\n",
            "Epoch 4/20\n",
            "\u001b[1m2423/2423\u001b[0m \u001b[32m━━━━━━━━━━━━━━━━━━━━\u001b[0m\u001b[37m\u001b[0m \u001b[1m10s\u001b[0m 3ms/step - accuracy: 0.8321 - loss: 0.3731 - val_accuracy: 0.8461 - val_loss: 0.3514\n",
            "Epoch 5/20\n",
            "\u001b[1m2423/2423\u001b[0m \u001b[32m━━━━━━━━━━━━━━━━━━━━\u001b[0m\u001b[37m\u001b[0m \u001b[1m10s\u001b[0m 3ms/step - accuracy: 0.8396 - loss: 0.3591 - val_accuracy: 0.8453 - val_loss: 0.3483\n",
            "Epoch 6/20\n",
            "\u001b[1m2423/2423\u001b[0m \u001b[32m━━━━━━━━━━━━━━━━━━━━\u001b[0m\u001b[37m\u001b[0m \u001b[1m7s\u001b[0m 3ms/step - accuracy: 0.8407 - loss: 0.3525 - val_accuracy: 0.8469 - val_loss: 0.3438\n",
            "Epoch 7/20\n",
            "\u001b[1m2423/2423\u001b[0m \u001b[32m━━━━━━━━━━━━━━━━━━━━\u001b[0m\u001b[37m\u001b[0m \u001b[1m7s\u001b[0m 3ms/step - accuracy: 0.8487 - loss: 0.3432 - val_accuracy: 0.8483 - val_loss: 0.3417\n",
            "Epoch 8/20\n",
            "\u001b[1m2423/2423\u001b[0m \u001b[32m━━━━━━━━━━━━━━━━━━━━\u001b[0m\u001b[37m\u001b[0m \u001b[1m11s\u001b[0m 3ms/step - accuracy: 0.8497 - loss: 0.3372 - val_accuracy: 0.8494 - val_loss: 0.3422\n",
            "Epoch 9/20\n",
            "\u001b[1m2423/2423\u001b[0m \u001b[32m━━━━━━━━━━━━━━━━━━━━\u001b[0m\u001b[37m\u001b[0m \u001b[1m7s\u001b[0m 3ms/step - accuracy: 0.8522 - loss: 0.3332 - val_accuracy: 0.8493 - val_loss: 0.3363\n",
            "Epoch 10/20\n",
            "\u001b[1m2423/2423\u001b[0m \u001b[32m━━━━━━━━━━━━━━━━━━━━\u001b[0m\u001b[37m\u001b[0m \u001b[1m8s\u001b[0m 3ms/step - accuracy: 0.8536 - loss: 0.3270 - val_accuracy: 0.8514 - val_loss: 0.3353\n",
            "Epoch 11/20\n",
            "\u001b[1m2423/2423\u001b[0m \u001b[32m━━━━━━━━━━━━━━━━━━━━\u001b[0m\u001b[37m\u001b[0m \u001b[1m7s\u001b[0m 3ms/step - accuracy: 0.8573 - loss: 0.3216 - val_accuracy: 0.8508 - val_loss: 0.3374\n",
            "Epoch 12/20\n",
            "\u001b[1m2423/2423\u001b[0m \u001b[32m━━━━━━━━━━━━━━━━━━━━\u001b[0m\u001b[37m\u001b[0m \u001b[1m8s\u001b[0m 3ms/step - accuracy: 0.8587 - loss: 0.3183 - val_accuracy: 0.8519 - val_loss: 0.3343\n",
            "Epoch 13/20\n",
            "\u001b[1m2423/2423\u001b[0m \u001b[32m━━━━━━━━━━━━━━━━━━━━\u001b[0m\u001b[37m\u001b[0m \u001b[1m10s\u001b[0m 3ms/step - accuracy: 0.8600 - loss: 0.3170 - val_accuracy: 0.8506 - val_loss: 0.3340\n",
            "Epoch 14/20\n",
            "\u001b[1m2423/2423\u001b[0m \u001b[32m━━━━━━━━━━━━━━━━━━━━\u001b[0m\u001b[37m\u001b[0m \u001b[1m7s\u001b[0m 3ms/step - accuracy: 0.8626 - loss: 0.3124 - val_accuracy: 0.8522 - val_loss: 0.3321\n",
            "Epoch 15/20\n",
            "\u001b[1m2423/2423\u001b[0m \u001b[32m━━━━━━━━━━━━━━━━━━━━\u001b[0m\u001b[37m\u001b[0m \u001b[1m8s\u001b[0m 3ms/step - accuracy: 0.8677 - loss: 0.3050 - val_accuracy: 0.8499 - val_loss: 0.3334\n",
            "Epoch 16/20\n",
            "\u001b[1m2423/2423\u001b[0m \u001b[32m━━━━━━━━━━━━━━━━━━━━\u001b[0m\u001b[37m\u001b[0m \u001b[1m9s\u001b[0m 3ms/step - accuracy: 0.8682 - loss: 0.3039 - val_accuracy: 0.8522 - val_loss: 0.3338\n",
            "Epoch 17/20\n",
            "\u001b[1m2423/2423\u001b[0m \u001b[32m━━━━━━━━━━━━━━━━━━━━\u001b[0m\u001b[37m\u001b[0m \u001b[1m7s\u001b[0m 3ms/step - accuracy: 0.8672 - loss: 0.3038 - val_accuracy: 0.8522 - val_loss: 0.3325\n"
          ]
        }
      ]
    },
    {
      "cell_type": "code",
      "source": [
        "\n",
        "test_loss, test_accuracy = model.evaluate(X_test_def, y_test, batch_size=64)\n",
        "\n",
        "print(f\"Pérdida en el conjunto de test: {test_loss}\")\n",
        "print(f\"Precisión en el conjunto de test: {test_accuracy}\")"
      ],
      "metadata": {
        "colab": {
          "base_uri": "https://localhost:8080/"
        },
        "id": "cFJZr-0bPptl",
        "outputId": "33966513-335c-4419-d83a-b2c3b18086b1"
      },
      "execution_count": null,
      "outputs": [
        {
          "output_type": "stream",
          "name": "stdout",
          "text": [
            "\u001b[1m379/379\u001b[0m \u001b[32m━━━━━━━━━━━━━━━━━━━━\u001b[0m\u001b[37m\u001b[0m \u001b[1m1s\u001b[0m 2ms/step - accuracy: 0.8542 - loss: 0.3306\n",
            "Pérdida en el conjunto de test: 0.33371371030807495\n",
            "Precisión en el conjunto de test: 0.8523182272911072\n"
          ]
        }
      ]
    },
    {
      "cell_type": "code",
      "source": [],
      "metadata": {
        "id": "MDCx2iz6PrGi"
      },
      "execution_count": null,
      "outputs": []
    }
  ]
}